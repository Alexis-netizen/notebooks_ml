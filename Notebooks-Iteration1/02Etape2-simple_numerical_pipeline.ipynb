{
 "cells": [
  {
   "cell_type": "code",
   "execution_count": 2,
   "metadata": {},
   "outputs": [],
   "source": [
    "import pandas as pd\n",
    "import numpy as np\n",
    "%matplotlib inline"
   ]
  },
  {
   "cell_type": "markdown",
   "metadata": {},
   "source": [
    "## Load the clean trees data from saved pickle into the `trees` dataframe"
   ]
  },
  {
   "cell_type": "code",
   "execution_count": 3,
   "metadata": {},
   "outputs": [],
   "source": [
    "df = pd.read_pickle(\"../data/pickle/trees_first_clean.pkl\")"
   ]
  },
  {
   "cell_type": "markdown",
   "metadata": {},
   "source": [
    "List first 5 elements of the dataframe"
   ]
  },
  {
   "cell_type": "code",
   "execution_count": 4,
   "metadata": {},
   "outputs": [
    {
     "output_type": "execute_result",
     "data": {
      "text/plain": "   ELEM_POINT_ID      CODE SOUS_CATEGORIE SOUS_CATEGORIE_DESC CODE_PARENT  \\\n0          32215  ESP32919         ESP151     Arbre de voirie    ESP32840   \n1          32214  ESP32918         ESP151     Arbre de voirie    ESP32840   \n2          32213  ESP32917         ESP151     Arbre de voirie    ESP32840   \n3          32212  ESP32916         ESP151     Arbre de voirie    ESP32840   \n4          32211  ESP32915         ESP151     Arbre de voirie    ESP32840   \n\n                 CODE_PARENT_DESC  ADR_SECTEUR GENRE_BOTA     ESPECE  \\\n0  Crs Jaurès impair de PHD/ Lorr            2   Platanus   platanor   \n1  Crs Jaurès impair de PHD/ Lorr            2      Tilia  mongolica   \n2  Crs Jaurès impair de PHD/ Lorr            2      Malus    perpetu   \n3  Crs Jaurès impair de PHD/ Lorr            2   Platanus   platanor   \n4  Crs Jaurès impair de PHD/ Lorr            2      Tilia  mongolica   \n\n         VARIETE STADEDEDEVELOPPEMENT  ANNEEDEPLANTATION  \\\n0  Vallis clausa          Arbre jeune             2014.0   \n1            NaN          Arbre jeune             2014.0   \n2       Evereste          Arbre jeune             2014.0   \n3  Vallis clausa          Arbre jeune             2014.0   \n4            NaN          Arbre jeune             2014.0   \n\n               COLLECTIVITE   type  longitude   latitude  \n0  Grenoble Alpes Métropole  Point   5.719919  45.190237  \n1  Grenoble Alpes Métropole  Point   5.719994  45.190280  \n2  Grenoble Alpes Métropole  Point   5.720006  45.190322  \n3  Grenoble Alpes Métropole  Point   5.719959  45.190359  \n4  Grenoble Alpes Métropole  Point   5.720047  45.190442  ",
      "text/html": "<div>\n<style scoped>\n    .dataframe tbody tr th:only-of-type {\n        vertical-align: middle;\n    }\n\n    .dataframe tbody tr th {\n        vertical-align: top;\n    }\n\n    .dataframe thead th {\n        text-align: right;\n    }\n</style>\n<table border=\"1\" class=\"dataframe\">\n  <thead>\n    <tr style=\"text-align: right;\">\n      <th></th>\n      <th>ELEM_POINT_ID</th>\n      <th>CODE</th>\n      <th>SOUS_CATEGORIE</th>\n      <th>SOUS_CATEGORIE_DESC</th>\n      <th>CODE_PARENT</th>\n      <th>CODE_PARENT_DESC</th>\n      <th>ADR_SECTEUR</th>\n      <th>GENRE_BOTA</th>\n      <th>ESPECE</th>\n      <th>VARIETE</th>\n      <th>STADEDEDEVELOPPEMENT</th>\n      <th>ANNEEDEPLANTATION</th>\n      <th>COLLECTIVITE</th>\n      <th>type</th>\n      <th>longitude</th>\n      <th>latitude</th>\n    </tr>\n  </thead>\n  <tbody>\n    <tr>\n      <th>0</th>\n      <td>32215</td>\n      <td>ESP32919</td>\n      <td>ESP151</td>\n      <td>Arbre de voirie</td>\n      <td>ESP32840</td>\n      <td>Crs Jaurès impair de PHD/ Lorr</td>\n      <td>2</td>\n      <td>Platanus</td>\n      <td>platanor</td>\n      <td>Vallis clausa</td>\n      <td>Arbre jeune</td>\n      <td>2014.0</td>\n      <td>Grenoble Alpes Métropole</td>\n      <td>Point</td>\n      <td>5.719919</td>\n      <td>45.190237</td>\n    </tr>\n    <tr>\n      <th>1</th>\n      <td>32214</td>\n      <td>ESP32918</td>\n      <td>ESP151</td>\n      <td>Arbre de voirie</td>\n      <td>ESP32840</td>\n      <td>Crs Jaurès impair de PHD/ Lorr</td>\n      <td>2</td>\n      <td>Tilia</td>\n      <td>mongolica</td>\n      <td>NaN</td>\n      <td>Arbre jeune</td>\n      <td>2014.0</td>\n      <td>Grenoble Alpes Métropole</td>\n      <td>Point</td>\n      <td>5.719994</td>\n      <td>45.190280</td>\n    </tr>\n    <tr>\n      <th>2</th>\n      <td>32213</td>\n      <td>ESP32917</td>\n      <td>ESP151</td>\n      <td>Arbre de voirie</td>\n      <td>ESP32840</td>\n      <td>Crs Jaurès impair de PHD/ Lorr</td>\n      <td>2</td>\n      <td>Malus</td>\n      <td>perpetu</td>\n      <td>Evereste</td>\n      <td>Arbre jeune</td>\n      <td>2014.0</td>\n      <td>Grenoble Alpes Métropole</td>\n      <td>Point</td>\n      <td>5.720006</td>\n      <td>45.190322</td>\n    </tr>\n    <tr>\n      <th>3</th>\n      <td>32212</td>\n      <td>ESP32916</td>\n      <td>ESP151</td>\n      <td>Arbre de voirie</td>\n      <td>ESP32840</td>\n      <td>Crs Jaurès impair de PHD/ Lorr</td>\n      <td>2</td>\n      <td>Platanus</td>\n      <td>platanor</td>\n      <td>Vallis clausa</td>\n      <td>Arbre jeune</td>\n      <td>2014.0</td>\n      <td>Grenoble Alpes Métropole</td>\n      <td>Point</td>\n      <td>5.719959</td>\n      <td>45.190359</td>\n    </tr>\n    <tr>\n      <th>4</th>\n      <td>32211</td>\n      <td>ESP32915</td>\n      <td>ESP151</td>\n      <td>Arbre de voirie</td>\n      <td>ESP32840</td>\n      <td>Crs Jaurès impair de PHD/ Lorr</td>\n      <td>2</td>\n      <td>Tilia</td>\n      <td>mongolica</td>\n      <td>NaN</td>\n      <td>Arbre jeune</td>\n      <td>2014.0</td>\n      <td>Grenoble Alpes Métropole</td>\n      <td>Point</td>\n      <td>5.720047</td>\n      <td>45.190442</td>\n    </tr>\n  </tbody>\n</table>\n</div>"
     },
     "metadata": {},
     "execution_count": 4
    }
   ],
   "source": [
    "df.head(5)"
   ]
  },
  {
   "cell_type": "markdown",
   "metadata": {},
   "source": [
    "List the columns of the dataframe"
   ]
  },
  {
   "cell_type": "code",
   "execution_count": 5,
   "metadata": {},
   "outputs": [
    {
     "output_type": "execute_result",
     "data": {
      "text/plain": "Index(['ELEM_POINT_ID', 'CODE', 'SOUS_CATEGORIE', 'SOUS_CATEGORIE_DESC',\n       'CODE_PARENT', 'CODE_PARENT_DESC', 'ADR_SECTEUR', 'GENRE_BOTA',\n       'ESPECE', 'VARIETE', 'STADEDEDEVELOPPEMENT', 'ANNEEDEPLANTATION',\n       'COLLECTIVITE', 'type', 'longitude', 'latitude'],\n      dtype='object')"
     },
     "metadata": {},
     "execution_count": 5
    }
   ],
   "source": [
    "df.columns"
   ]
  },
  {
   "cell_type": "code",
   "execution_count": 6,
   "metadata": {},
   "outputs": [
    {
     "output_type": "execute_result",
     "data": {
      "text/plain": "(31400, 16)"
     },
     "metadata": {},
     "execution_count": 6
    }
   ],
   "source": [
    "df.shape"
   ]
  },
  {
   "cell_type": "markdown",
   "metadata": {},
   "source": [
    "# Make train test split"
   ]
  },
  {
   "cell_type": "markdown",
   "metadata": {},
   "source": [
    "#### Random split"
   ]
  },
  {
   "cell_type": "markdown",
   "metadata": {},
   "source": [
    "Import `train_test_split` from scikit-learn."
   ]
  },
  {
   "cell_type": "code",
   "execution_count": 7,
   "metadata": {},
   "outputs": [],
   "source": [
    "from sklearn.model_selection import train_test_split"
   ]
  },
  {
   "cell_type": "markdown",
   "metadata": {},
   "source": [
    "In the following we want to build a machine learning model that helps us predict the plantation year for different trees based on their characteristics.\n",
    "\n",
    "For this you have to first remove the column `ANNEEDEPLANTATION` from the dataframe and save the result in the variable `year`. Hint: use `pop`"
   ]
  },
  {
   "cell_type": "code",
   "execution_count": 8,
   "metadata": {},
   "outputs": [],
   "source": [
    "year = df.pop(\"ANNEEDEPLANTATION\")"
   ]
  },
  {
   "cell_type": "code",
   "execution_count": 9,
   "metadata": {},
   "outputs": [
    {
     "output_type": "execute_result",
     "data": {
      "text/plain": "Index(['ELEM_POINT_ID', 'CODE', 'SOUS_CATEGORIE', 'SOUS_CATEGORIE_DESC',\n       'CODE_PARENT', 'CODE_PARENT_DESC', 'ADR_SECTEUR', 'GENRE_BOTA',\n       'ESPECE', 'VARIETE', 'STADEDEDEVELOPPEMENT', 'COLLECTIVITE', 'type',\n       'longitude', 'latitude'],\n      dtype='object')"
     },
     "metadata": {},
     "execution_count": 9
    }
   ],
   "source": [
    "df.columns"
   ]
  },
  {
   "cell_type": "markdown",
   "metadata": {},
   "source": [
    "Split the `trees` and the `year` data into train and test partitions. Use seed=800.\n",
    "\n",
    "You must save the result in 4 variables: X_train (instances in the train set), X_test (instances in the test set), y_train (labels corresponding to the instances in the train set), y_test (labels corresponding to the instances in the test set).\n",
    "\n",
    "For clarifications, read the `train_test_split` documentation."
   ]
  },
  {
   "cell_type": "code",
   "execution_count": 10,
   "metadata": {},
   "outputs": [],
   "source": [
    "x_train,x_test,y_train,y_test = train_test_split(df,year,random_state=800)"
   ]
  },
  {
   "cell_type": "markdown",
   "metadata": {},
   "source": [
    "How many instanes are there in the train set?"
   ]
  },
  {
   "cell_type": "code",
   "execution_count": 11,
   "metadata": {},
   "outputs": [
    {
     "output_type": "execute_result",
     "data": {
      "text/plain": "(23550, 15)"
     },
     "metadata": {},
     "execution_count": 11
    }
   ],
   "source": [
    "x_train.shape"
   ]
  },
  {
   "cell_type": "code",
   "execution_count": 12,
   "metadata": {},
   "outputs": [
    {
     "output_type": "execute_result",
     "data": {
      "text/plain": "(23550,)"
     },
     "metadata": {},
     "execution_count": 12
    }
   ],
   "source": [
    "y_train.shape"
   ]
  },
  {
   "cell_type": "markdown",
   "metadata": {},
   "source": [
    "How many instances are there in the test set?"
   ]
  },
  {
   "cell_type": "code",
   "execution_count": 13,
   "metadata": {},
   "outputs": [
    {
     "output_type": "execute_result",
     "data": {
      "text/plain": "(7850, 15)"
     },
     "metadata": {},
     "execution_count": 13
    }
   ],
   "source": [
    "x_test.shape"
   ]
  },
  {
   "cell_type": "markdown",
   "metadata": {},
   "source": [
    "# Basic stats"
   ]
  },
  {
   "cell_type": "markdown",
   "metadata": {},
   "source": [
    "Display basic statistics on the train data (count, mean, std, etc.) - do it in one line! "
   ]
  },
  {
   "cell_type": "code",
   "execution_count": 14,
   "metadata": {},
   "outputs": [
    {
     "output_type": "execute_result",
     "data": {
      "text/plain": "count    23550.000000\nmean      1989.195414\nstd         17.070186\nmin       1924.000000\n25%       1975.000000\n50%       1985.000000\n75%       2004.000000\nmax       2019.000000\nName: ANNEEDEPLANTATION, dtype: float64"
     },
     "metadata": {},
     "execution_count": 14
    }
   ],
   "source": [
    "y_train.describe()"
   ]
  },
  {
   "cell_type": "code",
   "execution_count": 15,
   "metadata": {},
   "outputs": [
    {
     "output_type": "execute_result",
     "data": {
      "text/plain": "       ELEM_POINT_ID   ADR_SECTEUR     longitude      latitude\ncount   23550.000000  23550.000000  23550.000000  23550.000000\nmean    18363.025520      3.859830      5.727327     45.176859\nstd     11045.924091      1.697496      0.012859      0.011904\nmin         1.000000      1.000000      5.697915     45.151572\n25%      8958.250000      2.000000      5.717535     45.165925\n50%     17889.500000      4.000000      5.729574     45.175541\n75%     27029.750000      5.000000      5.737341     45.186669\nmax     43041.000000      6.000000      5.798704     45.224825",
      "text/html": "<div>\n<style scoped>\n    .dataframe tbody tr th:only-of-type {\n        vertical-align: middle;\n    }\n\n    .dataframe tbody tr th {\n        vertical-align: top;\n    }\n\n    .dataframe thead th {\n        text-align: right;\n    }\n</style>\n<table border=\"1\" class=\"dataframe\">\n  <thead>\n    <tr style=\"text-align: right;\">\n      <th></th>\n      <th>ELEM_POINT_ID</th>\n      <th>ADR_SECTEUR</th>\n      <th>longitude</th>\n      <th>latitude</th>\n    </tr>\n  </thead>\n  <tbody>\n    <tr>\n      <th>count</th>\n      <td>23550.000000</td>\n      <td>23550.000000</td>\n      <td>23550.000000</td>\n      <td>23550.000000</td>\n    </tr>\n    <tr>\n      <th>mean</th>\n      <td>18363.025520</td>\n      <td>3.859830</td>\n      <td>5.727327</td>\n      <td>45.176859</td>\n    </tr>\n    <tr>\n      <th>std</th>\n      <td>11045.924091</td>\n      <td>1.697496</td>\n      <td>0.012859</td>\n      <td>0.011904</td>\n    </tr>\n    <tr>\n      <th>min</th>\n      <td>1.000000</td>\n      <td>1.000000</td>\n      <td>5.697915</td>\n      <td>45.151572</td>\n    </tr>\n    <tr>\n      <th>25%</th>\n      <td>8958.250000</td>\n      <td>2.000000</td>\n      <td>5.717535</td>\n      <td>45.165925</td>\n    </tr>\n    <tr>\n      <th>50%</th>\n      <td>17889.500000</td>\n      <td>4.000000</td>\n      <td>5.729574</td>\n      <td>45.175541</td>\n    </tr>\n    <tr>\n      <th>75%</th>\n      <td>27029.750000</td>\n      <td>5.000000</td>\n      <td>5.737341</td>\n      <td>45.186669</td>\n    </tr>\n    <tr>\n      <th>max</th>\n      <td>43041.000000</td>\n      <td>6.000000</td>\n      <td>5.798704</td>\n      <td>45.224825</td>\n    </tr>\n  </tbody>\n</table>\n</div>"
     },
     "metadata": {},
     "execution_count": 15
    }
   ],
   "source": [
    "x_train.describe()"
   ]
  },
  {
   "cell_type": "markdown",
   "metadata": {},
   "source": [
    "Display basic statistics on the test data (count, mean, std, etc.) - do it in one line! "
   ]
  },
  {
   "cell_type": "code",
   "execution_count": 16,
   "metadata": {},
   "outputs": [
    {
     "output_type": "execute_result",
     "data": {
      "text/plain": "count    7850.000000\nmean     1989.099745\nstd        17.129787\nmin      1924.000000\n25%      1975.000000\n50%      1985.000000\n75%      2003.000000\nmax      2019.000000\nName: ANNEEDEPLANTATION, dtype: float64"
     },
     "metadata": {},
     "execution_count": 16
    }
   ],
   "source": [
    "y_test.describe()"
   ]
  },
  {
   "cell_type": "markdown",
   "metadata": {},
   "source": [
    "Display the distribution of the labels in the train set using a histogram with 50 bins. Do not call matplotlib explicitly."
   ]
  },
  {
   "cell_type": "code",
   "execution_count": 17,
   "metadata": {},
   "outputs": [
    {
     "output_type": "execute_result",
     "data": {
      "text/plain": "array([[<matplotlib.axes._subplots.AxesSubplot object at 0x7f0dd0f3fed0>,\n        <matplotlib.axes._subplots.AxesSubplot object at 0x7f0dd0220b50>],\n       [<matplotlib.axes._subplots.AxesSubplot object at 0x7f0dd025fed0>,\n        <matplotlib.axes._subplots.AxesSubplot object at 0x7f0dd0214b90>]],\n      dtype=object)"
     },
     "metadata": {},
     "execution_count": 17
    },
    {
     "output_type": "display_data",
     "data": {
      "text/plain": "<Figure size 432x288 with 4 Axes>",
      "image/svg+xml": "<?xml version=\"1.0\" encoding=\"utf-8\" standalone=\"no\"?>\n<!DOCTYPE svg PUBLIC \"-//W3C//DTD SVG 1.1//EN\"\n  \"http://www.w3.org/Graphics/SVG/1.1/DTD/svg11.dtd\">\n<!-- Created with matplotlib (https://matplotlib.org/) -->\n<svg height=\"263.424375pt\" version=\"1.1\" viewBox=\"0 0 387.867967 263.424375\" width=\"387.867967pt\" xmlns=\"http://www.w3.org/2000/svg\" xmlns:xlink=\"http://www.w3.org/1999/xlink\">\n <defs>\n  <style type=\"text/css\">\n*{stroke-linecap:butt;stroke-linejoin:round;}\n  </style>\n </defs>\n <g id=\"figure_1\">\n  <g id=\"patch_1\">\n   <path d=\"M -0 263.424375 \nL 387.867967 263.424375 \nL 387.867967 0 \nL -0 0 \nz\n\" style=\"fill:none;\"/>\n  </g>\n  <g id=\"axes_1\">\n   <g id=\"patch_2\">\n    <path d=\"M 39.65 116.64538 \nL 185.215217 116.64538 \nL 185.215217 22.10625 \nL 39.65 22.10625 \nz\n\" style=\"fill:#ffffff;\"/>\n   </g>\n   <g id=\"patch_3\">\n    <path clip-path=\"url(#p8344727810)\" d=\"M 46.266601 116.64538 \nL 48.913241 116.64538 \nL 48.913241 79.365625 \nL 46.266601 79.365625 \nz\n\" style=\"fill:#1f77b4;\"/>\n   </g>\n   <g id=\"patch_4\">\n    <path clip-path=\"url(#p8344727810)\" d=\"M 48.913241 116.64538 \nL 51.559881 116.64538 \nL 51.559881 116.64538 \nL 48.913241 116.64538 \nz\n\" style=\"fill:#1f77b4;\"/>\n   </g>\n   <g id=\"patch_5\">\n    <path clip-path=\"url(#p8344727810)\" d=\"M 51.559881 116.64538 \nL 54.206522 116.64538 \nL 54.206522 116.64538 \nL 51.559881 116.64538 \nz\n\" style=\"fill:#1f77b4;\"/>\n   </g>\n   <g id=\"patch_6\">\n    <path clip-path=\"url(#p8344727810)\" d=\"M 54.206522 116.64538 \nL 56.853162 116.64538 \nL 56.853162 116.64538 \nL 54.206522 116.64538 \nz\n\" style=\"fill:#1f77b4;\"/>\n   </g>\n   <g id=\"patch_7\">\n    <path clip-path=\"url(#p8344727810)\" d=\"M 56.853162 116.64538 \nL 59.499802 116.64538 \nL 59.499802 116.64538 \nL 56.853162 116.64538 \nz\n\" style=\"fill:#1f77b4;\"/>\n   </g>\n   <g id=\"patch_8\">\n    <path clip-path=\"url(#p8344727810)\" d=\"M 59.499802 116.64538 \nL 62.146443 116.64538 \nL 62.146443 116.64538 \nL 59.499802 116.64538 \nz\n\" style=\"fill:#1f77b4;\"/>\n   </g>\n   <g id=\"patch_9\">\n    <path clip-path=\"url(#p8344727810)\" d=\"M 62.146443 116.64538 \nL 64.793083 116.64538 \nL 64.793083 116.64538 \nL 62.146443 116.64538 \nz\n\" style=\"fill:#1f77b4;\"/>\n   </g>\n   <g id=\"patch_10\">\n    <path clip-path=\"url(#p8344727810)\" d=\"M 64.793083 116.64538 \nL 67.439723 116.64538 \nL 67.439723 116.64538 \nL 64.793083 116.64538 \nz\n\" style=\"fill:#1f77b4;\"/>\n   </g>\n   <g id=\"patch_11\">\n    <path clip-path=\"url(#p8344727810)\" d=\"M 67.439723 116.64538 \nL 70.086364 116.64538 \nL 70.086364 116.64538 \nL 67.439723 116.64538 \nz\n\" style=\"fill:#1f77b4;\"/>\n   </g>\n   <g id=\"patch_12\">\n    <path clip-path=\"url(#p8344727810)\" d=\"M 70.086364 116.64538 \nL 72.733004 116.64538 \nL 72.733004 116.64538 \nL 70.086364 116.64538 \nz\n\" style=\"fill:#1f77b4;\"/>\n   </g>\n   <g id=\"patch_13\">\n    <path clip-path=\"url(#p8344727810)\" d=\"M 72.733004 116.64538 \nL 75.379644 116.64538 \nL 75.379644 41.553301 \nL 72.733004 41.553301 \nz\n\" style=\"fill:#1f77b4;\"/>\n   </g>\n   <g id=\"patch_14\">\n    <path clip-path=\"url(#p8344727810)\" d=\"M 75.379644 116.64538 \nL 78.026285 116.64538 \nL 78.026285 116.64538 \nL 75.379644 116.64538 \nz\n\" style=\"fill:#1f77b4;\"/>\n   </g>\n   <g id=\"patch_15\">\n    <path clip-path=\"url(#p8344727810)\" d=\"M 78.026285 116.64538 \nL 80.672925 116.64538 \nL 80.672925 116.64538 \nL 78.026285 116.64538 \nz\n\" style=\"fill:#1f77b4;\"/>\n   </g>\n   <g id=\"patch_16\">\n    <path clip-path=\"url(#p8344727810)\" d=\"M 80.672925 116.64538 \nL 83.319565 116.64538 \nL 83.319565 116.64538 \nL 80.672925 116.64538 \nz\n\" style=\"fill:#1f77b4;\"/>\n   </g>\n   <g id=\"patch_17\">\n    <path clip-path=\"url(#p8344727810)\" d=\"M 83.319565 116.64538 \nL 85.966206 116.64538 \nL 85.966206 116.64538 \nL 83.319565 116.64538 \nz\n\" style=\"fill:#1f77b4;\"/>\n   </g>\n   <g id=\"patch_18\">\n    <path clip-path=\"url(#p8344727810)\" d=\"M 85.966206 116.64538 \nL 88.612846 116.64538 \nL 88.612846 116.64538 \nL 85.966206 116.64538 \nz\n\" style=\"fill:#1f77b4;\"/>\n   </g>\n   <g id=\"patch_19\">\n    <path clip-path=\"url(#p8344727810)\" d=\"M 88.612846 116.64538 \nL 91.259486 116.64538 \nL 91.259486 116.64538 \nL 88.612846 116.64538 \nz\n\" style=\"fill:#1f77b4;\"/>\n   </g>\n   <g id=\"patch_20\">\n    <path clip-path=\"url(#p8344727810)\" d=\"M 91.259486 116.64538 \nL 93.906126 116.64538 \nL 93.906126 116.64538 \nL 91.259486 116.64538 \nz\n\" style=\"fill:#1f77b4;\"/>\n   </g>\n   <g id=\"patch_21\">\n    <path clip-path=\"url(#p8344727810)\" d=\"M 93.906126 116.64538 \nL 96.552767 116.64538 \nL 96.552767 116.64538 \nL 93.906126 116.64538 \nz\n\" style=\"fill:#1f77b4;\"/>\n   </g>\n   <g id=\"patch_22\">\n    <path clip-path=\"url(#p8344727810)\" d=\"M 96.552767 116.64538 \nL 99.199407 116.64538 \nL 99.199407 116.64538 \nL 96.552767 116.64538 \nz\n\" style=\"fill:#1f77b4;\"/>\n   </g>\n   <g id=\"patch_23\">\n    <path clip-path=\"url(#p8344727810)\" d=\"M 99.199407 116.64538 \nL 101.846047 116.64538 \nL 101.846047 59.660611 \nL 99.199407 59.660611 \nz\n\" style=\"fill:#1f77b4;\"/>\n   </g>\n   <g id=\"patch_24\">\n    <path clip-path=\"url(#p8344727810)\" d=\"M 101.846047 116.64538 \nL 104.492688 116.64538 \nL 104.492688 116.64538 \nL 101.846047 116.64538 \nz\n\" style=\"fill:#1f77b4;\"/>\n   </g>\n   <g id=\"patch_25\">\n    <path clip-path=\"url(#p8344727810)\" d=\"M 104.492688 116.64538 \nL 107.139328 116.64538 \nL 107.139328 116.64538 \nL 104.492688 116.64538 \nz\n\" style=\"fill:#1f77b4;\"/>\n   </g>\n   <g id=\"patch_26\">\n    <path clip-path=\"url(#p8344727810)\" d=\"M 107.139328 116.64538 \nL 109.785968 116.64538 \nL 109.785968 116.64538 \nL 107.139328 116.64538 \nz\n\" style=\"fill:#1f77b4;\"/>\n   </g>\n   <g id=\"patch_27\">\n    <path clip-path=\"url(#p8344727810)\" d=\"M 109.785968 116.64538 \nL 112.432609 116.64538 \nL 112.432609 116.64538 \nL 109.785968 116.64538 \nz\n\" style=\"fill:#1f77b4;\"/>\n   </g>\n   <g id=\"patch_28\">\n    <path clip-path=\"url(#p8344727810)\" d=\"M 112.432609 116.64538 \nL 115.079249 116.64538 \nL 115.079249 116.64538 \nL 112.432609 116.64538 \nz\n\" style=\"fill:#1f77b4;\"/>\n   </g>\n   <g id=\"patch_29\">\n    <path clip-path=\"url(#p8344727810)\" d=\"M 115.079249 116.64538 \nL 117.725889 116.64538 \nL 117.725889 116.64538 \nL 115.079249 116.64538 \nz\n\" style=\"fill:#1f77b4;\"/>\n   </g>\n   <g id=\"patch_30\">\n    <path clip-path=\"url(#p8344727810)\" d=\"M 117.725889 116.64538 \nL 120.37253 116.64538 \nL 120.37253 116.64538 \nL 117.725889 116.64538 \nz\n\" style=\"fill:#1f77b4;\"/>\n   </g>\n   <g id=\"patch_31\">\n    <path clip-path=\"url(#p8344727810)\" d=\"M 120.37253 116.64538 \nL 123.01917 116.64538 \nL 123.01917 116.64538 \nL 120.37253 116.64538 \nz\n\" style=\"fill:#1f77b4;\"/>\n   </g>\n   <g id=\"patch_32\">\n    <path clip-path=\"url(#p8344727810)\" d=\"M 123.01917 116.64538 \nL 125.66581 116.64538 \nL 125.66581 116.64538 \nL 123.01917 116.64538 \nz\n\" style=\"fill:#1f77b4;\"/>\n   </g>\n   <g id=\"patch_33\">\n    <path clip-path=\"url(#p8344727810)\" d=\"M 125.66581 116.64538 \nL 128.312451 116.64538 \nL 128.312451 68.098484 \nL 125.66581 68.098484 \nz\n\" style=\"fill:#1f77b4;\"/>\n   </g>\n   <g id=\"patch_34\">\n    <path clip-path=\"url(#p8344727810)\" d=\"M 128.312451 116.64538 \nL 130.959091 116.64538 \nL 130.959091 116.64538 \nL 128.312451 116.64538 \nz\n\" style=\"fill:#1f77b4;\"/>\n   </g>\n   <g id=\"patch_35\">\n    <path clip-path=\"url(#p8344727810)\" d=\"M 130.959091 116.64538 \nL 133.605731 116.64538 \nL 133.605731 116.64538 \nL 130.959091 116.64538 \nz\n\" style=\"fill:#1f77b4;\"/>\n   </g>\n   <g id=\"patch_36\">\n    <path clip-path=\"url(#p8344727810)\" d=\"M 133.605731 116.64538 \nL 136.252372 116.64538 \nL 136.252372 116.64538 \nL 133.605731 116.64538 \nz\n\" style=\"fill:#1f77b4;\"/>\n   </g>\n   <g id=\"patch_37\">\n    <path clip-path=\"url(#p8344727810)\" d=\"M 136.252372 116.64538 \nL 138.899012 116.64538 \nL 138.899012 116.64538 \nL 136.252372 116.64538 \nz\n\" style=\"fill:#1f77b4;\"/>\n   </g>\n   <g id=\"patch_38\">\n    <path clip-path=\"url(#p8344727810)\" d=\"M 138.899012 116.64538 \nL 141.545652 116.64538 \nL 141.545652 116.64538 \nL 138.899012 116.64538 \nz\n\" style=\"fill:#1f77b4;\"/>\n   </g>\n   <g id=\"patch_39\">\n    <path clip-path=\"url(#p8344727810)\" d=\"M 141.545652 116.64538 \nL 144.192292 116.64538 \nL 144.192292 116.64538 \nL 141.545652 116.64538 \nz\n\" style=\"fill:#1f77b4;\"/>\n   </g>\n   <g id=\"patch_40\">\n    <path clip-path=\"url(#p8344727810)\" d=\"M 144.192292 116.64538 \nL 146.838933 116.64538 \nL 146.838933 116.64538 \nL 144.192292 116.64538 \nz\n\" style=\"fill:#1f77b4;\"/>\n   </g>\n   <g id=\"patch_41\">\n    <path clip-path=\"url(#p8344727810)\" d=\"M 146.838933 116.64538 \nL 149.485573 116.64538 \nL 149.485573 116.64538 \nL 146.838933 116.64538 \nz\n\" style=\"fill:#1f77b4;\"/>\n   </g>\n   <g id=\"patch_42\">\n    <path clip-path=\"url(#p8344727810)\" d=\"M 149.485573 116.64538 \nL 152.132213 116.64538 \nL 152.132213 116.64538 \nL 149.485573 116.64538 \nz\n\" style=\"fill:#1f77b4;\"/>\n   </g>\n   <g id=\"patch_43\">\n    <path clip-path=\"url(#p8344727810)\" d=\"M 152.132213 116.64538 \nL 154.778854 116.64538 \nL 154.778854 32.649431 \nL 152.132213 32.649431 \nz\n\" style=\"fill:#1f77b4;\"/>\n   </g>\n   <g id=\"patch_44\">\n    <path clip-path=\"url(#p8344727810)\" d=\"M 154.778854 116.64538 \nL 157.425494 116.64538 \nL 157.425494 116.64538 \nL 154.778854 116.64538 \nz\n\" style=\"fill:#1f77b4;\"/>\n   </g>\n   <g id=\"patch_45\">\n    <path clip-path=\"url(#p8344727810)\" d=\"M 157.425494 116.64538 \nL 160.072134 116.64538 \nL 160.072134 116.64538 \nL 157.425494 116.64538 \nz\n\" style=\"fill:#1f77b4;\"/>\n   </g>\n   <g id=\"patch_46\">\n    <path clip-path=\"url(#p8344727810)\" d=\"M 160.072134 116.64538 \nL 162.718775 116.64538 \nL 162.718775 116.64538 \nL 160.072134 116.64538 \nz\n\" style=\"fill:#1f77b4;\"/>\n   </g>\n   <g id=\"patch_47\">\n    <path clip-path=\"url(#p8344727810)\" d=\"M 162.718775 116.64538 \nL 165.365415 116.64538 \nL 165.365415 116.64538 \nL 162.718775 116.64538 \nz\n\" style=\"fill:#1f77b4;\"/>\n   </g>\n   <g id=\"patch_48\">\n    <path clip-path=\"url(#p8344727810)\" d=\"M 165.365415 116.64538 \nL 168.012055 116.64538 \nL 168.012055 116.64538 \nL 165.365415 116.64538 \nz\n\" style=\"fill:#1f77b4;\"/>\n   </g>\n   <g id=\"patch_49\">\n    <path clip-path=\"url(#p8344727810)\" d=\"M 168.012055 116.64538 \nL 170.658696 116.64538 \nL 170.658696 116.64538 \nL 168.012055 116.64538 \nz\n\" style=\"fill:#1f77b4;\"/>\n   </g>\n   <g id=\"patch_50\">\n    <path clip-path=\"url(#p8344727810)\" d=\"M 170.658696 116.64538 \nL 173.305336 116.64538 \nL 173.305336 116.64538 \nL 170.658696 116.64538 \nz\n\" style=\"fill:#1f77b4;\"/>\n   </g>\n   <g id=\"patch_51\">\n    <path clip-path=\"url(#p8344727810)\" d=\"M 173.305336 116.64538 \nL 175.951976 116.64538 \nL 175.951976 116.64538 \nL 173.305336 116.64538 \nz\n\" style=\"fill:#1f77b4;\"/>\n   </g>\n   <g id=\"patch_52\">\n    <path clip-path=\"url(#p8344727810)\" d=\"M 175.951976 116.64538 \nL 178.598617 116.64538 \nL 178.598617 26.608113 \nL 175.951976 26.608113 \nz\n\" style=\"fill:#1f77b4;\"/>\n   </g>\n   <g id=\"matplotlib.axis_1\">\n    <g id=\"xtick_1\">\n     <g id=\"line2d_1\">\n      <path clip-path=\"url(#p8344727810)\" d=\"M 72.733004 116.64538 \nL 72.733004 22.10625 \n\" style=\"fill:none;stroke:#b0b0b0;stroke-linecap:square;stroke-width:0.8;\"/>\n     </g>\n     <g id=\"line2d_2\">\n      <defs>\n       <path d=\"M 0 0 \nL 0 3.5 \n\" id=\"mfaacfa8246\" style=\"stroke:#000000;stroke-width:0.8;\"/>\n      </defs>\n      <g>\n       <use style=\"stroke:#000000;stroke-width:0.8;\" x=\"72.733004\" xlink:href=\"#mfaacfa8246\" y=\"116.64538\"/>\n      </g>\n     </g>\n     <g id=\"text_1\">\n      <!-- 2 -->\n      <defs>\n       <path d=\"M 19.1875 8.296875 \nL 53.609375 8.296875 \nL 53.609375 0 \nL 7.328125 0 \nL 7.328125 8.296875 \nQ 12.9375 14.109375 22.625 23.890625 \nQ 32.328125 33.6875 34.8125 36.53125 \nQ 39.546875 41.84375 41.421875 45.53125 \nQ 43.3125 49.21875 43.3125 52.78125 \nQ 43.3125 58.59375 39.234375 62.25 \nQ 35.15625 65.921875 28.609375 65.921875 \nQ 23.96875 65.921875 18.8125 64.3125 \nQ 13.671875 62.703125 7.8125 59.421875 \nL 7.8125 69.390625 \nQ 13.765625 71.78125 18.9375 73 \nQ 24.125 74.21875 28.421875 74.21875 \nQ 39.75 74.21875 46.484375 68.546875 \nQ 53.21875 62.890625 53.21875 53.421875 \nQ 53.21875 48.921875 51.53125 44.890625 \nQ 49.859375 40.875 45.40625 35.40625 \nQ 44.1875 33.984375 37.640625 27.21875 \nQ 31.109375 20.453125 19.1875 8.296875 \nz\n\" id=\"DejaVuSans-50\"/>\n      </defs>\n      <g transform=\"translate(69.551754 131.243818)scale(0.1 -0.1)\">\n       <use xlink:href=\"#DejaVuSans-50\"/>\n      </g>\n     </g>\n    </g>\n    <g id=\"xtick_2\">\n     <g id=\"line2d_3\">\n      <path clip-path=\"url(#p8344727810)\" d=\"M 125.66581 116.64538 \nL 125.66581 22.10625 \n\" style=\"fill:none;stroke:#b0b0b0;stroke-linecap:square;stroke-width:0.8;\"/>\n     </g>\n     <g id=\"line2d_4\">\n      <g>\n       <use style=\"stroke:#000000;stroke-width:0.8;\" x=\"125.66581\" xlink:href=\"#mfaacfa8246\" y=\"116.64538\"/>\n      </g>\n     </g>\n     <g id=\"text_2\">\n      <!-- 4 -->\n      <defs>\n       <path d=\"M 37.796875 64.3125 \nL 12.890625 25.390625 \nL 37.796875 25.390625 \nz\nM 35.203125 72.90625 \nL 47.609375 72.90625 \nL 47.609375 25.390625 \nL 58.015625 25.390625 \nL 58.015625 17.1875 \nL 47.609375 17.1875 \nL 47.609375 0 \nL 37.796875 0 \nL 37.796875 17.1875 \nL 4.890625 17.1875 \nL 4.890625 26.703125 \nz\n\" id=\"DejaVuSans-52\"/>\n      </defs>\n      <g transform=\"translate(122.48456 131.243818)scale(0.1 -0.1)\">\n       <use xlink:href=\"#DejaVuSans-52\"/>\n      </g>\n     </g>\n    </g>\n    <g id=\"xtick_3\">\n     <g id=\"line2d_5\">\n      <path clip-path=\"url(#p8344727810)\" d=\"M 178.598617 116.64538 \nL 178.598617 22.10625 \n\" style=\"fill:none;stroke:#b0b0b0;stroke-linecap:square;stroke-width:0.8;\"/>\n     </g>\n     <g id=\"line2d_6\">\n      <g>\n       <use style=\"stroke:#000000;stroke-width:0.8;\" x=\"178.598617\" xlink:href=\"#mfaacfa8246\" y=\"116.64538\"/>\n      </g>\n     </g>\n     <g id=\"text_3\">\n      <!-- 6 -->\n      <defs>\n       <path d=\"M 33.015625 40.375 \nQ 26.375 40.375 22.484375 35.828125 \nQ 18.609375 31.296875 18.609375 23.390625 \nQ 18.609375 15.53125 22.484375 10.953125 \nQ 26.375 6.390625 33.015625 6.390625 \nQ 39.65625 6.390625 43.53125 10.953125 \nQ 47.40625 15.53125 47.40625 23.390625 \nQ 47.40625 31.296875 43.53125 35.828125 \nQ 39.65625 40.375 33.015625 40.375 \nz\nM 52.59375 71.296875 \nL 52.59375 62.3125 \nQ 48.875 64.0625 45.09375 64.984375 \nQ 41.3125 65.921875 37.59375 65.921875 \nQ 27.828125 65.921875 22.671875 59.328125 \nQ 17.53125 52.734375 16.796875 39.40625 \nQ 19.671875 43.65625 24.015625 45.921875 \nQ 28.375 48.1875 33.59375 48.1875 \nQ 44.578125 48.1875 50.953125 41.515625 \nQ 57.328125 34.859375 57.328125 23.390625 \nQ 57.328125 12.15625 50.6875 5.359375 \nQ 44.046875 -1.421875 33.015625 -1.421875 \nQ 20.359375 -1.421875 13.671875 8.265625 \nQ 6.984375 17.96875 6.984375 36.375 \nQ 6.984375 53.65625 15.1875 63.9375 \nQ 23.390625 74.21875 37.203125 74.21875 \nQ 40.921875 74.21875 44.703125 73.484375 \nQ 48.484375 72.75 52.59375 71.296875 \nz\n\" id=\"DejaVuSans-54\"/>\n      </defs>\n      <g transform=\"translate(175.417367 131.243818)scale(0.1 -0.1)\">\n       <use xlink:href=\"#DejaVuSans-54\"/>\n      </g>\n     </g>\n    </g>\n   </g>\n   <g id=\"matplotlib.axis_2\">\n    <g id=\"ytick_1\">\n     <g id=\"line2d_7\">\n      <path clip-path=\"url(#p8344727810)\" d=\"M 39.65 116.64538 \nL 185.215217 116.64538 \n\" style=\"fill:none;stroke:#b0b0b0;stroke-linecap:square;stroke-width:0.8;\"/>\n     </g>\n     <g id=\"line2d_8\">\n      <defs>\n       <path d=\"M 0 0 \nL -3.5 0 \n\" id=\"m1fff54c99d\" style=\"stroke:#000000;stroke-width:0.8;\"/>\n      </defs>\n      <g>\n       <use style=\"stroke:#000000;stroke-width:0.8;\" x=\"39.65\" xlink:href=\"#m1fff54c99d\" y=\"116.64538\"/>\n      </g>\n     </g>\n     <g id=\"text_4\">\n      <!-- 0 -->\n      <defs>\n       <path d=\"M 31.78125 66.40625 \nQ 24.171875 66.40625 20.328125 58.90625 \nQ 16.5 51.421875 16.5 36.375 \nQ 16.5 21.390625 20.328125 13.890625 \nQ 24.171875 6.390625 31.78125 6.390625 \nQ 39.453125 6.390625 43.28125 13.890625 \nQ 47.125 21.390625 47.125 36.375 \nQ 47.125 51.421875 43.28125 58.90625 \nQ 39.453125 66.40625 31.78125 66.40625 \nz\nM 31.78125 74.21875 \nQ 44.046875 74.21875 50.515625 64.515625 \nQ 56.984375 54.828125 56.984375 36.375 \nQ 56.984375 17.96875 50.515625 8.265625 \nQ 44.046875 -1.421875 31.78125 -1.421875 \nQ 19.53125 -1.421875 13.0625 8.265625 \nQ 6.59375 17.96875 6.59375 36.375 \nQ 6.59375 54.828125 13.0625 64.515625 \nQ 19.53125 74.21875 31.78125 74.21875 \nz\n\" id=\"DejaVuSans-48\"/>\n      </defs>\n      <g transform=\"translate(26.2875 120.444599)scale(0.1 -0.1)\">\n       <use xlink:href=\"#DejaVuSans-48\"/>\n      </g>\n     </g>\n    </g>\n    <g id=\"ytick_2\">\n     <g id=\"line2d_9\">\n      <path clip-path=\"url(#p8344727810)\" d=\"M 39.65 83.359884 \nL 185.215217 83.359884 \n\" style=\"fill:none;stroke:#b0b0b0;stroke-linecap:square;stroke-width:0.8;\"/>\n     </g>\n     <g id=\"line2d_10\">\n      <g>\n       <use style=\"stroke:#000000;stroke-width:0.8;\" x=\"39.65\" xlink:href=\"#m1fff54c99d\" y=\"83.359884\"/>\n      </g>\n     </g>\n     <g id=\"text_5\">\n      <!-- 2000 -->\n      <g transform=\"translate(7.2 87.159103)scale(0.1 -0.1)\">\n       <use xlink:href=\"#DejaVuSans-50\"/>\n       <use x=\"63.623047\" xlink:href=\"#DejaVuSans-48\"/>\n       <use x=\"127.246094\" xlink:href=\"#DejaVuSans-48\"/>\n       <use x=\"190.869141\" xlink:href=\"#DejaVuSans-48\"/>\n      </g>\n     </g>\n    </g>\n    <g id=\"ytick_3\">\n     <g id=\"line2d_11\">\n      <path clip-path=\"url(#p8344727810)\" d=\"M 39.65 50.074388 \nL 185.215217 50.074388 \n\" style=\"fill:none;stroke:#b0b0b0;stroke-linecap:square;stroke-width:0.8;\"/>\n     </g>\n     <g id=\"line2d_12\">\n      <g>\n       <use style=\"stroke:#000000;stroke-width:0.8;\" x=\"39.65\" xlink:href=\"#m1fff54c99d\" y=\"50.074388\"/>\n      </g>\n     </g>\n     <g id=\"text_6\">\n      <!-- 4000 -->\n      <g transform=\"translate(7.2 53.873607)scale(0.1 -0.1)\">\n       <use xlink:href=\"#DejaVuSans-52\"/>\n       <use x=\"63.623047\" xlink:href=\"#DejaVuSans-48\"/>\n       <use x=\"127.246094\" xlink:href=\"#DejaVuSans-48\"/>\n       <use x=\"190.869141\" xlink:href=\"#DejaVuSans-48\"/>\n      </g>\n     </g>\n    </g>\n   </g>\n   <g id=\"patch_53\">\n    <path d=\"M 39.65 116.64538 \nL 39.65 22.10625 \n\" style=\"fill:none;stroke:#000000;stroke-linecap:square;stroke-linejoin:miter;stroke-width:0.8;\"/>\n   </g>\n   <g id=\"patch_54\">\n    <path d=\"M 185.215217 116.64538 \nL 185.215217 22.10625 \n\" style=\"fill:none;stroke:#000000;stroke-linecap:square;stroke-linejoin:miter;stroke-width:0.8;\"/>\n   </g>\n   <g id=\"patch_55\">\n    <path d=\"M 39.65 116.64538 \nL 185.215217 116.64538 \n\" style=\"fill:none;stroke:#000000;stroke-linecap:square;stroke-linejoin:miter;stroke-width:0.8;\"/>\n   </g>\n   <g id=\"patch_56\">\n    <path d=\"M 39.65 22.10625 \nL 185.215217 22.10625 \n\" style=\"fill:none;stroke:#000000;stroke-linecap:square;stroke-linejoin:miter;stroke-width:0.8;\"/>\n   </g>\n   <g id=\"text_7\">\n    <!-- ADR_SECTEUR -->\n    <defs>\n     <path d=\"M 34.1875 63.1875 \nL 20.796875 26.90625 \nL 47.609375 26.90625 \nz\nM 28.609375 72.90625 \nL 39.796875 72.90625 \nL 67.578125 0 \nL 57.328125 0 \nL 50.6875 18.703125 \nL 17.828125 18.703125 \nL 11.1875 0 \nL 0.78125 0 \nz\n\" id=\"DejaVuSans-65\"/>\n     <path d=\"M 19.671875 64.796875 \nL 19.671875 8.109375 \nL 31.59375 8.109375 \nQ 46.6875 8.109375 53.6875 14.9375 \nQ 60.6875 21.78125 60.6875 36.53125 \nQ 60.6875 51.171875 53.6875 57.984375 \nQ 46.6875 64.796875 31.59375 64.796875 \nz\nM 9.8125 72.90625 \nL 30.078125 72.90625 \nQ 51.265625 72.90625 61.171875 64.09375 \nQ 71.09375 55.28125 71.09375 36.53125 \nQ 71.09375 17.671875 61.125 8.828125 \nQ 51.171875 0 30.078125 0 \nL 9.8125 0 \nz\n\" id=\"DejaVuSans-68\"/>\n     <path d=\"M 44.390625 34.1875 \nQ 47.5625 33.109375 50.5625 29.59375 \nQ 53.5625 26.078125 56.59375 19.921875 \nL 66.609375 0 \nL 56 0 \nL 46.6875 18.703125 \nQ 43.0625 26.03125 39.671875 28.421875 \nQ 36.28125 30.8125 30.421875 30.8125 \nL 19.671875 30.8125 \nL 19.671875 0 \nL 9.8125 0 \nL 9.8125 72.90625 \nL 32.078125 72.90625 \nQ 44.578125 72.90625 50.734375 67.671875 \nQ 56.890625 62.453125 56.890625 51.90625 \nQ 56.890625 45.015625 53.6875 40.46875 \nQ 50.484375 35.9375 44.390625 34.1875 \nz\nM 19.671875 64.796875 \nL 19.671875 38.921875 \nL 32.078125 38.921875 \nQ 39.203125 38.921875 42.84375 42.21875 \nQ 46.484375 45.515625 46.484375 51.90625 \nQ 46.484375 58.296875 42.84375 61.546875 \nQ 39.203125 64.796875 32.078125 64.796875 \nz\n\" id=\"DejaVuSans-82\"/>\n     <path d=\"M 50.984375 -16.609375 \nL 50.984375 -23.578125 \nL -0.984375 -23.578125 \nL -0.984375 -16.609375 \nz\n\" id=\"DejaVuSans-95\"/>\n     <path d=\"M 53.515625 70.515625 \nL 53.515625 60.890625 \nQ 47.90625 63.578125 42.921875 64.890625 \nQ 37.9375 66.21875 33.296875 66.21875 \nQ 25.25 66.21875 20.875 63.09375 \nQ 16.5 59.96875 16.5 54.203125 \nQ 16.5 49.359375 19.40625 46.890625 \nQ 22.3125 44.4375 30.421875 42.921875 \nL 36.375 41.703125 \nQ 47.40625 39.59375 52.65625 34.296875 \nQ 57.90625 29 57.90625 20.125 \nQ 57.90625 9.515625 50.796875 4.046875 \nQ 43.703125 -1.421875 29.984375 -1.421875 \nQ 24.8125 -1.421875 18.96875 -0.25 \nQ 13.140625 0.921875 6.890625 3.21875 \nL 6.890625 13.375 \nQ 12.890625 10.015625 18.65625 8.296875 \nQ 24.421875 6.59375 29.984375 6.59375 \nQ 38.421875 6.59375 43.015625 9.90625 \nQ 47.609375 13.234375 47.609375 19.390625 \nQ 47.609375 24.75 44.3125 27.78125 \nQ 41.015625 30.8125 33.5 32.328125 \nL 27.484375 33.5 \nQ 16.453125 35.6875 11.515625 40.375 \nQ 6.59375 45.0625 6.59375 53.421875 \nQ 6.59375 63.09375 13.40625 68.65625 \nQ 20.21875 74.21875 32.171875 74.21875 \nQ 37.3125 74.21875 42.625 73.28125 \nQ 47.953125 72.359375 53.515625 70.515625 \nz\n\" id=\"DejaVuSans-83\"/>\n     <path d=\"M 9.8125 72.90625 \nL 55.90625 72.90625 \nL 55.90625 64.59375 \nL 19.671875 64.59375 \nL 19.671875 43.015625 \nL 54.390625 43.015625 \nL 54.390625 34.71875 \nL 19.671875 34.71875 \nL 19.671875 8.296875 \nL 56.78125 8.296875 \nL 56.78125 0 \nL 9.8125 0 \nz\n\" id=\"DejaVuSans-69\"/>\n     <path d=\"M 64.40625 67.28125 \nL 64.40625 56.890625 \nQ 59.421875 61.53125 53.78125 63.8125 \nQ 48.140625 66.109375 41.796875 66.109375 \nQ 29.296875 66.109375 22.65625 58.46875 \nQ 16.015625 50.828125 16.015625 36.375 \nQ 16.015625 21.96875 22.65625 14.328125 \nQ 29.296875 6.6875 41.796875 6.6875 \nQ 48.140625 6.6875 53.78125 8.984375 \nQ 59.421875 11.28125 64.40625 15.921875 \nL 64.40625 5.609375 \nQ 59.234375 2.09375 53.4375 0.328125 \nQ 47.65625 -1.421875 41.21875 -1.421875 \nQ 24.65625 -1.421875 15.125 8.703125 \nQ 5.609375 18.84375 5.609375 36.375 \nQ 5.609375 53.953125 15.125 64.078125 \nQ 24.65625 74.21875 41.21875 74.21875 \nQ 47.75 74.21875 53.53125 72.484375 \nQ 59.328125 70.75 64.40625 67.28125 \nz\n\" id=\"DejaVuSans-67\"/>\n     <path d=\"M -0.296875 72.90625 \nL 61.375 72.90625 \nL 61.375 64.59375 \nL 35.5 64.59375 \nL 35.5 0 \nL 25.59375 0 \nL 25.59375 64.59375 \nL -0.296875 64.59375 \nz\n\" id=\"DejaVuSans-84\"/>\n     <path d=\"M 8.6875 72.90625 \nL 18.609375 72.90625 \nL 18.609375 28.609375 \nQ 18.609375 16.890625 22.84375 11.734375 \nQ 27.09375 6.59375 36.625 6.59375 \nQ 46.09375 6.59375 50.34375 11.734375 \nQ 54.59375 16.890625 54.59375 28.609375 \nL 54.59375 72.90625 \nL 64.5 72.90625 \nL 64.5 27.390625 \nQ 64.5 13.140625 57.4375 5.859375 \nQ 50.390625 -1.421875 36.625 -1.421875 \nQ 22.796875 -1.421875 15.734375 5.859375 \nQ 8.6875 13.140625 8.6875 27.390625 \nz\n\" id=\"DejaVuSans-85\"/>\n    </defs>\n    <g transform=\"translate(68.732921 16.10625)scale(0.12 -0.12)\">\n     <use xlink:href=\"#DejaVuSans-65\"/>\n     <use x=\"68.408203\" xlink:href=\"#DejaVuSans-68\"/>\n     <use x=\"145.410156\" xlink:href=\"#DejaVuSans-82\"/>\n     <use x=\"214.892578\" xlink:href=\"#DejaVuSans-95\"/>\n     <use x=\"264.892578\" xlink:href=\"#DejaVuSans-83\"/>\n     <use x=\"328.369141\" xlink:href=\"#DejaVuSans-69\"/>\n     <use x=\"391.552734\" xlink:href=\"#DejaVuSans-67\"/>\n     <use x=\"461.376953\" xlink:href=\"#DejaVuSans-84\"/>\n     <use x=\"522.460938\" xlink:href=\"#DejaVuSans-69\"/>\n     <use x=\"585.644531\" xlink:href=\"#DejaVuSans-85\"/>\n     <use x=\"658.837891\" xlink:href=\"#DejaVuSans-82\"/>\n    </g>\n   </g>\n  </g>\n  <g id=\"axes_2\">\n   <g id=\"patch_57\">\n    <path d=\"M 228.884783 116.64538 \nL 374.45 116.64538 \nL 374.45 22.10625 \nL 228.884783 22.10625 \nz\n\" style=\"fill:#ffffff;\"/>\n   </g>\n   <g id=\"patch_58\">\n    <path clip-path=\"url(#pcf94944845)\" d=\"M 235.501383 116.64538 \nL 238.148024 116.64538 \nL 238.148024 34.098735 \nL 235.501383 34.098735 \nz\n\" style=\"fill:#1f77b4;\"/>\n   </g>\n   <g id=\"patch_59\">\n    <path clip-path=\"url(#pcf94944845)\" d=\"M 238.148024 116.64538 \nL 240.794664 116.64538 \nL 240.794664 30.503236 \nL 238.148024 30.503236 \nz\n\" style=\"fill:#1f77b4;\"/>\n   </g>\n   <g id=\"patch_60\">\n    <path clip-path=\"url(#pcf94944845)\" d=\"M 240.794664 116.64538 \nL 243.441304 116.64538 \nL 243.441304 30.802861 \nL 240.794664 30.802861 \nz\n\" style=\"fill:#1f77b4;\"/>\n   </g>\n   <g id=\"patch_61\">\n    <path clip-path=\"url(#pcf94944845)\" d=\"M 243.441304 116.64538 \nL 246.087945 116.64538 \nL 246.087945 30.653049 \nL 243.441304 30.653049 \nz\n\" style=\"fill:#1f77b4;\"/>\n   </g>\n   <g id=\"patch_62\">\n    <path clip-path=\"url(#pcf94944845)\" d=\"M 246.087945 116.64538 \nL 248.734585 116.64538 \nL 248.734585 33.19986 \nL 246.087945 33.19986 \nz\n\" style=\"fill:#1f77b4;\"/>\n   </g>\n   <g id=\"patch_63\">\n    <path clip-path=\"url(#pcf94944845)\" d=\"M 248.734585 116.64538 \nL 251.381225 116.64538 \nL 251.381225 34.997609 \nL 248.734585 34.997609 \nz\n\" style=\"fill:#1f77b4;\"/>\n   </g>\n   <g id=\"patch_64\">\n    <path clip-path=\"url(#pcf94944845)\" d=\"M 251.381225 116.64538 \nL 254.027866 116.64538 \nL 254.027866 28.555675 \nL 251.381225 28.555675 \nz\n\" style=\"fill:#1f77b4;\"/>\n   </g>\n   <g id=\"patch_65\">\n    <path clip-path=\"url(#pcf94944845)\" d=\"M 254.027866 116.64538 \nL 256.674506 116.64538 \nL 256.674506 32.900235 \nL 254.027866 32.900235 \nz\n\" style=\"fill:#1f77b4;\"/>\n   </g>\n   <g id=\"patch_66\">\n    <path clip-path=\"url(#pcf94944845)\" d=\"M 256.674506 116.64538 \nL 259.321146 116.64538 \nL 259.321146 33.499485 \nL 256.674506 33.499485 \nz\n\" style=\"fill:#1f77b4;\"/>\n   </g>\n   <g id=\"patch_67\">\n    <path clip-path=\"url(#pcf94944845)\" d=\"M 259.321146 116.64538 \nL 261.967787 116.64538 \nL 261.967787 31.402111 \nL 259.321146 31.402111 \nz\n\" style=\"fill:#1f77b4;\"/>\n   </g>\n   <g id=\"patch_68\">\n    <path clip-path=\"url(#pcf94944845)\" d=\"M 261.967787 116.64538 \nL 264.614427 116.64538 \nL 264.614427 28.705487 \nL 261.967787 28.705487 \nz\n\" style=\"fill:#1f77b4;\"/>\n   </g>\n   <g id=\"patch_69\">\n    <path clip-path=\"url(#pcf94944845)\" d=\"M 264.614427 116.64538 \nL 267.261067 116.64538 \nL 267.261067 33.948922 \nL 264.614427 33.948922 \nz\n\" style=\"fill:#1f77b4;\"/>\n   </g>\n   <g id=\"patch_70\">\n    <path clip-path=\"url(#pcf94944845)\" d=\"M 267.261067 116.64538 \nL 269.907708 116.64538 \nL 269.907708 36.046296 \nL 267.261067 36.046296 \nz\n\" style=\"fill:#1f77b4;\"/>\n   </g>\n   <g id=\"patch_71\">\n    <path clip-path=\"url(#pcf94944845)\" d=\"M 269.907708 116.64538 \nL 272.554348 116.64538 \nL 272.554348 34.098735 \nL 269.907708 34.098735 \nz\n\" style=\"fill:#1f77b4;\"/>\n   </g>\n   <g id=\"patch_72\">\n    <path clip-path=\"url(#pcf94944845)\" d=\"M 272.554348 116.64538 \nL 275.200988 116.64538 \nL 275.200988 32.300985 \nL 272.554348 32.300985 \nz\n\" style=\"fill:#1f77b4;\"/>\n   </g>\n   <g id=\"patch_73\">\n    <path clip-path=\"url(#pcf94944845)\" d=\"M 275.200988 116.64538 \nL 277.847628 116.64538 \nL 277.847628 26.608113 \nL 275.200988 26.608113 \nz\n\" style=\"fill:#1f77b4;\"/>\n   </g>\n   <g id=\"patch_74\">\n    <path clip-path=\"url(#pcf94944845)\" d=\"M 277.847628 116.64538 \nL 280.494269 116.64538 \nL 280.494269 31.701736 \nL 277.847628 31.701736 \nz\n\" style=\"fill:#1f77b4;\"/>\n   </g>\n   <g id=\"patch_75\">\n    <path clip-path=\"url(#pcf94944845)\" d=\"M 280.494269 116.64538 \nL 283.140909 116.64538 \nL 283.140909 30.802861 \nL 280.494269 30.802861 \nz\n\" style=\"fill:#1f77b4;\"/>\n   </g>\n   <g id=\"patch_76\">\n    <path clip-path=\"url(#pcf94944845)\" d=\"M 283.140909 116.64538 \nL 285.787549 116.64538 \nL 285.787549 28.705487 \nL 283.140909 28.705487 \nz\n\" style=\"fill:#1f77b4;\"/>\n   </g>\n   <g id=\"patch_77\">\n    <path clip-path=\"url(#pcf94944845)\" d=\"M 285.787549 116.64538 \nL 288.43419 116.64538 \nL 288.43419 32.151173 \nL 285.787549 32.151173 \nz\n\" style=\"fill:#1f77b4;\"/>\n   </g>\n   <g id=\"patch_78\">\n    <path clip-path=\"url(#pcf94944845)\" d=\"M 288.43419 116.64538 \nL 291.08083 116.64538 \nL 291.08083 32.300985 \nL 288.43419 32.300985 \nz\n\" style=\"fill:#1f77b4;\"/>\n   </g>\n   <g id=\"patch_79\">\n    <path clip-path=\"url(#pcf94944845)\" d=\"M 291.08083 116.64538 \nL 293.72747 116.64538 \nL 293.72747 35.147422 \nL 291.08083 35.147422 \nz\n\" style=\"fill:#1f77b4;\"/>\n   </g>\n   <g id=\"patch_80\">\n    <path clip-path=\"url(#pcf94944845)\" d=\"M 293.72747 116.64538 \nL 296.374111 116.64538 \nL 296.374111 31.551923 \nL 293.72747 31.551923 \nz\n\" style=\"fill:#1f77b4;\"/>\n   </g>\n   <g id=\"patch_81\">\n    <path clip-path=\"url(#pcf94944845)\" d=\"M 296.374111 116.64538 \nL 299.020751 116.64538 \nL 299.020751 31.551923 \nL 296.374111 31.551923 \nz\n\" style=\"fill:#1f77b4;\"/>\n   </g>\n   <g id=\"patch_82\">\n    <path clip-path=\"url(#pcf94944845)\" d=\"M 299.020751 116.64538 \nL 301.667391 116.64538 \nL 301.667391 33.948922 \nL 299.020751 33.948922 \nz\n\" style=\"fill:#1f77b4;\"/>\n   </g>\n   <g id=\"patch_83\">\n    <path clip-path=\"url(#pcf94944845)\" d=\"M 301.667391 116.64538 \nL 304.314032 116.64538 \nL 304.314032 35.596859 \nL 301.667391 35.596859 \nz\n\" style=\"fill:#1f77b4;\"/>\n   </g>\n   <g id=\"patch_84\">\n    <path clip-path=\"url(#pcf94944845)\" d=\"M 304.314032 116.64538 \nL 306.960672 116.64538 \nL 306.960672 32.300985 \nL 304.314032 32.300985 \nz\n\" style=\"fill:#1f77b4;\"/>\n   </g>\n   <g id=\"patch_85\">\n    <path clip-path=\"url(#pcf94944845)\" d=\"M 306.960672 116.64538 \nL 309.607312 116.64538 \nL 309.607312 36.046296 \nL 306.960672 36.046296 \nz\n\" style=\"fill:#1f77b4;\"/>\n   </g>\n   <g id=\"patch_86\">\n    <path clip-path=\"url(#pcf94944845)\" d=\"M 309.607312 116.64538 \nL 312.253953 116.64538 \nL 312.253953 30.802861 \nL 309.607312 30.802861 \nz\n\" style=\"fill:#1f77b4;\"/>\n   </g>\n   <g id=\"patch_87\">\n    <path clip-path=\"url(#pcf94944845)\" d=\"M 312.253953 116.64538 \nL 314.900593 116.64538 \nL 314.900593 37.244795 \nL 312.253953 37.244795 \nz\n\" style=\"fill:#1f77b4;\"/>\n   </g>\n   <g id=\"patch_88\">\n    <path clip-path=\"url(#pcf94944845)\" d=\"M 314.900593 116.64538 \nL 317.547233 116.64538 \nL 317.547233 33.79911 \nL 314.900593 33.79911 \nz\n\" style=\"fill:#1f77b4;\"/>\n   </g>\n   <g id=\"patch_89\">\n    <path clip-path=\"url(#pcf94944845)\" d=\"M 317.547233 116.64538 \nL 320.193874 116.64538 \nL 320.193874 29.454549 \nL 317.547233 29.454549 \nz\n\" style=\"fill:#1f77b4;\"/>\n   </g>\n   <g id=\"patch_90\">\n    <path clip-path=\"url(#pcf94944845)\" d=\"M 320.193874 116.64538 \nL 322.840514 116.64538 \nL 322.840514 29.304737 \nL 320.193874 29.304737 \nz\n\" style=\"fill:#1f77b4;\"/>\n   </g>\n   <g id=\"patch_91\">\n    <path clip-path=\"url(#pcf94944845)\" d=\"M 322.840514 116.64538 \nL 325.487154 116.64538 \nL 325.487154 32.900235 \nL 322.840514 32.900235 \nz\n\" style=\"fill:#1f77b4;\"/>\n   </g>\n   <g id=\"patch_92\">\n    <path clip-path=\"url(#pcf94944845)\" d=\"M 325.487154 116.64538 \nL 328.133794 116.64538 \nL 328.133794 59.716659 \nL 325.487154 59.716659 \nz\n\" style=\"fill:#1f77b4;\"/>\n   </g>\n   <g id=\"patch_93\">\n    <path clip-path=\"url(#pcf94944845)\" d=\"M 328.133794 116.64538 \nL 330.780435 116.64538 \nL 330.780435 61.664221 \nL 328.133794 61.664221 \nz\n\" style=\"fill:#1f77b4;\"/>\n   </g>\n   <g id=\"patch_94\">\n    <path clip-path=\"url(#pcf94944845)\" d=\"M 330.780435 116.64538 \nL 333.427075 116.64538 \nL 333.427075 37.993858 \nL 330.780435 37.993858 \nz\n\" style=\"fill:#1f77b4;\"/>\n   </g>\n   <g id=\"patch_95\">\n    <path clip-path=\"url(#pcf94944845)\" d=\"M 333.427075 116.64538 \nL 336.073715 116.64538 \nL 336.073715 54.772849 \nL 333.427075 54.772849 \nz\n\" style=\"fill:#1f77b4;\"/>\n   </g>\n   <g id=\"patch_96\">\n    <path clip-path=\"url(#pcf94944845)\" d=\"M 336.073715 116.64538 \nL 338.720356 116.64538 \nL 338.720356 48.480727 \nL 336.073715 48.480727 \nz\n\" style=\"fill:#1f77b4;\"/>\n   </g>\n   <g id=\"patch_97\">\n    <path clip-path=\"url(#pcf94944845)\" d=\"M 338.720356 116.64538 \nL 341.366996 116.64538 \nL 341.366996 75.297151 \nL 338.720356 75.297151 \nz\n\" style=\"fill:#1f77b4;\"/>\n   </g>\n   <g id=\"patch_98\">\n    <path clip-path=\"url(#pcf94944845)\" d=\"M 341.366996 116.64538 \nL 344.013636 116.64538 \nL 344.013636 82.188523 \nL 341.366996 82.188523 \nz\n\" style=\"fill:#1f77b4;\"/>\n   </g>\n   <g id=\"patch_99\">\n    <path clip-path=\"url(#pcf94944845)\" d=\"M 344.013636 116.64538 \nL 346.660277 116.64538 \nL 346.660277 80.390774 \nL 344.013636 80.390774 \nz\n\" style=\"fill:#1f77b4;\"/>\n   </g>\n   <g id=\"patch_100\">\n    <path clip-path=\"url(#pcf94944845)\" d=\"M 346.660277 116.64538 \nL 349.306917 116.64538 \nL 349.306917 68.40578 \nL 346.660277 68.40578 \nz\n\" style=\"fill:#1f77b4;\"/>\n   </g>\n   <g id=\"patch_101\">\n    <path clip-path=\"url(#pcf94944845)\" d=\"M 349.306917 116.64538 \nL 351.953557 116.64538 \nL 351.953557 97.319578 \nL 349.306917 97.319578 \nz\n\" style=\"fill:#1f77b4;\"/>\n   </g>\n   <g id=\"patch_102\">\n    <path clip-path=\"url(#pcf94944845)\" d=\"M 351.953557 116.64538 \nL 354.600198 116.64538 \nL 354.600198 82.338335 \nL 351.953557 82.338335 \nz\n\" style=\"fill:#1f77b4;\"/>\n   </g>\n   <g id=\"patch_103\">\n    <path clip-path=\"url(#pcf94944845)\" d=\"M 354.600198 116.64538 \nL 357.246838 116.64538 \nL 357.246838 96.87014 \nL 354.600198 96.87014 \nz\n\" style=\"fill:#1f77b4;\"/>\n   </g>\n   <g id=\"patch_104\">\n    <path clip-path=\"url(#pcf94944845)\" d=\"M 357.246838 116.64538 \nL 359.893478 116.64538 \nL 359.893478 76.645463 \nL 357.246838 76.645463 \nz\n\" style=\"fill:#1f77b4;\"/>\n   </g>\n   <g id=\"patch_105\">\n    <path clip-path=\"url(#pcf94944845)\" d=\"M 359.893478 116.64538 \nL 362.540119 116.64538 \nL 362.540119 94.473142 \nL 359.893478 94.473142 \nz\n\" style=\"fill:#1f77b4;\"/>\n   </g>\n   <g id=\"patch_106\">\n    <path clip-path=\"url(#pcf94944845)\" d=\"M 362.540119 116.64538 \nL 365.186759 116.64538 \nL 365.186759 92.225955 \nL 362.540119 92.225955 \nz\n\" style=\"fill:#1f77b4;\"/>\n   </g>\n   <g id=\"patch_107\">\n    <path clip-path=\"url(#pcf94944845)\" d=\"M 365.186759 116.64538 \nL 367.833399 116.64538 \nL 367.833399 97.769015 \nL 365.186759 97.769015 \nz\n\" style=\"fill:#1f77b4;\"/>\n   </g>\n   <g id=\"matplotlib.axis_3\">\n    <g id=\"xtick_4\">\n     <g id=\"line2d_13\">\n      <path clip-path=\"url(#pcf94944845)\" d=\"M 235.498309 116.64538 \nL 235.498309 22.10625 \n\" style=\"fill:none;stroke:#b0b0b0;stroke-linecap:square;stroke-width:0.8;\"/>\n     </g>\n     <g id=\"line2d_14\">\n      <g>\n       <use style=\"stroke:#000000;stroke-width:0.8;\" x=\"235.498309\" xlink:href=\"#mfaacfa8246\" y=\"116.64538\"/>\n      </g>\n     </g>\n     <g id=\"text_8\">\n      <!-- 0 -->\n      <g transform=\"translate(232.317059 131.243818)scale(0.1 -0.1)\">\n       <use xlink:href=\"#DejaVuSans-48\"/>\n      </g>\n     </g>\n    </g>\n    <g id=\"xtick_5\">\n     <g id=\"line2d_15\">\n      <path clip-path=\"url(#pcf94944845)\" d=\"M 296.990881 116.64538 \nL 296.990881 22.10625 \n\" style=\"fill:none;stroke:#b0b0b0;stroke-linecap:square;stroke-width:0.8;\"/>\n     </g>\n     <g id=\"line2d_16\">\n      <g>\n       <use style=\"stroke:#000000;stroke-width:0.8;\" x=\"296.990881\" xlink:href=\"#mfaacfa8246\" y=\"116.64538\"/>\n      </g>\n     </g>\n     <g id=\"text_9\">\n      <!-- 20000 -->\n      <g transform=\"translate(281.084631 131.243818)scale(0.1 -0.1)\">\n       <use xlink:href=\"#DejaVuSans-50\"/>\n       <use x=\"63.623047\" xlink:href=\"#DejaVuSans-48\"/>\n       <use x=\"127.246094\" xlink:href=\"#DejaVuSans-48\"/>\n       <use x=\"190.869141\" xlink:href=\"#DejaVuSans-48\"/>\n       <use x=\"254.492188\" xlink:href=\"#DejaVuSans-48\"/>\n      </g>\n     </g>\n    </g>\n    <g id=\"xtick_6\">\n     <g id=\"line2d_17\">\n      <path clip-path=\"url(#pcf94944845)\" d=\"M 358.483454 116.64538 \nL 358.483454 22.10625 \n\" style=\"fill:none;stroke:#b0b0b0;stroke-linecap:square;stroke-width:0.8;\"/>\n     </g>\n     <g id=\"line2d_18\">\n      <g>\n       <use style=\"stroke:#000000;stroke-width:0.8;\" x=\"358.483454\" xlink:href=\"#mfaacfa8246\" y=\"116.64538\"/>\n      </g>\n     </g>\n     <g id=\"text_10\">\n      <!-- 40000 -->\n      <g transform=\"translate(342.577204 131.243818)scale(0.1 -0.1)\">\n       <use xlink:href=\"#DejaVuSans-52\"/>\n       <use x=\"63.623047\" xlink:href=\"#DejaVuSans-48\"/>\n       <use x=\"127.246094\" xlink:href=\"#DejaVuSans-48\"/>\n       <use x=\"190.869141\" xlink:href=\"#DejaVuSans-48\"/>\n       <use x=\"254.492188\" xlink:href=\"#DejaVuSans-48\"/>\n      </g>\n     </g>\n    </g>\n   </g>\n   <g id=\"matplotlib.axis_4\">\n    <g id=\"ytick_4\">\n     <g id=\"line2d_19\">\n      <path clip-path=\"url(#pcf94944845)\" d=\"M 228.884783 116.64538 \nL 374.45 116.64538 \n\" style=\"fill:none;stroke:#b0b0b0;stroke-linecap:square;stroke-width:0.8;\"/>\n     </g>\n     <g id=\"line2d_20\">\n      <g>\n       <use style=\"stroke:#000000;stroke-width:0.8;\" x=\"228.884783\" xlink:href=\"#m1fff54c99d\" y=\"116.64538\"/>\n      </g>\n     </g>\n     <g id=\"text_11\">\n      <!-- 0 -->\n      <g transform=\"translate(215.522283 120.444599)scale(0.1 -0.1)\">\n       <use xlink:href=\"#DejaVuSans-48\"/>\n      </g>\n     </g>\n    </g>\n    <g id=\"ytick_5\">\n     <g id=\"line2d_21\">\n      <path clip-path=\"url(#pcf94944845)\" d=\"M 228.884783 86.682896 \nL 374.45 86.682896 \n\" style=\"fill:none;stroke:#b0b0b0;stroke-linecap:square;stroke-width:0.8;\"/>\n     </g>\n     <g id=\"line2d_22\">\n      <g>\n       <use style=\"stroke:#000000;stroke-width:0.8;\" x=\"228.884783\" xlink:href=\"#m1fff54c99d\" y=\"86.682896\"/>\n      </g>\n     </g>\n     <g id=\"text_12\">\n      <!-- 200 -->\n      <g transform=\"translate(202.797283 90.482114)scale(0.1 -0.1)\">\n       <use xlink:href=\"#DejaVuSans-50\"/>\n       <use x=\"63.623047\" xlink:href=\"#DejaVuSans-48\"/>\n       <use x=\"127.246094\" xlink:href=\"#DejaVuSans-48\"/>\n      </g>\n     </g>\n    </g>\n    <g id=\"ytick_6\">\n     <g id=\"line2d_23\">\n      <path clip-path=\"url(#pcf94944845)\" d=\"M 228.884783 56.720411 \nL 374.45 56.720411 \n\" style=\"fill:none;stroke:#b0b0b0;stroke-linecap:square;stroke-width:0.8;\"/>\n     </g>\n     <g id=\"line2d_24\">\n      <g>\n       <use style=\"stroke:#000000;stroke-width:0.8;\" x=\"228.884783\" xlink:href=\"#m1fff54c99d\" y=\"56.720411\"/>\n      </g>\n     </g>\n     <g id=\"text_13\">\n      <!-- 400 -->\n      <g transform=\"translate(202.797283 60.519629)scale(0.1 -0.1)\">\n       <use xlink:href=\"#DejaVuSans-52\"/>\n       <use x=\"63.623047\" xlink:href=\"#DejaVuSans-48\"/>\n       <use x=\"127.246094\" xlink:href=\"#DejaVuSans-48\"/>\n      </g>\n     </g>\n    </g>\n    <g id=\"ytick_7\">\n     <g id=\"line2d_25\">\n      <path clip-path=\"url(#pcf94944845)\" d=\"M 228.884783 26.757926 \nL 374.45 26.757926 \n\" style=\"fill:none;stroke:#b0b0b0;stroke-linecap:square;stroke-width:0.8;\"/>\n     </g>\n     <g id=\"line2d_26\">\n      <g>\n       <use style=\"stroke:#000000;stroke-width:0.8;\" x=\"228.884783\" xlink:href=\"#m1fff54c99d\" y=\"26.757926\"/>\n      </g>\n     </g>\n     <g id=\"text_14\">\n      <!-- 600 -->\n      <g transform=\"translate(202.797283 30.557145)scale(0.1 -0.1)\">\n       <use xlink:href=\"#DejaVuSans-54\"/>\n       <use x=\"63.623047\" xlink:href=\"#DejaVuSans-48\"/>\n       <use x=\"127.246094\" xlink:href=\"#DejaVuSans-48\"/>\n      </g>\n     </g>\n    </g>\n   </g>\n   <g id=\"patch_108\">\n    <path d=\"M 228.884783 116.64538 \nL 228.884783 22.10625 \n\" style=\"fill:none;stroke:#000000;stroke-linecap:square;stroke-linejoin:miter;stroke-width:0.8;\"/>\n   </g>\n   <g id=\"patch_109\">\n    <path d=\"M 374.45 116.64538 \nL 374.45 22.10625 \n\" style=\"fill:none;stroke:#000000;stroke-linecap:square;stroke-linejoin:miter;stroke-width:0.8;\"/>\n   </g>\n   <g id=\"patch_110\">\n    <path d=\"M 228.884783 116.64538 \nL 374.45 116.64538 \n\" style=\"fill:none;stroke:#000000;stroke-linecap:square;stroke-linejoin:miter;stroke-width:0.8;\"/>\n   </g>\n   <g id=\"patch_111\">\n    <path d=\"M 228.884783 22.10625 \nL 374.45 22.10625 \n\" style=\"fill:none;stroke:#000000;stroke-linecap:square;stroke-linejoin:miter;stroke-width:0.8;\"/>\n   </g>\n   <g id=\"text_15\">\n    <!-- ELEM_POINT_ID -->\n    <defs>\n     <path d=\"M 9.8125 72.90625 \nL 19.671875 72.90625 \nL 19.671875 8.296875 \nL 55.171875 8.296875 \nL 55.171875 0 \nL 9.8125 0 \nz\n\" id=\"DejaVuSans-76\"/>\n     <path d=\"M 9.8125 72.90625 \nL 24.515625 72.90625 \nL 43.109375 23.296875 \nL 61.8125 72.90625 \nL 76.515625 72.90625 \nL 76.515625 0 \nL 66.890625 0 \nL 66.890625 64.015625 \nL 48.09375 14.015625 \nL 38.1875 14.015625 \nL 19.390625 64.015625 \nL 19.390625 0 \nL 9.8125 0 \nz\n\" id=\"DejaVuSans-77\"/>\n     <path d=\"M 19.671875 64.796875 \nL 19.671875 37.40625 \nL 32.078125 37.40625 \nQ 38.96875 37.40625 42.71875 40.96875 \nQ 46.484375 44.53125 46.484375 51.125 \nQ 46.484375 57.671875 42.71875 61.234375 \nQ 38.96875 64.796875 32.078125 64.796875 \nz\nM 9.8125 72.90625 \nL 32.078125 72.90625 \nQ 44.34375 72.90625 50.609375 67.359375 \nQ 56.890625 61.8125 56.890625 51.125 \nQ 56.890625 40.328125 50.609375 34.8125 \nQ 44.34375 29.296875 32.078125 29.296875 \nL 19.671875 29.296875 \nL 19.671875 0 \nL 9.8125 0 \nz\n\" id=\"DejaVuSans-80\"/>\n     <path d=\"M 39.40625 66.21875 \nQ 28.65625 66.21875 22.328125 58.203125 \nQ 16.015625 50.203125 16.015625 36.375 \nQ 16.015625 22.609375 22.328125 14.59375 \nQ 28.65625 6.59375 39.40625 6.59375 \nQ 50.140625 6.59375 56.421875 14.59375 \nQ 62.703125 22.609375 62.703125 36.375 \nQ 62.703125 50.203125 56.421875 58.203125 \nQ 50.140625 66.21875 39.40625 66.21875 \nz\nM 39.40625 74.21875 \nQ 54.734375 74.21875 63.90625 63.9375 \nQ 73.09375 53.65625 73.09375 36.375 \nQ 73.09375 19.140625 63.90625 8.859375 \nQ 54.734375 -1.421875 39.40625 -1.421875 \nQ 24.03125 -1.421875 14.8125 8.828125 \nQ 5.609375 19.09375 5.609375 36.375 \nQ 5.609375 53.65625 14.8125 63.9375 \nQ 24.03125 74.21875 39.40625 74.21875 \nz\n\" id=\"DejaVuSans-79\"/>\n     <path d=\"M 9.8125 72.90625 \nL 19.671875 72.90625 \nL 19.671875 0 \nL 9.8125 0 \nz\n\" id=\"DejaVuSans-73\"/>\n     <path d=\"M 9.8125 72.90625 \nL 23.09375 72.90625 \nL 55.421875 11.921875 \nL 55.421875 72.90625 \nL 64.984375 72.90625 \nL 64.984375 0 \nL 51.703125 0 \nL 19.390625 60.984375 \nL 19.390625 0 \nL 9.8125 0 \nz\n\" id=\"DejaVuSans-78\"/>\n    </defs>\n    <g transform=\"translate(254.910516 16.10625)scale(0.12 -0.12)\">\n     <use xlink:href=\"#DejaVuSans-69\"/>\n     <use x=\"63.183594\" xlink:href=\"#DejaVuSans-76\"/>\n     <use x=\"118.896484\" xlink:href=\"#DejaVuSans-69\"/>\n     <use x=\"182.080078\" xlink:href=\"#DejaVuSans-77\"/>\n     <use x=\"268.359375\" xlink:href=\"#DejaVuSans-95\"/>\n     <use x=\"318.359375\" xlink:href=\"#DejaVuSans-80\"/>\n     <use x=\"378.662109\" xlink:href=\"#DejaVuSans-79\"/>\n     <use x=\"457.373047\" xlink:href=\"#DejaVuSans-73\"/>\n     <use x=\"486.865234\" xlink:href=\"#DejaVuSans-78\"/>\n     <use x=\"561.669922\" xlink:href=\"#DejaVuSans-84\"/>\n     <use x=\"622.753906\" xlink:href=\"#DejaVuSans-95\"/>\n     <use x=\"672.753906\" xlink:href=\"#DejaVuSans-73\"/>\n     <use x=\"702.246094\" xlink:href=\"#DejaVuSans-68\"/>\n    </g>\n   </g>\n  </g>\n  <g id=\"axes_3\">\n   <g id=\"patch_112\">\n    <path d=\"M 39.65 239.54625 \nL 185.215217 239.54625 \nL 185.215217 145.00712 \nL 39.65 145.00712 \nz\n\" style=\"fill:#ffffff;\"/>\n   </g>\n   <g id=\"patch_113\">\n    <path clip-path=\"url(#pe17832df14)\" d=\"M 46.266601 239.54625 \nL 48.913241 239.54625 \nL 48.913241 237.026886 \nL 46.266601 237.026886 \nz\n\" style=\"fill:#1f77b4;\"/>\n   </g>\n   <g id=\"patch_114\">\n    <path clip-path=\"url(#pe17832df14)\" d=\"M 48.913241 239.54625 \nL 51.559881 239.54625 \nL 51.559881 234.567507 \nL 48.913241 234.567507 \nz\n\" style=\"fill:#1f77b4;\"/>\n   </g>\n   <g id=\"patch_115\">\n    <path clip-path=\"url(#pe17832df14)\" d=\"M 51.559881 239.54625 \nL 54.206522 239.54625 \nL 54.206522 236.726962 \nL 51.559881 236.726962 \nz\n\" style=\"fill:#1f77b4;\"/>\n   </g>\n   <g id=\"patch_116\">\n    <path clip-path=\"url(#pe17832df14)\" d=\"M 54.206522 239.54625 \nL 56.853162 239.54625 \nL 56.853162 236.427038 \nL 54.206522 236.427038 \nz\n\" style=\"fill:#1f77b4;\"/>\n   </g>\n   <g id=\"patch_117\">\n    <path clip-path=\"url(#pe17832df14)\" d=\"M 56.853162 239.54625 \nL 59.499802 239.54625 \nL 59.499802 236.666977 \nL 56.853162 236.666977 \nz\n\" style=\"fill:#1f77b4;\"/>\n   </g>\n   <g id=\"patch_118\">\n    <path clip-path=\"url(#pe17832df14)\" d=\"M 59.499802 239.54625 \nL 62.146443 239.54625 \nL 62.146443 200.316155 \nL 59.499802 200.316155 \nz\n\" style=\"fill:#1f77b4;\"/>\n   </g>\n   <g id=\"patch_119\">\n    <path clip-path=\"url(#pe17832df14)\" d=\"M 62.146443 239.54625 \nL 64.793083 239.54625 \nL 64.793083 177.221986 \nL 62.146443 177.221986 \nz\n\" style=\"fill:#1f77b4;\"/>\n   </g>\n   <g id=\"patch_120\">\n    <path clip-path=\"url(#pe17832df14)\" d=\"M 64.793083 239.54625 \nL 67.439723 239.54625 \nL 67.439723 149.508983 \nL 64.793083 149.508983 \nz\n\" style=\"fill:#1f77b4;\"/>\n   </g>\n   <g id=\"patch_121\">\n    <path clip-path=\"url(#pe17832df14)\" d=\"M 67.439723 239.54625 \nL 70.086364 239.54625 \nL 70.086364 155.567453 \nL 67.439723 155.567453 \nz\n\" style=\"fill:#1f77b4;\"/>\n   </g>\n   <g id=\"patch_122\">\n    <path clip-path=\"url(#pe17832df14)\" d=\"M 70.086364 239.54625 \nL 72.733004 239.54625 \nL 72.733004 167.864348 \nL 70.086364 167.864348 \nz\n\" style=\"fill:#1f77b4;\"/>\n   </g>\n   <g id=\"patch_123\">\n    <path clip-path=\"url(#pe17832df14)\" d=\"M 72.733004 239.54625 \nL 75.379644 239.54625 \nL 75.379644 186.279699 \nL 72.733004 186.279699 \nz\n\" style=\"fill:#1f77b4;\"/>\n   </g>\n   <g id=\"patch_124\">\n    <path clip-path=\"url(#pe17832df14)\" d=\"M 75.379644 239.54625 \nL 78.026285 239.54625 \nL 78.026285 183.94029 \nL 75.379644 183.94029 \nz\n\" style=\"fill:#1f77b4;\"/>\n   </g>\n   <g id=\"patch_125\">\n    <path clip-path=\"url(#pe17832df14)\" d=\"M 78.026285 239.54625 \nL 80.672925 239.54625 \nL 80.672925 189.818805 \nL 78.026285 189.818805 \nz\n\" style=\"fill:#1f77b4;\"/>\n   </g>\n   <g id=\"patch_126\">\n    <path clip-path=\"url(#pe17832df14)\" d=\"M 80.672925 239.54625 \nL 83.319565 239.54625 \nL 83.319565 191.018502 \nL 80.672925 191.018502 \nz\n\" style=\"fill:#1f77b4;\"/>\n   </g>\n   <g id=\"patch_127\">\n    <path clip-path=\"url(#pe17832df14)\" d=\"M 83.319565 239.54625 \nL 85.966206 239.54625 \nL 85.966206 175.602395 \nL 83.319565 175.602395 \nz\n\" style=\"fill:#1f77b4;\"/>\n   </g>\n   <g id=\"patch_128\">\n    <path clip-path=\"url(#pe17832df14)\" d=\"M 85.966206 239.54625 \nL 88.612846 239.54625 \nL 88.612846 195.037488 \nL 85.966206 195.037488 \nz\n\" style=\"fill:#1f77b4;\"/>\n   </g>\n   <g id=\"patch_129\">\n    <path clip-path=\"url(#pe17832df14)\" d=\"M 88.612846 239.54625 \nL 91.259486 239.54625 \nL 91.259486 170.203758 \nL 88.612846 170.203758 \nz\n\" style=\"fill:#1f77b4;\"/>\n   </g>\n   <g id=\"patch_130\">\n    <path clip-path=\"url(#pe17832df14)\" d=\"M 91.259486 239.54625 \nL 93.906126 239.54625 \nL 93.906126 182.260714 \nL 91.259486 182.260714 \nz\n\" style=\"fill:#1f77b4;\"/>\n   </g>\n   <g id=\"patch_131\">\n    <path clip-path=\"url(#pe17832df14)\" d=\"M 93.906126 239.54625 \nL 96.552767 239.54625 \nL 96.552767 215.792247 \nL 93.906126 215.792247 \nz\n\" style=\"fill:#1f77b4;\"/>\n   </g>\n   <g id=\"patch_132\">\n    <path clip-path=\"url(#pe17832df14)\" d=\"M 96.552767 239.54625 \nL 99.199407 239.54625 \nL 99.199407 205.294898 \nL 96.552767 205.294898 \nz\n\" style=\"fill:#1f77b4;\"/>\n   </g>\n   <g id=\"patch_133\">\n    <path clip-path=\"url(#pe17832df14)\" d=\"M 99.199407 239.54625 \nL 101.846047 239.54625 \nL 101.846047 213.092929 \nL 99.199407 213.092929 \nz\n\" style=\"fill:#1f77b4;\"/>\n   </g>\n   <g id=\"patch_134\">\n    <path clip-path=\"url(#pe17832df14)\" d=\"M 101.846047 239.54625 \nL 104.492688 239.54625 \nL 104.492688 185.619866 \nL 101.846047 185.619866 \nz\n\" style=\"fill:#1f77b4;\"/>\n   </g>\n   <g id=\"patch_135\">\n    <path clip-path=\"url(#pe17832df14)\" d=\"M 104.492688 239.54625 \nL 107.139328 239.54625 \nL 107.139328 175.902319 \nL 104.492688 175.902319 \nz\n\" style=\"fill:#1f77b4;\"/>\n   </g>\n   <g id=\"patch_136\">\n    <path clip-path=\"url(#pe17832df14)\" d=\"M 107.139328 239.54625 \nL 109.785968 239.54625 \nL 109.785968 185.979775 \nL 107.139328 185.979775 \nz\n\" style=\"fill:#1f77b4;\"/>\n   </g>\n   <g id=\"patch_137\">\n    <path clip-path=\"url(#pe17832df14)\" d=\"M 109.785968 239.54625 \nL 112.432609 239.54625 \nL 112.432609 204.695049 \nL 109.785968 204.695049 \nz\n\" style=\"fill:#1f77b4;\"/>\n   </g>\n   <g id=\"patch_138\">\n    <path clip-path=\"url(#pe17832df14)\" d=\"M 112.432609 239.54625 \nL 115.079249 239.54625 \nL 115.079249 170.743622 \nL 112.432609 170.743622 \nz\n\" style=\"fill:#1f77b4;\"/>\n   </g>\n   <g id=\"patch_139\">\n    <path clip-path=\"url(#pe17832df14)\" d=\"M 115.079249 239.54625 \nL 117.725889 239.54625 \nL 117.725889 190.778563 \nL 115.079249 190.778563 \nz\n\" style=\"fill:#1f77b4;\"/>\n   </g>\n   <g id=\"patch_140\">\n    <path clip-path=\"url(#pe17832df14)\" d=\"M 117.725889 239.54625 \nL 120.37253 239.54625 \nL 120.37253 204.934989 \nL 117.725889 204.934989 \nz\n\" style=\"fill:#1f77b4;\"/>\n   </g>\n   <g id=\"patch_141\">\n    <path clip-path=\"url(#pe17832df14)\" d=\"M 120.37253 239.54625 \nL 123.01917 239.54625 \nL 123.01917 202.35564 \nL 120.37253 202.35564 \nz\n\" style=\"fill:#1f77b4;\"/>\n   </g>\n   <g id=\"patch_142\">\n    <path clip-path=\"url(#pe17832df14)\" d=\"M 123.01917 239.54625 \nL 125.66581 239.54625 \nL 125.66581 192.278184 \nL 123.01917 192.278184 \nz\n\" style=\"fill:#1f77b4;\"/>\n   </g>\n   <g id=\"patch_143\">\n    <path clip-path=\"url(#pe17832df14)\" d=\"M 125.66581 239.54625 \nL 128.312451 239.54625 \nL 128.312451 215.252384 \nL 125.66581 215.252384 \nz\n\" style=\"fill:#1f77b4;\"/>\n   </g>\n   <g id=\"patch_144\">\n    <path clip-path=\"url(#pe17832df14)\" d=\"M 128.312451 239.54625 \nL 130.959091 239.54625 \nL 130.959091 223.830218 \nL 128.312451 223.830218 \nz\n\" style=\"fill:#1f77b4;\"/>\n   </g>\n   <g id=\"patch_145\">\n    <path clip-path=\"url(#pe17832df14)\" d=\"M 130.959091 239.54625 \nL 133.605731 239.54625 \nL 133.605731 224.550036 \nL 130.959091 224.550036 \nz\n\" style=\"fill:#1f77b4;\"/>\n   </g>\n   <g id=\"patch_146\">\n    <path clip-path=\"url(#pe17832df14)\" d=\"M 133.605731 239.54625 \nL 136.252372 239.54625 \nL 136.252372 228.509037 \nL 133.605731 228.509037 \nz\n\" style=\"fill:#1f77b4;\"/>\n   </g>\n   <g id=\"patch_147\">\n    <path clip-path=\"url(#pe17832df14)\" d=\"M 136.252372 239.54625 \nL 138.899012 239.54625 \nL 138.899012 237.266826 \nL 136.252372 237.266826 \nz\n\" style=\"fill:#1f77b4;\"/>\n   </g>\n   <g id=\"patch_148\">\n    <path clip-path=\"url(#pe17832df14)\" d=\"M 138.899012 239.54625 \nL 141.545652 239.54625 \nL 141.545652 236.666977 \nL 138.899012 236.666977 \nz\n\" style=\"fill:#1f77b4;\"/>\n   </g>\n   <g id=\"patch_149\">\n    <path clip-path=\"url(#pe17832df14)\" d=\"M 141.545652 239.54625 \nL 144.192292 239.54625 \nL 144.192292 234.207598 \nL 141.545652 234.207598 \nz\n\" style=\"fill:#1f77b4;\"/>\n   </g>\n   <g id=\"patch_150\">\n    <path clip-path=\"url(#pe17832df14)\" d=\"M 144.192292 239.54625 \nL 146.838933 239.54625 \nL 146.838933 237.68672 \nL 144.192292 237.68672 \nz\n\" style=\"fill:#1f77b4;\"/>\n   </g>\n   <g id=\"patch_151\">\n    <path clip-path=\"url(#pe17832df14)\" d=\"M 146.838933 239.54625 \nL 149.485573 239.54625 \nL 149.485573 239.54625 \nL 146.838933 239.54625 \nz\n\" style=\"fill:#1f77b4;\"/>\n   </g>\n   <g id=\"patch_152\">\n    <path clip-path=\"url(#pe17832df14)\" d=\"M 149.485573 239.54625 \nL 152.132213 239.54625 \nL 152.132213 239.54625 \nL 149.485573 239.54625 \nz\n\" style=\"fill:#1f77b4;\"/>\n   </g>\n   <g id=\"patch_153\">\n    <path clip-path=\"url(#pe17832df14)\" d=\"M 152.132213 239.54625 \nL 154.778854 239.54625 \nL 154.778854 239.54625 \nL 152.132213 239.54625 \nz\n\" style=\"fill:#1f77b4;\"/>\n   </g>\n   <g id=\"patch_154\">\n    <path clip-path=\"url(#pe17832df14)\" d=\"M 154.778854 239.54625 \nL 157.425494 239.54625 \nL 157.425494 239.54625 \nL 154.778854 239.54625 \nz\n\" style=\"fill:#1f77b4;\"/>\n   </g>\n   <g id=\"patch_155\">\n    <path clip-path=\"url(#pe17832df14)\" d=\"M 157.425494 239.54625 \nL 160.072134 239.54625 \nL 160.072134 239.54625 \nL 157.425494 239.54625 \nz\n\" style=\"fill:#1f77b4;\"/>\n   </g>\n   <g id=\"patch_156\">\n    <path clip-path=\"url(#pe17832df14)\" d=\"M 160.072134 239.54625 \nL 162.718775 239.54625 \nL 162.718775 239.54625 \nL 160.072134 239.54625 \nz\n\" style=\"fill:#1f77b4;\"/>\n   </g>\n   <g id=\"patch_157\">\n    <path clip-path=\"url(#pe17832df14)\" d=\"M 162.718775 239.54625 \nL 165.365415 239.54625 \nL 165.365415 239.54625 \nL 162.718775 239.54625 \nz\n\" style=\"fill:#1f77b4;\"/>\n   </g>\n   <g id=\"patch_158\">\n    <path clip-path=\"url(#pe17832df14)\" d=\"M 165.365415 239.54625 \nL 168.012055 239.54625 \nL 168.012055 239.54625 \nL 165.365415 239.54625 \nz\n\" style=\"fill:#1f77b4;\"/>\n   </g>\n   <g id=\"patch_159\">\n    <path clip-path=\"url(#pe17832df14)\" d=\"M 168.012055 239.54625 \nL 170.658696 239.54625 \nL 170.658696 239.54625 \nL 168.012055 239.54625 \nz\n\" style=\"fill:#1f77b4;\"/>\n   </g>\n   <g id=\"patch_160\">\n    <path clip-path=\"url(#pe17832df14)\" d=\"M 170.658696 239.54625 \nL 173.305336 239.54625 \nL 173.305336 239.54625 \nL 170.658696 239.54625 \nz\n\" style=\"fill:#1f77b4;\"/>\n   </g>\n   <g id=\"patch_161\">\n    <path clip-path=\"url(#pe17832df14)\" d=\"M 173.305336 239.54625 \nL 175.951976 239.54625 \nL 175.951976 239.54625 \nL 173.305336 239.54625 \nz\n\" style=\"fill:#1f77b4;\"/>\n   </g>\n   <g id=\"patch_162\">\n    <path clip-path=\"url(#pe17832df14)\" d=\"M 175.951976 239.54625 \nL 178.598617 239.54625 \nL 178.598617 238.166598 \nL 175.951976 238.166598 \nz\n\" style=\"fill:#1f77b4;\"/>\n   </g>\n   <g id=\"matplotlib.axis_5\">\n    <g id=\"xtick_7\">\n     <g id=\"line2d_27\">\n      <path clip-path=\"url(#pe17832df14)\" d=\"M 43.426312 239.54625 \nL 43.426312 145.00712 \n\" style=\"fill:none;stroke:#b0b0b0;stroke-linecap:square;stroke-width:0.8;\"/>\n     </g>\n     <g id=\"line2d_28\">\n      <g>\n       <use style=\"stroke:#000000;stroke-width:0.8;\" x=\"43.426312\" xlink:href=\"#mfaacfa8246\" y=\"239.54625\"/>\n      </g>\n     </g>\n     <g id=\"text_16\">\n      <!-- 45.150 -->\n      <defs>\n       <path d=\"M 10.796875 72.90625 \nL 49.515625 72.90625 \nL 49.515625 64.59375 \nL 19.828125 64.59375 \nL 19.828125 46.734375 \nQ 21.96875 47.46875 24.109375 47.828125 \nQ 26.265625 48.1875 28.421875 48.1875 \nQ 40.625 48.1875 47.75 41.5 \nQ 54.890625 34.8125 54.890625 23.390625 \nQ 54.890625 11.625 47.5625 5.09375 \nQ 40.234375 -1.421875 26.90625 -1.421875 \nQ 22.3125 -1.421875 17.546875 -0.640625 \nQ 12.796875 0.140625 7.71875 1.703125 \nL 7.71875 11.625 \nQ 12.109375 9.234375 16.796875 8.0625 \nQ 21.484375 6.890625 26.703125 6.890625 \nQ 35.15625 6.890625 40.078125 11.328125 \nQ 45.015625 15.765625 45.015625 23.390625 \nQ 45.015625 31 40.078125 35.4375 \nQ 35.15625 39.890625 26.703125 39.890625 \nQ 22.75 39.890625 18.8125 39.015625 \nQ 14.890625 38.140625 10.796875 36.28125 \nz\n\" id=\"DejaVuSans-53\"/>\n       <path d=\"M 10.6875 12.40625 \nL 21 12.40625 \nL 21 0 \nL 10.6875 0 \nz\n\" id=\"DejaVuSans-46\"/>\n       <path d=\"M 12.40625 8.296875 \nL 28.515625 8.296875 \nL 28.515625 63.921875 \nL 10.984375 60.40625 \nL 10.984375 69.390625 \nL 28.421875 72.90625 \nL 38.28125 72.90625 \nL 38.28125 8.296875 \nL 54.390625 8.296875 \nL 54.390625 0 \nL 12.40625 0 \nz\n\" id=\"DejaVuSans-49\"/>\n      </defs>\n      <g transform=\"translate(25.931 254.144688)scale(0.1 -0.1)\">\n       <use xlink:href=\"#DejaVuSans-52\"/>\n       <use x=\"63.623047\" xlink:href=\"#DejaVuSans-53\"/>\n       <use x=\"127.246094\" xlink:href=\"#DejaVuSans-46\"/>\n       <use x=\"159.033203\" xlink:href=\"#DejaVuSans-49\"/>\n       <use x=\"222.65625\" xlink:href=\"#DejaVuSans-53\"/>\n       <use x=\"286.279297\" xlink:href=\"#DejaVuSans-48\"/>\n      </g>\n     </g>\n    </g>\n    <g id=\"xtick_8\">\n     <g id=\"line2d_29\">\n      <path clip-path=\"url(#pe17832df14)\" d=\"M 88.588937 239.54625 \nL 88.588937 145.00712 \n\" style=\"fill:none;stroke:#b0b0b0;stroke-linecap:square;stroke-width:0.8;\"/>\n     </g>\n     <g id=\"line2d_30\">\n      <g>\n       <use style=\"stroke:#000000;stroke-width:0.8;\" x=\"88.588937\" xlink:href=\"#mfaacfa8246\" y=\"239.54625\"/>\n      </g>\n     </g>\n     <g id=\"text_17\">\n      <!-- 45.175 -->\n      <defs>\n       <path d=\"M 8.203125 72.90625 \nL 55.078125 72.90625 \nL 55.078125 68.703125 \nL 28.609375 0 \nL 18.3125 0 \nL 43.21875 64.59375 \nL 8.203125 64.59375 \nz\n\" id=\"DejaVuSans-55\"/>\n      </defs>\n      <g transform=\"translate(71.093625 254.144688)scale(0.1 -0.1)\">\n       <use xlink:href=\"#DejaVuSans-52\"/>\n       <use x=\"63.623047\" xlink:href=\"#DejaVuSans-53\"/>\n       <use x=\"127.246094\" xlink:href=\"#DejaVuSans-46\"/>\n       <use x=\"159.033203\" xlink:href=\"#DejaVuSans-49\"/>\n       <use x=\"222.65625\" xlink:href=\"#DejaVuSans-55\"/>\n       <use x=\"286.279297\" xlink:href=\"#DejaVuSans-53\"/>\n      </g>\n     </g>\n    </g>\n    <g id=\"xtick_9\">\n     <g id=\"line2d_31\">\n      <path clip-path=\"url(#pe17832df14)\" d=\"M 133.751562 239.54625 \nL 133.751562 145.00712 \n\" style=\"fill:none;stroke:#b0b0b0;stroke-linecap:square;stroke-width:0.8;\"/>\n     </g>\n     <g id=\"line2d_32\">\n      <g>\n       <use style=\"stroke:#000000;stroke-width:0.8;\" x=\"133.751562\" xlink:href=\"#mfaacfa8246\" y=\"239.54625\"/>\n      </g>\n     </g>\n     <g id=\"text_18\">\n      <!-- 45.200 -->\n      <g transform=\"translate(116.25625 254.144688)scale(0.1 -0.1)\">\n       <use xlink:href=\"#DejaVuSans-52\"/>\n       <use x=\"63.623047\" xlink:href=\"#DejaVuSans-53\"/>\n       <use x=\"127.246094\" xlink:href=\"#DejaVuSans-46\"/>\n       <use x=\"159.033203\" xlink:href=\"#DejaVuSans-50\"/>\n       <use x=\"222.65625\" xlink:href=\"#DejaVuSans-48\"/>\n       <use x=\"286.279297\" xlink:href=\"#DejaVuSans-48\"/>\n      </g>\n     </g>\n    </g>\n    <g id=\"xtick_10\">\n     <g id=\"line2d_33\">\n      <path clip-path=\"url(#pe17832df14)\" d=\"M 178.914187 239.54625 \nL 178.914187 145.00712 \n\" style=\"fill:none;stroke:#b0b0b0;stroke-linecap:square;stroke-width:0.8;\"/>\n     </g>\n     <g id=\"line2d_34\">\n      <g>\n       <use style=\"stroke:#000000;stroke-width:0.8;\" x=\"178.914187\" xlink:href=\"#mfaacfa8246\" y=\"239.54625\"/>\n      </g>\n     </g>\n     <g id=\"text_19\">\n      <!-- 45.225 -->\n      <g transform=\"translate(161.418875 254.144688)scale(0.1 -0.1)\">\n       <use xlink:href=\"#DejaVuSans-52\"/>\n       <use x=\"63.623047\" xlink:href=\"#DejaVuSans-53\"/>\n       <use x=\"127.246094\" xlink:href=\"#DejaVuSans-46\"/>\n       <use x=\"159.033203\" xlink:href=\"#DejaVuSans-50\"/>\n       <use x=\"222.65625\" xlink:href=\"#DejaVuSans-50\"/>\n       <use x=\"286.279297\" xlink:href=\"#DejaVuSans-53\"/>\n      </g>\n     </g>\n    </g>\n   </g>\n   <g id=\"matplotlib.axis_6\">\n    <g id=\"ytick_8\">\n     <g id=\"line2d_35\">\n      <path clip-path=\"url(#pe17832df14)\" d=\"M 39.65 239.54625 \nL 185.215217 239.54625 \n\" style=\"fill:none;stroke:#b0b0b0;stroke-linecap:square;stroke-width:0.8;\"/>\n     </g>\n     <g id=\"line2d_36\">\n      <g>\n       <use style=\"stroke:#000000;stroke-width:0.8;\" x=\"39.65\" xlink:href=\"#m1fff54c99d\" y=\"239.54625\"/>\n      </g>\n     </g>\n     <g id=\"text_20\">\n      <!-- 0 -->\n      <g transform=\"translate(26.2875 243.345469)scale(0.1 -0.1)\">\n       <use xlink:href=\"#DejaVuSans-48\"/>\n      </g>\n     </g>\n    </g>\n    <g id=\"ytick_9\">\n     <g id=\"line2d_37\">\n      <path clip-path=\"url(#pe17832df14)\" d=\"M 39.65 209.553823 \nL 185.215217 209.553823 \n\" style=\"fill:none;stroke:#b0b0b0;stroke-linecap:square;stroke-width:0.8;\"/>\n     </g>\n     <g id=\"line2d_38\">\n      <g>\n       <use style=\"stroke:#000000;stroke-width:0.8;\" x=\"39.65\" xlink:href=\"#m1fff54c99d\" y=\"209.553823\"/>\n      </g>\n     </g>\n     <g id=\"text_21\">\n      <!-- 500 -->\n      <g transform=\"translate(13.5625 213.353041)scale(0.1 -0.1)\">\n       <use xlink:href=\"#DejaVuSans-53\"/>\n       <use x=\"63.623047\" xlink:href=\"#DejaVuSans-48\"/>\n       <use x=\"127.246094\" xlink:href=\"#DejaVuSans-48\"/>\n      </g>\n     </g>\n    </g>\n    <g id=\"ytick_10\">\n     <g id=\"line2d_39\">\n      <path clip-path=\"url(#pe17832df14)\" d=\"M 39.65 179.561395 \nL 185.215217 179.561395 \n\" style=\"fill:none;stroke:#b0b0b0;stroke-linecap:square;stroke-width:0.8;\"/>\n     </g>\n     <g id=\"line2d_40\">\n      <g>\n       <use style=\"stroke:#000000;stroke-width:0.8;\" x=\"39.65\" xlink:href=\"#m1fff54c99d\" y=\"179.561395\"/>\n      </g>\n     </g>\n     <g id=\"text_22\">\n      <!-- 1000 -->\n      <g transform=\"translate(7.2 183.360614)scale(0.1 -0.1)\">\n       <use xlink:href=\"#DejaVuSans-49\"/>\n       <use x=\"63.623047\" xlink:href=\"#DejaVuSans-48\"/>\n       <use x=\"127.246094\" xlink:href=\"#DejaVuSans-48\"/>\n       <use x=\"190.869141\" xlink:href=\"#DejaVuSans-48\"/>\n      </g>\n     </g>\n    </g>\n    <g id=\"ytick_11\">\n     <g id=\"line2d_41\">\n      <path clip-path=\"url(#pe17832df14)\" d=\"M 39.65 149.568968 \nL 185.215217 149.568968 \n\" style=\"fill:none;stroke:#b0b0b0;stroke-linecap:square;stroke-width:0.8;\"/>\n     </g>\n     <g id=\"line2d_42\">\n      <g>\n       <use style=\"stroke:#000000;stroke-width:0.8;\" x=\"39.65\" xlink:href=\"#m1fff54c99d\" y=\"149.568968\"/>\n      </g>\n     </g>\n     <g id=\"text_23\">\n      <!-- 1500 -->\n      <g transform=\"translate(7.2 153.368187)scale(0.1 -0.1)\">\n       <use xlink:href=\"#DejaVuSans-49\"/>\n       <use x=\"63.623047\" xlink:href=\"#DejaVuSans-53\"/>\n       <use x=\"127.246094\" xlink:href=\"#DejaVuSans-48\"/>\n       <use x=\"190.869141\" xlink:href=\"#DejaVuSans-48\"/>\n      </g>\n     </g>\n    </g>\n   </g>\n   <g id=\"patch_163\">\n    <path d=\"M 39.65 239.54625 \nL 39.65 145.00712 \n\" style=\"fill:none;stroke:#000000;stroke-linecap:square;stroke-linejoin:miter;stroke-width:0.8;\"/>\n   </g>\n   <g id=\"patch_164\">\n    <path d=\"M 185.215217 239.54625 \nL 185.215217 145.00712 \n\" style=\"fill:none;stroke:#000000;stroke-linecap:square;stroke-linejoin:miter;stroke-width:0.8;\"/>\n   </g>\n   <g id=\"patch_165\">\n    <path d=\"M 39.65 239.54625 \nL 185.215217 239.54625 \n\" style=\"fill:none;stroke:#000000;stroke-linecap:square;stroke-linejoin:miter;stroke-width:0.8;\"/>\n   </g>\n   <g id=\"patch_166\">\n    <path d=\"M 39.65 145.00712 \nL 185.215217 145.00712 \n\" style=\"fill:none;stroke:#000000;stroke-linecap:square;stroke-linejoin:miter;stroke-width:0.8;\"/>\n   </g>\n   <g id=\"text_24\">\n    <!-- latitude -->\n    <defs>\n     <path d=\"M 9.421875 75.984375 \nL 18.40625 75.984375 \nL 18.40625 0 \nL 9.421875 0 \nz\n\" id=\"DejaVuSans-108\"/>\n     <path d=\"M 34.28125 27.484375 \nQ 23.390625 27.484375 19.1875 25 \nQ 14.984375 22.515625 14.984375 16.5 \nQ 14.984375 11.71875 18.140625 8.90625 \nQ 21.296875 6.109375 26.703125 6.109375 \nQ 34.1875 6.109375 38.703125 11.40625 \nQ 43.21875 16.703125 43.21875 25.484375 \nL 43.21875 27.484375 \nz\nM 52.203125 31.203125 \nL 52.203125 0 \nL 43.21875 0 \nL 43.21875 8.296875 \nQ 40.140625 3.328125 35.546875 0.953125 \nQ 30.953125 -1.421875 24.3125 -1.421875 \nQ 15.921875 -1.421875 10.953125 3.296875 \nQ 6 8.015625 6 15.921875 \nQ 6 25.140625 12.171875 29.828125 \nQ 18.359375 34.515625 30.609375 34.515625 \nL 43.21875 34.515625 \nL 43.21875 35.40625 \nQ 43.21875 41.609375 39.140625 45 \nQ 35.0625 48.390625 27.6875 48.390625 \nQ 23 48.390625 18.546875 47.265625 \nQ 14.109375 46.140625 10.015625 43.890625 \nL 10.015625 52.203125 \nQ 14.9375 54.109375 19.578125 55.046875 \nQ 24.21875 56 28.609375 56 \nQ 40.484375 56 46.34375 49.84375 \nQ 52.203125 43.703125 52.203125 31.203125 \nz\n\" id=\"DejaVuSans-97\"/>\n     <path d=\"M 18.3125 70.21875 \nL 18.3125 54.6875 \nL 36.8125 54.6875 \nL 36.8125 47.703125 \nL 18.3125 47.703125 \nL 18.3125 18.015625 \nQ 18.3125 11.328125 20.140625 9.421875 \nQ 21.96875 7.515625 27.59375 7.515625 \nL 36.8125 7.515625 \nL 36.8125 0 \nL 27.59375 0 \nQ 17.1875 0 13.234375 3.875 \nQ 9.28125 7.765625 9.28125 18.015625 \nL 9.28125 47.703125 \nL 2.6875 47.703125 \nL 2.6875 54.6875 \nL 9.28125 54.6875 \nL 9.28125 70.21875 \nz\n\" id=\"DejaVuSans-116\"/>\n     <path d=\"M 9.421875 54.6875 \nL 18.40625 54.6875 \nL 18.40625 0 \nL 9.421875 0 \nz\nM 9.421875 75.984375 \nL 18.40625 75.984375 \nL 18.40625 64.59375 \nL 9.421875 64.59375 \nz\n\" id=\"DejaVuSans-105\"/>\n     <path d=\"M 8.5 21.578125 \nL 8.5 54.6875 \nL 17.484375 54.6875 \nL 17.484375 21.921875 \nQ 17.484375 14.15625 20.5 10.265625 \nQ 23.53125 6.390625 29.59375 6.390625 \nQ 36.859375 6.390625 41.078125 11.03125 \nQ 45.3125 15.671875 45.3125 23.6875 \nL 45.3125 54.6875 \nL 54.296875 54.6875 \nL 54.296875 0 \nL 45.3125 0 \nL 45.3125 8.40625 \nQ 42.046875 3.421875 37.71875 1 \nQ 33.40625 -1.421875 27.6875 -1.421875 \nQ 18.265625 -1.421875 13.375 4.4375 \nQ 8.5 10.296875 8.5 21.578125 \nz\nM 31.109375 56 \nz\n\" id=\"DejaVuSans-117\"/>\n     <path d=\"M 45.40625 46.390625 \nL 45.40625 75.984375 \nL 54.390625 75.984375 \nL 54.390625 0 \nL 45.40625 0 \nL 45.40625 8.203125 \nQ 42.578125 3.328125 38.25 0.953125 \nQ 33.9375 -1.421875 27.875 -1.421875 \nQ 17.96875 -1.421875 11.734375 6.484375 \nQ 5.515625 14.40625 5.515625 27.296875 \nQ 5.515625 40.1875 11.734375 48.09375 \nQ 17.96875 56 27.875 56 \nQ 33.9375 56 38.25 53.625 \nQ 42.578125 51.265625 45.40625 46.390625 \nz\nM 14.796875 27.296875 \nQ 14.796875 17.390625 18.875 11.75 \nQ 22.953125 6.109375 30.078125 6.109375 \nQ 37.203125 6.109375 41.296875 11.75 \nQ 45.40625 17.390625 45.40625 27.296875 \nQ 45.40625 37.203125 41.296875 42.84375 \nQ 37.203125 48.484375 30.078125 48.484375 \nQ 22.953125 48.484375 18.875 42.84375 \nQ 14.796875 37.203125 14.796875 27.296875 \nz\n\" id=\"DejaVuSans-100\"/>\n     <path d=\"M 56.203125 29.59375 \nL 56.203125 25.203125 \nL 14.890625 25.203125 \nQ 15.484375 15.921875 20.484375 11.0625 \nQ 25.484375 6.203125 34.421875 6.203125 \nQ 39.59375 6.203125 44.453125 7.46875 \nQ 49.3125 8.734375 54.109375 11.28125 \nL 54.109375 2.78125 \nQ 49.265625 0.734375 44.1875 -0.34375 \nQ 39.109375 -1.421875 33.890625 -1.421875 \nQ 20.796875 -1.421875 13.15625 6.1875 \nQ 5.515625 13.8125 5.515625 26.8125 \nQ 5.515625 40.234375 12.765625 48.109375 \nQ 20.015625 56 32.328125 56 \nQ 43.359375 56 49.78125 48.890625 \nQ 56.203125 41.796875 56.203125 29.59375 \nz\nM 47.21875 32.234375 \nQ 47.125 39.59375 43.09375 43.984375 \nQ 39.0625 48.390625 32.421875 48.390625 \nQ 24.90625 48.390625 20.390625 44.140625 \nQ 15.875 39.890625 15.1875 32.171875 \nz\n\" id=\"DejaVuSans-101\"/>\n    </defs>\n    <g transform=\"translate(89.414171 139.00712)scale(0.12 -0.12)\">\n     <use xlink:href=\"#DejaVuSans-108\"/>\n     <use x=\"27.783203\" xlink:href=\"#DejaVuSans-97\"/>\n     <use x=\"89.0625\" xlink:href=\"#DejaVuSans-116\"/>\n     <use x=\"128.271484\" xlink:href=\"#DejaVuSans-105\"/>\n     <use x=\"156.054688\" xlink:href=\"#DejaVuSans-116\"/>\n     <use x=\"195.263672\" xlink:href=\"#DejaVuSans-117\"/>\n     <use x=\"258.642578\" xlink:href=\"#DejaVuSans-100\"/>\n     <use x=\"322.119141\" xlink:href=\"#DejaVuSans-101\"/>\n    </g>\n   </g>\n  </g>\n  <g id=\"axes_4\">\n   <g id=\"patch_167\">\n    <path d=\"M 228.884783 239.54625 \nL 374.45 239.54625 \nL 374.45 145.00712 \nL 228.884783 145.00712 \nz\n\" style=\"fill:#ffffff;\"/>\n   </g>\n   <g id=\"patch_168\">\n    <path clip-path=\"url(#p8f25be935b)\" d=\"M 235.501383 239.54625 \nL 238.148024 239.54625 \nL 238.148024 237.944163 \nL 235.501383 237.944163 \nz\n\" style=\"fill:#1f77b4;\"/>\n   </g>\n   <g id=\"patch_169\">\n    <path clip-path=\"url(#p8f25be935b)\" d=\"M 238.148024 239.54625 \nL 240.794664 239.54625 \nL 240.794664 235.609694 \nL 238.148024 235.609694 \nz\n\" style=\"fill:#1f77b4;\"/>\n   </g>\n   <g id=\"patch_170\">\n    <path clip-path=\"url(#p8f25be935b)\" d=\"M 240.794664 239.54625 \nL 243.441304 239.54625 \nL 243.441304 211.669943 \nL 240.794664 211.669943 \nz\n\" style=\"fill:#1f77b4;\"/>\n   </g>\n   <g id=\"patch_171\">\n    <path clip-path=\"url(#p8f25be935b)\" d=\"M 243.441304 239.54625 \nL 246.087945 239.54625 \nL 246.087945 195.511755 \nL 243.441304 195.511755 \nz\n\" style=\"fill:#1f77b4;\"/>\n   </g>\n   <g id=\"patch_172\">\n    <path clip-path=\"url(#p8f25be935b)\" d=\"M 246.087945 239.54625 \nL 248.734585 239.54625 \nL 248.734585 198.624381 \nL 246.087945 198.624381 \nz\n\" style=\"fill:#1f77b4;\"/>\n   </g>\n   <g id=\"patch_173\">\n    <path clip-path=\"url(#p8f25be935b)\" d=\"M 248.734585 239.54625 \nL 251.381225 239.54625 \nL 251.381225 209.243926 \nL 248.734585 209.243926 \nz\n\" style=\"fill:#1f77b4;\"/>\n   </g>\n   <g id=\"patch_174\">\n    <path clip-path=\"url(#p8f25be935b)\" d=\"M 251.381225 239.54625 \nL 254.027866 239.54625 \nL 254.027866 198.578607 \nL 251.381225 198.578607 \nz\n\" style=\"fill:#1f77b4;\"/>\n   </g>\n   <g id=\"patch_175\">\n    <path clip-path=\"url(#p8f25be935b)\" d=\"M 254.027866 239.54625 \nL 256.674506 239.54625 \nL 256.674506 203.979927 \nL 254.027866 203.979927 \nz\n\" style=\"fill:#1f77b4;\"/>\n   </g>\n   <g id=\"patch_176\">\n    <path clip-path=\"url(#p8f25be935b)\" d=\"M 256.674506 239.54625 \nL 259.321146 239.54625 \nL 259.321146 218.444481 \nL 256.674506 218.444481 \nz\n\" style=\"fill:#1f77b4;\"/>\n   </g>\n   <g id=\"patch_177\">\n    <path clip-path=\"url(#p8f25be935b)\" d=\"M 259.321146 239.54625 \nL 261.967787 239.54625 \nL 261.967787 206.039753 \nL 259.321146 206.039753 \nz\n\" style=\"fill:#1f77b4;\"/>\n   </g>\n   <g id=\"patch_178\">\n    <path clip-path=\"url(#p8f25be935b)\" d=\"M 261.967787 239.54625 \nL 264.614427 239.54625 \nL 264.614427 202.103197 \nL 261.967787 202.103197 \nz\n\" style=\"fill:#1f77b4;\"/>\n   </g>\n   <g id=\"patch_179\">\n    <path clip-path=\"url(#p8f25be935b)\" d=\"M 264.614427 239.54625 \nL 267.261067 239.54625 \nL 267.261067 197.388485 \nL 264.614427 197.388485 \nz\n\" style=\"fill:#1f77b4;\"/>\n   </g>\n   <g id=\"patch_180\">\n    <path clip-path=\"url(#p8f25be935b)\" d=\"M 267.261067 239.54625 \nL 269.907708 239.54625 \nL 269.907708 197.388485 \nL 267.261067 197.388485 \nz\n\" style=\"fill:#1f77b4;\"/>\n   </g>\n   <g id=\"patch_181\">\n    <path clip-path=\"url(#p8f25be935b)\" d=\"M 269.907708 239.54625 \nL 272.554348 239.54625 \nL 272.554348 185.075306 \nL 269.907708 185.075306 \nz\n\" style=\"fill:#1f77b4;\"/>\n   </g>\n   <g id=\"patch_182\">\n    <path clip-path=\"url(#p8f25be935b)\" d=\"M 272.554348 239.54625 \nL 275.200988 239.54625 \nL 275.200988 192.124487 \nL 272.554348 192.124487 \nz\n\" style=\"fill:#1f77b4;\"/>\n   </g>\n   <g id=\"patch_183\">\n    <path clip-path=\"url(#p8f25be935b)\" d=\"M 275.200988 239.54625 \nL 277.847628 239.54625 \nL 277.847628 193.909669 \nL 275.200988 193.909669 \nz\n\" style=\"fill:#1f77b4;\"/>\n   </g>\n   <g id=\"patch_184\">\n    <path clip-path=\"url(#p8f25be935b)\" d=\"M 277.847628 239.54625 \nL 280.494269 239.54625 \nL 280.494269 198.441285 \nL 277.847628 198.441285 \nz\n\" style=\"fill:#1f77b4;\"/>\n   </g>\n   <g id=\"patch_185\">\n    <path clip-path=\"url(#p8f25be935b)\" d=\"M 280.494269 239.54625 \nL 283.140909 239.54625 \nL 283.140909 158.480668 \nL 280.494269 158.480668 \nz\n\" style=\"fill:#1f77b4;\"/>\n   </g>\n   <g id=\"patch_186\">\n    <path clip-path=\"url(#p8f25be935b)\" d=\"M 283.140909 239.54625 \nL 285.787549 239.54625 \nL 285.787549 149.508983 \nL 283.140909 149.508983 \nz\n\" style=\"fill:#1f77b4;\"/>\n   </g>\n   <g id=\"patch_187\">\n    <path clip-path=\"url(#p8f25be935b)\" d=\"M 285.787549 239.54625 \nL 288.43419 239.54625 \nL 288.43419 164.385501 \nL 285.787549 164.385501 \nz\n\" style=\"fill:#1f77b4;\"/>\n   </g>\n   <g id=\"patch_188\">\n    <path clip-path=\"url(#p8f25be935b)\" d=\"M 288.43419 239.54625 \nL 291.08083 239.54625 \nL 291.08083 156.191973 \nL 288.43419 156.191973 \nz\n\" style=\"fill:#1f77b4;\"/>\n   </g>\n   <g id=\"patch_189\">\n    <path clip-path=\"url(#p8f25be935b)\" d=\"M 291.08083 239.54625 \nL 293.72747 239.54625 \nL 293.72747 180.497915 \nL 291.08083 180.497915 \nz\n\" style=\"fill:#1f77b4;\"/>\n   </g>\n   <g id=\"patch_190\">\n    <path clip-path=\"url(#p8f25be935b)\" d=\"M 293.72747 239.54625 \nL 296.374111 239.54625 \nL 296.374111 198.166642 \nL 293.72747 198.166642 \nz\n\" style=\"fill:#1f77b4;\"/>\n   </g>\n   <g id=\"patch_191\">\n    <path clip-path=\"url(#p8f25be935b)\" d=\"M 296.374111 239.54625 \nL 299.020751 239.54625 \nL 299.020751 211.715717 \nL 296.374111 211.715717 \nz\n\" style=\"fill:#1f77b4;\"/>\n   </g>\n   <g id=\"patch_192\">\n    <path clip-path=\"url(#p8f25be935b)\" d=\"M 299.020751 239.54625 \nL 301.667391 239.54625 \nL 301.667391 225.447888 \nL 299.020751 225.447888 \nz\n\" style=\"fill:#1f77b4;\"/>\n   </g>\n   <g id=\"patch_193\">\n    <path clip-path=\"url(#p8f25be935b)\" d=\"M 301.667391 239.54625 \nL 304.314032 239.54625 \nL 304.314032 231.032304 \nL 301.667391 231.032304 \nz\n\" style=\"fill:#1f77b4;\"/>\n   </g>\n   <g id=\"patch_194\">\n    <path clip-path=\"url(#p8f25be935b)\" d=\"M 304.314032 239.54625 \nL 306.960672 239.54625 \nL 306.960672 235.701242 \nL 304.314032 235.701242 \nz\n\" style=\"fill:#1f77b4;\"/>\n   </g>\n   <g id=\"patch_195\">\n    <path clip-path=\"url(#p8f25be935b)\" d=\"M 306.960672 239.54625 \nL 309.607312 239.54625 \nL 309.607312 239.54625 \nL 306.960672 239.54625 \nz\n\" style=\"fill:#1f77b4;\"/>\n   </g>\n   <g id=\"patch_196\">\n    <path clip-path=\"url(#p8f25be935b)\" d=\"M 309.607312 239.54625 \nL 312.253953 239.54625 \nL 312.253953 239.54625 \nL 309.607312 239.54625 \nz\n\" style=\"fill:#1f77b4;\"/>\n   </g>\n   <g id=\"patch_197\">\n    <path clip-path=\"url(#p8f25be935b)\" d=\"M 312.253953 239.54625 \nL 314.900593 239.54625 \nL 314.900593 239.363154 \nL 312.253953 239.363154 \nz\n\" style=\"fill:#1f77b4;\"/>\n   </g>\n   <g id=\"patch_198\">\n    <path clip-path=\"url(#p8f25be935b)\" d=\"M 314.900593 239.54625 \nL 317.547233 239.54625 \nL 317.547233 237.761068 \nL 314.900593 237.761068 \nz\n\" style=\"fill:#1f77b4;\"/>\n   </g>\n   <g id=\"patch_199\">\n    <path clip-path=\"url(#p8f25be935b)\" d=\"M 317.547233 239.54625 \nL 320.193874 239.54625 \nL 320.193874 239.134285 \nL 317.547233 239.134285 \nz\n\" style=\"fill:#1f77b4;\"/>\n   </g>\n   <g id=\"patch_200\">\n    <path clip-path=\"url(#p8f25be935b)\" d=\"M 320.193874 239.54625 \nL 322.840514 239.54625 \nL 322.840514 239.54625 \nL 320.193874 239.54625 \nz\n\" style=\"fill:#1f77b4;\"/>\n   </g>\n   <g id=\"patch_201\">\n    <path clip-path=\"url(#p8f25be935b)\" d=\"M 322.840514 239.54625 \nL 325.487154 239.54625 \nL 325.487154 239.54625 \nL 322.840514 239.54625 \nz\n\" style=\"fill:#1f77b4;\"/>\n   </g>\n   <g id=\"patch_202\">\n    <path clip-path=\"url(#p8f25be935b)\" d=\"M 325.487154 239.54625 \nL 328.133794 239.54625 \nL 328.133794 239.54625 \nL 325.487154 239.54625 \nz\n\" style=\"fill:#1f77b4;\"/>\n   </g>\n   <g id=\"patch_203\">\n    <path clip-path=\"url(#p8f25be935b)\" d=\"M 328.133794 239.54625 \nL 330.780435 239.54625 \nL 330.780435 239.54625 \nL 328.133794 239.54625 \nz\n\" style=\"fill:#1f77b4;\"/>\n   </g>\n   <g id=\"patch_204\">\n    <path clip-path=\"url(#p8f25be935b)\" d=\"M 330.780435 239.54625 \nL 333.427075 239.54625 \nL 333.427075 239.54625 \nL 330.780435 239.54625 \nz\n\" style=\"fill:#1f77b4;\"/>\n   </g>\n   <g id=\"patch_205\">\n    <path clip-path=\"url(#p8f25be935b)\" d=\"M 333.427075 239.54625 \nL 336.073715 239.54625 \nL 336.073715 239.54625 \nL 333.427075 239.54625 \nz\n\" style=\"fill:#1f77b4;\"/>\n   </g>\n   <g id=\"patch_206\">\n    <path clip-path=\"url(#p8f25be935b)\" d=\"M 336.073715 239.54625 \nL 338.720356 239.54625 \nL 338.720356 239.54625 \nL 336.073715 239.54625 \nz\n\" style=\"fill:#1f77b4;\"/>\n   </g>\n   <g id=\"patch_207\">\n    <path clip-path=\"url(#p8f25be935b)\" d=\"M 338.720356 239.54625 \nL 341.366996 239.54625 \nL 341.366996 239.54625 \nL 338.720356 239.54625 \nz\n\" style=\"fill:#1f77b4;\"/>\n   </g>\n   <g id=\"patch_208\">\n    <path clip-path=\"url(#p8f25be935b)\" d=\"M 341.366996 239.54625 \nL 344.013636 239.54625 \nL 344.013636 239.54625 \nL 341.366996 239.54625 \nz\n\" style=\"fill:#1f77b4;\"/>\n   </g>\n   <g id=\"patch_209\">\n    <path clip-path=\"url(#p8f25be935b)\" d=\"M 344.013636 239.54625 \nL 346.660277 239.54625 \nL 346.660277 239.54625 \nL 344.013636 239.54625 \nz\n\" style=\"fill:#1f77b4;\"/>\n   </g>\n   <g id=\"patch_210\">\n    <path clip-path=\"url(#p8f25be935b)\" d=\"M 346.660277 239.54625 \nL 349.306917 239.54625 \nL 349.306917 239.54625 \nL 346.660277 239.54625 \nz\n\" style=\"fill:#1f77b4;\"/>\n   </g>\n   <g id=\"patch_211\">\n    <path clip-path=\"url(#p8f25be935b)\" d=\"M 349.306917 239.54625 \nL 351.953557 239.54625 \nL 351.953557 239.54625 \nL 349.306917 239.54625 \nz\n\" style=\"fill:#1f77b4;\"/>\n   </g>\n   <g id=\"patch_212\">\n    <path clip-path=\"url(#p8f25be935b)\" d=\"M 351.953557 239.54625 \nL 354.600198 239.54625 \nL 354.600198 239.54625 \nL 351.953557 239.54625 \nz\n\" style=\"fill:#1f77b4;\"/>\n   </g>\n   <g id=\"patch_213\">\n    <path clip-path=\"url(#p8f25be935b)\" d=\"M 354.600198 239.54625 \nL 357.246838 239.54625 \nL 357.246838 239.54625 \nL 354.600198 239.54625 \nz\n\" style=\"fill:#1f77b4;\"/>\n   </g>\n   <g id=\"patch_214\">\n    <path clip-path=\"url(#p8f25be935b)\" d=\"M 357.246838 239.54625 \nL 359.893478 239.54625 \nL 359.893478 239.54625 \nL 357.246838 239.54625 \nz\n\" style=\"fill:#1f77b4;\"/>\n   </g>\n   <g id=\"patch_215\">\n    <path clip-path=\"url(#p8f25be935b)\" d=\"M 359.893478 239.54625 \nL 362.540119 239.54625 \nL 362.540119 239.54625 \nL 359.893478 239.54625 \nz\n\" style=\"fill:#1f77b4;\"/>\n   </g>\n   <g id=\"patch_216\">\n    <path clip-path=\"url(#p8f25be935b)\" d=\"M 362.540119 239.54625 \nL 365.186759 239.54625 \nL 365.186759 239.54625 \nL 362.540119 239.54625 \nz\n\" style=\"fill:#1f77b4;\"/>\n   </g>\n   <g id=\"patch_217\">\n    <path clip-path=\"url(#p8f25be935b)\" d=\"M 365.186759 239.54625 \nL 367.833399 239.54625 \nL 367.833399 238.49345 \nL 365.186759 238.49345 \nz\n\" style=\"fill:#1f77b4;\"/>\n   </g>\n   <g id=\"matplotlib.axis_7\">\n    <g id=\"xtick_11\">\n     <g id=\"line2d_43\">\n      <path clip-path=\"url(#p8f25be935b)\" d=\"M 238.238849 239.54625 \nL 238.238849 145.00712 \n\" style=\"fill:none;stroke:#b0b0b0;stroke-linecap:square;stroke-width:0.8;\"/>\n     </g>\n     <g id=\"line2d_44\">\n      <g>\n       <use style=\"stroke:#000000;stroke-width:0.8;\" x=\"238.238849\" xlink:href=\"#mfaacfa8246\" y=\"239.54625\"/>\n      </g>\n     </g>\n     <g id=\"text_25\">\n      <!-- 5.70 -->\n      <g transform=\"translate(227.106036 254.144688)scale(0.1 -0.1)\">\n       <use xlink:href=\"#DejaVuSans-53\"/>\n       <use x=\"63.623047\" xlink:href=\"#DejaVuSans-46\"/>\n       <use x=\"95.410156\" xlink:href=\"#DejaVuSans-55\"/>\n       <use x=\"159.033203\" xlink:href=\"#DejaVuSans-48\"/>\n      </g>\n     </g>\n    </g>\n    <g id=\"xtick_12\">\n     <g id=\"line2d_45\">\n      <path clip-path=\"url(#p8f25be935b)\" d=\"M 303.887001 239.54625 \nL 303.887001 145.00712 \n\" style=\"fill:none;stroke:#b0b0b0;stroke-linecap:square;stroke-width:0.8;\"/>\n     </g>\n     <g id=\"line2d_46\">\n      <g>\n       <use style=\"stroke:#000000;stroke-width:0.8;\" x=\"303.887001\" xlink:href=\"#mfaacfa8246\" y=\"239.54625\"/>\n      </g>\n     </g>\n     <g id=\"text_26\">\n      <!-- 5.75 -->\n      <g transform=\"translate(292.754189 254.144688)scale(0.1 -0.1)\">\n       <use xlink:href=\"#DejaVuSans-53\"/>\n       <use x=\"63.623047\" xlink:href=\"#DejaVuSans-46\"/>\n       <use x=\"95.410156\" xlink:href=\"#DejaVuSans-55\"/>\n       <use x=\"159.033203\" xlink:href=\"#DejaVuSans-53\"/>\n      </g>\n     </g>\n    </g>\n    <g id=\"xtick_13\">\n     <g id=\"line2d_47\">\n      <path clip-path=\"url(#p8f25be935b)\" d=\"M 369.535154 239.54625 \nL 369.535154 145.00712 \n\" style=\"fill:none;stroke:#b0b0b0;stroke-linecap:square;stroke-width:0.8;\"/>\n     </g>\n     <g id=\"line2d_48\">\n      <g>\n       <use style=\"stroke:#000000;stroke-width:0.8;\" x=\"369.535154\" xlink:href=\"#mfaacfa8246\" y=\"239.54625\"/>\n      </g>\n     </g>\n     <g id=\"text_27\">\n      <!-- 5.80 -->\n      <defs>\n       <path d=\"M 31.78125 34.625 \nQ 24.75 34.625 20.71875 30.859375 \nQ 16.703125 27.09375 16.703125 20.515625 \nQ 16.703125 13.921875 20.71875 10.15625 \nQ 24.75 6.390625 31.78125 6.390625 \nQ 38.8125 6.390625 42.859375 10.171875 \nQ 46.921875 13.96875 46.921875 20.515625 \nQ 46.921875 27.09375 42.890625 30.859375 \nQ 38.875 34.625 31.78125 34.625 \nz\nM 21.921875 38.8125 \nQ 15.578125 40.375 12.03125 44.71875 \nQ 8.5 49.078125 8.5 55.328125 \nQ 8.5 64.0625 14.71875 69.140625 \nQ 20.953125 74.21875 31.78125 74.21875 \nQ 42.671875 74.21875 48.875 69.140625 \nQ 55.078125 64.0625 55.078125 55.328125 \nQ 55.078125 49.078125 51.53125 44.71875 \nQ 48 40.375 41.703125 38.8125 \nQ 48.828125 37.15625 52.796875 32.3125 \nQ 56.78125 27.484375 56.78125 20.515625 \nQ 56.78125 9.90625 50.3125 4.234375 \nQ 43.84375 -1.421875 31.78125 -1.421875 \nQ 19.734375 -1.421875 13.25 4.234375 \nQ 6.78125 9.90625 6.78125 20.515625 \nQ 6.78125 27.484375 10.78125 32.3125 \nQ 14.796875 37.15625 21.921875 38.8125 \nz\nM 18.3125 54.390625 \nQ 18.3125 48.734375 21.84375 45.5625 \nQ 25.390625 42.390625 31.78125 42.390625 \nQ 38.140625 42.390625 41.71875 45.5625 \nQ 45.3125 48.734375 45.3125 54.390625 \nQ 45.3125 60.0625 41.71875 63.234375 \nQ 38.140625 66.40625 31.78125 66.40625 \nQ 25.390625 66.40625 21.84375 63.234375 \nQ 18.3125 60.0625 18.3125 54.390625 \nz\n\" id=\"DejaVuSans-56\"/>\n      </defs>\n      <g transform=\"translate(358.402342 254.144688)scale(0.1 -0.1)\">\n       <use xlink:href=\"#DejaVuSans-53\"/>\n       <use x=\"63.623047\" xlink:href=\"#DejaVuSans-46\"/>\n       <use x=\"95.410156\" xlink:href=\"#DejaVuSans-56\"/>\n       <use x=\"159.033203\" xlink:href=\"#DejaVuSans-48\"/>\n      </g>\n     </g>\n    </g>\n   </g>\n   <g id=\"matplotlib.axis_8\">\n    <g id=\"ytick_12\">\n     <g id=\"line2d_49\">\n      <path clip-path=\"url(#p8f25be935b)\" d=\"M 228.884783 239.54625 \nL 374.45 239.54625 \n\" style=\"fill:none;stroke:#b0b0b0;stroke-linecap:square;stroke-width:0.8;\"/>\n     </g>\n     <g id=\"line2d_50\">\n      <g>\n       <use style=\"stroke:#000000;stroke-width:0.8;\" x=\"228.884783\" xlink:href=\"#m1fff54c99d\" y=\"239.54625\"/>\n      </g>\n     </g>\n     <g id=\"text_28\">\n      <!-- 0 -->\n      <g transform=\"translate(215.522283 243.345469)scale(0.1 -0.1)\">\n       <use xlink:href=\"#DejaVuSans-48\"/>\n      </g>\n     </g>\n    </g>\n    <g id=\"ytick_13\">\n     <g id=\"line2d_51\">\n      <path clip-path=\"url(#p8f25be935b)\" d=\"M 228.884783 193.772347 \nL 374.45 193.772347 \n\" style=\"fill:none;stroke:#b0b0b0;stroke-linecap:square;stroke-width:0.8;\"/>\n     </g>\n     <g id=\"line2d_52\">\n      <g>\n       <use style=\"stroke:#000000;stroke-width:0.8;\" x=\"228.884783\" xlink:href=\"#m1fff54c99d\" y=\"193.772347\"/>\n      </g>\n     </g>\n     <g id=\"text_29\">\n      <!-- 1000 -->\n      <g transform=\"translate(196.434783 197.571566)scale(0.1 -0.1)\">\n       <use xlink:href=\"#DejaVuSans-49\"/>\n       <use x=\"63.623047\" xlink:href=\"#DejaVuSans-48\"/>\n       <use x=\"127.246094\" xlink:href=\"#DejaVuSans-48\"/>\n       <use x=\"190.869141\" xlink:href=\"#DejaVuSans-48\"/>\n      </g>\n     </g>\n    </g>\n    <g id=\"ytick_14\">\n     <g id=\"line2d_53\">\n      <path clip-path=\"url(#p8f25be935b)\" d=\"M 228.884783 147.998444 \nL 374.45 147.998444 \n\" style=\"fill:none;stroke:#b0b0b0;stroke-linecap:square;stroke-width:0.8;\"/>\n     </g>\n     <g id=\"line2d_54\">\n      <g>\n       <use style=\"stroke:#000000;stroke-width:0.8;\" x=\"228.884783\" xlink:href=\"#m1fff54c99d\" y=\"147.998444\"/>\n      </g>\n     </g>\n     <g id=\"text_30\">\n      <!-- 2000 -->\n      <g transform=\"translate(196.434783 151.797663)scale(0.1 -0.1)\">\n       <use xlink:href=\"#DejaVuSans-50\"/>\n       <use x=\"63.623047\" xlink:href=\"#DejaVuSans-48\"/>\n       <use x=\"127.246094\" xlink:href=\"#DejaVuSans-48\"/>\n       <use x=\"190.869141\" xlink:href=\"#DejaVuSans-48\"/>\n      </g>\n     </g>\n    </g>\n   </g>\n   <g id=\"patch_218\">\n    <path d=\"M 228.884783 239.54625 \nL 228.884783 145.00712 \n\" style=\"fill:none;stroke:#000000;stroke-linecap:square;stroke-linejoin:miter;stroke-width:0.8;\"/>\n   </g>\n   <g id=\"patch_219\">\n    <path d=\"M 374.45 239.54625 \nL 374.45 145.00712 \n\" style=\"fill:none;stroke:#000000;stroke-linecap:square;stroke-linejoin:miter;stroke-width:0.8;\"/>\n   </g>\n   <g id=\"patch_220\">\n    <path d=\"M 228.884783 239.54625 \nL 374.45 239.54625 \n\" style=\"fill:none;stroke:#000000;stroke-linecap:square;stroke-linejoin:miter;stroke-width:0.8;\"/>\n   </g>\n   <g id=\"patch_221\">\n    <path d=\"M 228.884783 145.00712 \nL 374.45 145.00712 \n\" style=\"fill:none;stroke:#000000;stroke-linecap:square;stroke-linejoin:miter;stroke-width:0.8;\"/>\n   </g>\n   <g id=\"text_31\">\n    <!-- longitude -->\n    <defs>\n     <path d=\"M 30.609375 48.390625 \nQ 23.390625 48.390625 19.1875 42.75 \nQ 14.984375 37.109375 14.984375 27.296875 \nQ 14.984375 17.484375 19.15625 11.84375 \nQ 23.34375 6.203125 30.609375 6.203125 \nQ 37.796875 6.203125 41.984375 11.859375 \nQ 46.1875 17.53125 46.1875 27.296875 \nQ 46.1875 37.015625 41.984375 42.703125 \nQ 37.796875 48.390625 30.609375 48.390625 \nz\nM 30.609375 56 \nQ 42.328125 56 49.015625 48.375 \nQ 55.71875 40.765625 55.71875 27.296875 \nQ 55.71875 13.875 49.015625 6.21875 \nQ 42.328125 -1.421875 30.609375 -1.421875 \nQ 18.84375 -1.421875 12.171875 6.21875 \nQ 5.515625 13.875 5.515625 27.296875 \nQ 5.515625 40.765625 12.171875 48.375 \nQ 18.84375 56 30.609375 56 \nz\n\" id=\"DejaVuSans-111\"/>\n     <path d=\"M 54.890625 33.015625 \nL 54.890625 0 \nL 45.90625 0 \nL 45.90625 32.71875 \nQ 45.90625 40.484375 42.875 44.328125 \nQ 39.84375 48.1875 33.796875 48.1875 \nQ 26.515625 48.1875 22.3125 43.546875 \nQ 18.109375 38.921875 18.109375 30.90625 \nL 18.109375 0 \nL 9.078125 0 \nL 9.078125 54.6875 \nL 18.109375 54.6875 \nL 18.109375 46.1875 \nQ 21.34375 51.125 25.703125 53.5625 \nQ 30.078125 56 35.796875 56 \nQ 45.21875 56 50.046875 50.171875 \nQ 54.890625 44.34375 54.890625 33.015625 \nz\n\" id=\"DejaVuSans-110\"/>\n     <path d=\"M 45.40625 27.984375 \nQ 45.40625 37.75 41.375 43.109375 \nQ 37.359375 48.484375 30.078125 48.484375 \nQ 22.859375 48.484375 18.828125 43.109375 \nQ 14.796875 37.75 14.796875 27.984375 \nQ 14.796875 18.265625 18.828125 12.890625 \nQ 22.859375 7.515625 30.078125 7.515625 \nQ 37.359375 7.515625 41.375 12.890625 \nQ 45.40625 18.265625 45.40625 27.984375 \nz\nM 54.390625 6.78125 \nQ 54.390625 -7.171875 48.1875 -13.984375 \nQ 42 -20.796875 29.203125 -20.796875 \nQ 24.46875 -20.796875 20.265625 -20.09375 \nQ 16.0625 -19.390625 12.109375 -17.921875 \nL 12.109375 -9.1875 \nQ 16.0625 -11.328125 19.921875 -12.34375 \nQ 23.78125 -13.375 27.78125 -13.375 \nQ 36.625 -13.375 41.015625 -8.765625 \nQ 45.40625 -4.15625 45.40625 5.171875 \nL 45.40625 9.625 \nQ 42.625 4.78125 38.28125 2.390625 \nQ 33.9375 0 27.875 0 \nQ 17.828125 0 11.671875 7.65625 \nQ 5.515625 15.328125 5.515625 27.984375 \nQ 5.515625 40.671875 11.671875 48.328125 \nQ 17.828125 56 27.875 56 \nQ 33.9375 56 38.28125 53.609375 \nQ 42.625 51.21875 45.40625 46.390625 \nL 45.40625 54.6875 \nL 54.390625 54.6875 \nz\n\" id=\"DejaVuSans-103\"/>\n    </defs>\n    <g transform=\"translate(273.395204 139.00712)scale(0.12 -0.12)\">\n     <use xlink:href=\"#DejaVuSans-108\"/>\n     <use x=\"27.783203\" xlink:href=\"#DejaVuSans-111\"/>\n     <use x=\"88.964844\" xlink:href=\"#DejaVuSans-110\"/>\n     <use x=\"152.34375\" xlink:href=\"#DejaVuSans-103\"/>\n     <use x=\"215.820312\" xlink:href=\"#DejaVuSans-105\"/>\n     <use x=\"243.603516\" xlink:href=\"#DejaVuSans-116\"/>\n     <use x=\"282.8125\" xlink:href=\"#DejaVuSans-117\"/>\n     <use x=\"346.191406\" xlink:href=\"#DejaVuSans-100\"/>\n     <use x=\"409.667969\" xlink:href=\"#DejaVuSans-101\"/>\n    </g>\n   </g>\n  </g>\n </g>\n <defs>\n  <clipPath id=\"p8344727810\">\n   <rect height=\"94.53913\" width=\"145.565217\" x=\"39.65\" y=\"22.10625\"/>\n  </clipPath>\n  <clipPath id=\"pcf94944845\">\n   <rect height=\"94.53913\" width=\"145.565217\" x=\"228.884783\" y=\"22.10625\"/>\n  </clipPath>\n  <clipPath id=\"pe17832df14\">\n   <rect height=\"94.53913\" width=\"145.565217\" x=\"39.65\" y=\"145.00712\"/>\n  </clipPath>\n  <clipPath id=\"p8f25be935b\">\n   <rect height=\"94.53913\" width=\"145.565217\" x=\"228.884783\" y=\"145.00712\"/>\n  </clipPath>\n </defs>\n</svg>\n",
      "image/png": "[encoded data removed]"
     },
     "metadata": {
      "needs_background": "light"
     }
    }
   ],
   "source": [
    "x_train.hist(bins=50)"
   ]
  },
  {
   "cell_type": "markdown",
   "metadata": {},
   "source": [
    "Display the distribution of the data in different columns of the train set using a histogram default number of bins. Do not call matplotlib explicitly and do it in one line!"
   ]
  },
  {
   "cell_type": "code",
   "execution_count": 18,
   "metadata": {},
   "outputs": [
    {
     "output_type": "execute_result",
     "data": {
      "text/plain": "array([[<matplotlib.axes._subplots.AxesSubplot object at 0x7f0dd01144d0>,\n        <matplotlib.axes._subplots.AxesSubplot object at 0x7f0dcfe83410>],\n       [<matplotlib.axes._subplots.AxesSubplot object at 0x7f0dce5d7a50>,\n        <matplotlib.axes._subplots.AxesSubplot object at 0x7f0dce595dd0>]],\n      dtype=object)"
     },
     "metadata": {},
     "execution_count": 18
    },
    {
     "output_type": "display_data",
     "data": {
      "text/plain": "<Figure size 432x288 with 4 Axes>",
      "image/svg+xml": "<?xml version=\"1.0\" encoding=\"utf-8\" standalone=\"no\"?>\n<!DOCTYPE svg PUBLIC \"-//W3C//DTD SVG 1.1//EN\"\n  \"http://www.w3.org/Graphics/SVG/1.1/DTD/svg11.dtd\">\n<!-- Created with matplotlib (https://matplotlib.org/) -->\n<svg height=\"263.424375pt\" version=\"1.1\" viewBox=\"0 0 387.867967 263.424375\" width=\"387.867967pt\" xmlns=\"http://www.w3.org/2000/svg\" xmlns:xlink=\"http://www.w3.org/1999/xlink\">\n <defs>\n  <style type=\"text/css\">\n*{stroke-linecap:butt;stroke-linejoin:round;}\n  </style>\n </defs>\n <g id=\"figure_1\">\n  <g id=\"patch_1\">\n   <path d=\"M -0 263.424375 \nL 387.867967 263.424375 \nL 387.867967 0 \nL -0 0 \nz\n\" style=\"fill:none;\"/>\n  </g>\n  <g id=\"axes_1\">\n   <g id=\"patch_2\">\n    <path d=\"M 39.65 116.64538 \nL 185.215217 116.64538 \nL 185.215217 22.10625 \nL 39.65 22.10625 \nz\n\" style=\"fill:#ffffff;\"/>\n   </g>\n   <g id=\"patch_3\">\n    <path clip-path=\"url(#p7fdf7a1eb2)\" d=\"M 46.266601 116.64538 \nL 59.499802 116.64538 \nL 59.499802 79.365625 \nL 46.266601 79.365625 \nz\n\" style=\"fill:#1f77b4;\"/>\n   </g>\n   <g id=\"patch_4\">\n    <path clip-path=\"url(#p7fdf7a1eb2)\" d=\"M 59.499802 116.64538 \nL 72.733004 116.64538 \nL 72.733004 116.64538 \nL 59.499802 116.64538 \nz\n\" style=\"fill:#1f77b4;\"/>\n   </g>\n   <g id=\"patch_5\">\n    <path clip-path=\"url(#p7fdf7a1eb2)\" d=\"M 72.733004 116.64538 \nL 85.966206 116.64538 \nL 85.966206 41.553301 \nL 72.733004 41.553301 \nz\n\" style=\"fill:#1f77b4;\"/>\n   </g>\n   <g id=\"patch_6\">\n    <path clip-path=\"url(#p7fdf7a1eb2)\" d=\"M 85.966206 116.64538 \nL 99.199407 116.64538 \nL 99.199407 116.64538 \nL 85.966206 116.64538 \nz\n\" style=\"fill:#1f77b4;\"/>\n   </g>\n   <g id=\"patch_7\">\n    <path clip-path=\"url(#p7fdf7a1eb2)\" d=\"M 99.199407 116.64538 \nL 112.432609 116.64538 \nL 112.432609 59.660611 \nL 99.199407 59.660611 \nz\n\" style=\"fill:#1f77b4;\"/>\n   </g>\n   <g id=\"patch_8\">\n    <path clip-path=\"url(#p7fdf7a1eb2)\" d=\"M 112.432609 116.64538 \nL 125.66581 116.64538 \nL 125.66581 116.64538 \nL 112.432609 116.64538 \nz\n\" style=\"fill:#1f77b4;\"/>\n   </g>\n   <g id=\"patch_9\">\n    <path clip-path=\"url(#p7fdf7a1eb2)\" d=\"M 125.66581 116.64538 \nL 138.899012 116.64538 \nL 138.899012 68.098484 \nL 125.66581 68.098484 \nz\n\" style=\"fill:#1f77b4;\"/>\n   </g>\n   <g id=\"patch_10\">\n    <path clip-path=\"url(#p7fdf7a1eb2)\" d=\"M 138.899012 116.64538 \nL 152.132213 116.64538 \nL 152.132213 116.64538 \nL 138.899012 116.64538 \nz\n\" style=\"fill:#1f77b4;\"/>\n   </g>\n   <g id=\"patch_11\">\n    <path clip-path=\"url(#p7fdf7a1eb2)\" d=\"M 152.132213 116.64538 \nL 165.365415 116.64538 \nL 165.365415 32.649431 \nL 152.132213 32.649431 \nz\n\" style=\"fill:#1f77b4;\"/>\n   </g>\n   <g id=\"patch_12\">\n    <path clip-path=\"url(#p7fdf7a1eb2)\" d=\"M 165.365415 116.64538 \nL 178.598617 116.64538 \nL 178.598617 26.608113 \nL 165.365415 26.608113 \nz\n\" style=\"fill:#1f77b4;\"/>\n   </g>\n   <g id=\"matplotlib.axis_1\">\n    <g id=\"xtick_1\">\n     <g id=\"line2d_1\">\n      <path clip-path=\"url(#p7fdf7a1eb2)\" d=\"M 72.733004 116.64538 \nL 72.733004 22.10625 \n\" style=\"fill:none;stroke:#b0b0b0;stroke-linecap:square;stroke-width:0.8;\"/>\n     </g>\n     <g id=\"line2d_2\">\n      <defs>\n       <path d=\"M 0 0 \nL 0 3.5 \n\" id=\"m121f2338ba\" style=\"stroke:#000000;stroke-width:0.8;\"/>\n      </defs>\n      <g>\n       <use style=\"stroke:#000000;stroke-width:0.8;\" x=\"72.733004\" xlink:href=\"#m121f2338ba\" y=\"116.64538\"/>\n      </g>\n     </g>\n     <g id=\"text_1\">\n      <!-- 2 -->\n      <defs>\n       <path d=\"M 19.1875 8.296875 \nL 53.609375 8.296875 \nL 53.609375 0 \nL 7.328125 0 \nL 7.328125 8.296875 \nQ 12.9375 14.109375 22.625 23.890625 \nQ 32.328125 33.6875 34.8125 36.53125 \nQ 39.546875 41.84375 41.421875 45.53125 \nQ 43.3125 49.21875 43.3125 52.78125 \nQ 43.3125 58.59375 39.234375 62.25 \nQ 35.15625 65.921875 28.609375 65.921875 \nQ 23.96875 65.921875 18.8125 64.3125 \nQ 13.671875 62.703125 7.8125 59.421875 \nL 7.8125 69.390625 \nQ 13.765625 71.78125 18.9375 73 \nQ 24.125 74.21875 28.421875 74.21875 \nQ 39.75 74.21875 46.484375 68.546875 \nQ 53.21875 62.890625 53.21875 53.421875 \nQ 53.21875 48.921875 51.53125 44.890625 \nQ 49.859375 40.875 45.40625 35.40625 \nQ 44.1875 33.984375 37.640625 27.21875 \nQ 31.109375 20.453125 19.1875 8.296875 \nz\n\" id=\"DejaVuSans-50\"/>\n      </defs>\n      <g transform=\"translate(69.551754 131.243818)scale(0.1 -0.1)\">\n       <use xlink:href=\"#DejaVuSans-50\"/>\n      </g>\n     </g>\n    </g>\n    <g id=\"xtick_2\">\n     <g id=\"line2d_3\">\n      <path clip-path=\"url(#p7fdf7a1eb2)\" d=\"M 125.66581 116.64538 \nL 125.66581 22.10625 \n\" style=\"fill:none;stroke:#b0b0b0;stroke-linecap:square;stroke-width:0.8;\"/>\n     </g>\n     <g id=\"line2d_4\">\n      <g>\n       <use style=\"stroke:#000000;stroke-width:0.8;\" x=\"125.66581\" xlink:href=\"#m121f2338ba\" y=\"116.64538\"/>\n      </g>\n     </g>\n     <g id=\"text_2\">\n      <!-- 4 -->\n      <defs>\n       <path d=\"M 37.796875 64.3125 \nL 12.890625 25.390625 \nL 37.796875 25.390625 \nz\nM 35.203125 72.90625 \nL 47.609375 72.90625 \nL 47.609375 25.390625 \nL 58.015625 25.390625 \nL 58.015625 17.1875 \nL 47.609375 17.1875 \nL 47.609375 0 \nL 37.796875 0 \nL 37.796875 17.1875 \nL 4.890625 17.1875 \nL 4.890625 26.703125 \nz\n\" id=\"DejaVuSans-52\"/>\n      </defs>\n      <g transform=\"translate(122.48456 131.243818)scale(0.1 -0.1)\">\n       <use xlink:href=\"#DejaVuSans-52\"/>\n      </g>\n     </g>\n    </g>\n    <g id=\"xtick_3\">\n     <g id=\"line2d_5\">\n      <path clip-path=\"url(#p7fdf7a1eb2)\" d=\"M 178.598617 116.64538 \nL 178.598617 22.10625 \n\" style=\"fill:none;stroke:#b0b0b0;stroke-linecap:square;stroke-width:0.8;\"/>\n     </g>\n     <g id=\"line2d_6\">\n      <g>\n       <use style=\"stroke:#000000;stroke-width:0.8;\" x=\"178.598617\" xlink:href=\"#m121f2338ba\" y=\"116.64538\"/>\n      </g>\n     </g>\n     <g id=\"text_3\">\n      <!-- 6 -->\n      <defs>\n       <path d=\"M 33.015625 40.375 \nQ 26.375 40.375 22.484375 35.828125 \nQ 18.609375 31.296875 18.609375 23.390625 \nQ 18.609375 15.53125 22.484375 10.953125 \nQ 26.375 6.390625 33.015625 6.390625 \nQ 39.65625 6.390625 43.53125 10.953125 \nQ 47.40625 15.53125 47.40625 23.390625 \nQ 47.40625 31.296875 43.53125 35.828125 \nQ 39.65625 40.375 33.015625 40.375 \nz\nM 52.59375 71.296875 \nL 52.59375 62.3125 \nQ 48.875 64.0625 45.09375 64.984375 \nQ 41.3125 65.921875 37.59375 65.921875 \nQ 27.828125 65.921875 22.671875 59.328125 \nQ 17.53125 52.734375 16.796875 39.40625 \nQ 19.671875 43.65625 24.015625 45.921875 \nQ 28.375 48.1875 33.59375 48.1875 \nQ 44.578125 48.1875 50.953125 41.515625 \nQ 57.328125 34.859375 57.328125 23.390625 \nQ 57.328125 12.15625 50.6875 5.359375 \nQ 44.046875 -1.421875 33.015625 -1.421875 \nQ 20.359375 -1.421875 13.671875 8.265625 \nQ 6.984375 17.96875 6.984375 36.375 \nQ 6.984375 53.65625 15.1875 63.9375 \nQ 23.390625 74.21875 37.203125 74.21875 \nQ 40.921875 74.21875 44.703125 73.484375 \nQ 48.484375 72.75 52.59375 71.296875 \nz\n\" id=\"DejaVuSans-54\"/>\n      </defs>\n      <g transform=\"translate(175.417367 131.243818)scale(0.1 -0.1)\">\n       <use xlink:href=\"#DejaVuSans-54\"/>\n      </g>\n     </g>\n    </g>\n   </g>\n   <g id=\"matplotlib.axis_2\">\n    <g id=\"ytick_1\">\n     <g id=\"line2d_7\">\n      <path clip-path=\"url(#p7fdf7a1eb2)\" d=\"M 39.65 116.64538 \nL 185.215217 116.64538 \n\" style=\"fill:none;stroke:#b0b0b0;stroke-linecap:square;stroke-width:0.8;\"/>\n     </g>\n     <g id=\"line2d_8\">\n      <defs>\n       <path d=\"M 0 0 \nL -3.5 0 \n\" id=\"ma261bdd0ab\" style=\"stroke:#000000;stroke-width:0.8;\"/>\n      </defs>\n      <g>\n       <use style=\"stroke:#000000;stroke-width:0.8;\" x=\"39.65\" xlink:href=\"#ma261bdd0ab\" y=\"116.64538\"/>\n      </g>\n     </g>\n     <g id=\"text_4\">\n      <!-- 0 -->\n      <defs>\n       <path d=\"M 31.78125 66.40625 \nQ 24.171875 66.40625 20.328125 58.90625 \nQ 16.5 51.421875 16.5 36.375 \nQ 16.5 21.390625 20.328125 13.890625 \nQ 24.171875 6.390625 31.78125 6.390625 \nQ 39.453125 6.390625 43.28125 13.890625 \nQ 47.125 21.390625 47.125 36.375 \nQ 47.125 51.421875 43.28125 58.90625 \nQ 39.453125 66.40625 31.78125 66.40625 \nz\nM 31.78125 74.21875 \nQ 44.046875 74.21875 50.515625 64.515625 \nQ 56.984375 54.828125 56.984375 36.375 \nQ 56.984375 17.96875 50.515625 8.265625 \nQ 44.046875 -1.421875 31.78125 -1.421875 \nQ 19.53125 -1.421875 13.0625 8.265625 \nQ 6.59375 17.96875 6.59375 36.375 \nQ 6.59375 54.828125 13.0625 64.515625 \nQ 19.53125 74.21875 31.78125 74.21875 \nz\n\" id=\"DejaVuSans-48\"/>\n      </defs>\n      <g transform=\"translate(26.2875 120.444599)scale(0.1 -0.1)\">\n       <use xlink:href=\"#DejaVuSans-48\"/>\n      </g>\n     </g>\n    </g>\n    <g id=\"ytick_2\">\n     <g id=\"line2d_9\">\n      <path clip-path=\"url(#p7fdf7a1eb2)\" d=\"M 39.65 83.359884 \nL 185.215217 83.359884 \n\" style=\"fill:none;stroke:#b0b0b0;stroke-linecap:square;stroke-width:0.8;\"/>\n     </g>\n     <g id=\"line2d_10\">\n      <g>\n       <use style=\"stroke:#000000;stroke-width:0.8;\" x=\"39.65\" xlink:href=\"#ma261bdd0ab\" y=\"83.359884\"/>\n      </g>\n     </g>\n     <g id=\"text_5\">\n      <!-- 2000 -->\n      <g transform=\"translate(7.2 87.159103)scale(0.1 -0.1)\">\n       <use xlink:href=\"#DejaVuSans-50\"/>\n       <use x=\"63.623047\" xlink:href=\"#DejaVuSans-48\"/>\n       <use x=\"127.246094\" xlink:href=\"#DejaVuSans-48\"/>\n       <use x=\"190.869141\" xlink:href=\"#DejaVuSans-48\"/>\n      </g>\n     </g>\n    </g>\n    <g id=\"ytick_3\">\n     <g id=\"line2d_11\">\n      <path clip-path=\"url(#p7fdf7a1eb2)\" d=\"M 39.65 50.074388 \nL 185.215217 50.074388 \n\" style=\"fill:none;stroke:#b0b0b0;stroke-linecap:square;stroke-width:0.8;\"/>\n     </g>\n     <g id=\"line2d_12\">\n      <g>\n       <use style=\"stroke:#000000;stroke-width:0.8;\" x=\"39.65\" xlink:href=\"#ma261bdd0ab\" y=\"50.074388\"/>\n      </g>\n     </g>\n     <g id=\"text_6\">\n      <!-- 4000 -->\n      <g transform=\"translate(7.2 53.873607)scale(0.1 -0.1)\">\n       <use xlink:href=\"#DejaVuSans-52\"/>\n       <use x=\"63.623047\" xlink:href=\"#DejaVuSans-48\"/>\n       <use x=\"127.246094\" xlink:href=\"#DejaVuSans-48\"/>\n       <use x=\"190.869141\" xlink:href=\"#DejaVuSans-48\"/>\n      </g>\n     </g>\n    </g>\n   </g>\n   <g id=\"patch_13\">\n    <path d=\"M 39.65 116.64538 \nL 39.65 22.10625 \n\" style=\"fill:none;stroke:#000000;stroke-linecap:square;stroke-linejoin:miter;stroke-width:0.8;\"/>\n   </g>\n   <g id=\"patch_14\">\n    <path d=\"M 185.215217 116.64538 \nL 185.215217 22.10625 \n\" style=\"fill:none;stroke:#000000;stroke-linecap:square;stroke-linejoin:miter;stroke-width:0.8;\"/>\n   </g>\n   <g id=\"patch_15\">\n    <path d=\"M 39.65 116.64538 \nL 185.215217 116.64538 \n\" style=\"fill:none;stroke:#000000;stroke-linecap:square;stroke-linejoin:miter;stroke-width:0.8;\"/>\n   </g>\n   <g id=\"patch_16\">\n    <path d=\"M 39.65 22.10625 \nL 185.215217 22.10625 \n\" style=\"fill:none;stroke:#000000;stroke-linecap:square;stroke-linejoin:miter;stroke-width:0.8;\"/>\n   </g>\n   <g id=\"text_7\">\n    <!-- ADR_SECTEUR -->\n    <defs>\n     <path d=\"M 34.1875 63.1875 \nL 20.796875 26.90625 \nL 47.609375 26.90625 \nz\nM 28.609375 72.90625 \nL 39.796875 72.90625 \nL 67.578125 0 \nL 57.328125 0 \nL 50.6875 18.703125 \nL 17.828125 18.703125 \nL 11.1875 0 \nL 0.78125 0 \nz\n\" id=\"DejaVuSans-65\"/>\n     <path d=\"M 19.671875 64.796875 \nL 19.671875 8.109375 \nL 31.59375 8.109375 \nQ 46.6875 8.109375 53.6875 14.9375 \nQ 60.6875 21.78125 60.6875 36.53125 \nQ 60.6875 51.171875 53.6875 57.984375 \nQ 46.6875 64.796875 31.59375 64.796875 \nz\nM 9.8125 72.90625 \nL 30.078125 72.90625 \nQ 51.265625 72.90625 61.171875 64.09375 \nQ 71.09375 55.28125 71.09375 36.53125 \nQ 71.09375 17.671875 61.125 8.828125 \nQ 51.171875 0 30.078125 0 \nL 9.8125 0 \nz\n\" id=\"DejaVuSans-68\"/>\n     <path d=\"M 44.390625 34.1875 \nQ 47.5625 33.109375 50.5625 29.59375 \nQ 53.5625 26.078125 56.59375 19.921875 \nL 66.609375 0 \nL 56 0 \nL 46.6875 18.703125 \nQ 43.0625 26.03125 39.671875 28.421875 \nQ 36.28125 30.8125 30.421875 30.8125 \nL 19.671875 30.8125 \nL 19.671875 0 \nL 9.8125 0 \nL 9.8125 72.90625 \nL 32.078125 72.90625 \nQ 44.578125 72.90625 50.734375 67.671875 \nQ 56.890625 62.453125 56.890625 51.90625 \nQ 56.890625 45.015625 53.6875 40.46875 \nQ 50.484375 35.9375 44.390625 34.1875 \nz\nM 19.671875 64.796875 \nL 19.671875 38.921875 \nL 32.078125 38.921875 \nQ 39.203125 38.921875 42.84375 42.21875 \nQ 46.484375 45.515625 46.484375 51.90625 \nQ 46.484375 58.296875 42.84375 61.546875 \nQ 39.203125 64.796875 32.078125 64.796875 \nz\n\" id=\"DejaVuSans-82\"/>\n     <path d=\"M 50.984375 -16.609375 \nL 50.984375 -23.578125 \nL -0.984375 -23.578125 \nL -0.984375 -16.609375 \nz\n\" id=\"DejaVuSans-95\"/>\n     <path d=\"M 53.515625 70.515625 \nL 53.515625 60.890625 \nQ 47.90625 63.578125 42.921875 64.890625 \nQ 37.9375 66.21875 33.296875 66.21875 \nQ 25.25 66.21875 20.875 63.09375 \nQ 16.5 59.96875 16.5 54.203125 \nQ 16.5 49.359375 19.40625 46.890625 \nQ 22.3125 44.4375 30.421875 42.921875 \nL 36.375 41.703125 \nQ 47.40625 39.59375 52.65625 34.296875 \nQ 57.90625 29 57.90625 20.125 \nQ 57.90625 9.515625 50.796875 4.046875 \nQ 43.703125 -1.421875 29.984375 -1.421875 \nQ 24.8125 -1.421875 18.96875 -0.25 \nQ 13.140625 0.921875 6.890625 3.21875 \nL 6.890625 13.375 \nQ 12.890625 10.015625 18.65625 8.296875 \nQ 24.421875 6.59375 29.984375 6.59375 \nQ 38.421875 6.59375 43.015625 9.90625 \nQ 47.609375 13.234375 47.609375 19.390625 \nQ 47.609375 24.75 44.3125 27.78125 \nQ 41.015625 30.8125 33.5 32.328125 \nL 27.484375 33.5 \nQ 16.453125 35.6875 11.515625 40.375 \nQ 6.59375 45.0625 6.59375 53.421875 \nQ 6.59375 63.09375 13.40625 68.65625 \nQ 20.21875 74.21875 32.171875 74.21875 \nQ 37.3125 74.21875 42.625 73.28125 \nQ 47.953125 72.359375 53.515625 70.515625 \nz\n\" id=\"DejaVuSans-83\"/>\n     <path d=\"M 9.8125 72.90625 \nL 55.90625 72.90625 \nL 55.90625 64.59375 \nL 19.671875 64.59375 \nL 19.671875 43.015625 \nL 54.390625 43.015625 \nL 54.390625 34.71875 \nL 19.671875 34.71875 \nL 19.671875 8.296875 \nL 56.78125 8.296875 \nL 56.78125 0 \nL 9.8125 0 \nz\n\" id=\"DejaVuSans-69\"/>\n     <path d=\"M 64.40625 67.28125 \nL 64.40625 56.890625 \nQ 59.421875 61.53125 53.78125 63.8125 \nQ 48.140625 66.109375 41.796875 66.109375 \nQ 29.296875 66.109375 22.65625 58.46875 \nQ 16.015625 50.828125 16.015625 36.375 \nQ 16.015625 21.96875 22.65625 14.328125 \nQ 29.296875 6.6875 41.796875 6.6875 \nQ 48.140625 6.6875 53.78125 8.984375 \nQ 59.421875 11.28125 64.40625 15.921875 \nL 64.40625 5.609375 \nQ 59.234375 2.09375 53.4375 0.328125 \nQ 47.65625 -1.421875 41.21875 -1.421875 \nQ 24.65625 -1.421875 15.125 8.703125 \nQ 5.609375 18.84375 5.609375 36.375 \nQ 5.609375 53.953125 15.125 64.078125 \nQ 24.65625 74.21875 41.21875 74.21875 \nQ 47.75 74.21875 53.53125 72.484375 \nQ 59.328125 70.75 64.40625 67.28125 \nz\n\" id=\"DejaVuSans-67\"/>\n     <path d=\"M -0.296875 72.90625 \nL 61.375 72.90625 \nL 61.375 64.59375 \nL 35.5 64.59375 \nL 35.5 0 \nL 25.59375 0 \nL 25.59375 64.59375 \nL -0.296875 64.59375 \nz\n\" id=\"DejaVuSans-84\"/>\n     <path d=\"M 8.6875 72.90625 \nL 18.609375 72.90625 \nL 18.609375 28.609375 \nQ 18.609375 16.890625 22.84375 11.734375 \nQ 27.09375 6.59375 36.625 6.59375 \nQ 46.09375 6.59375 50.34375 11.734375 \nQ 54.59375 16.890625 54.59375 28.609375 \nL 54.59375 72.90625 \nL 64.5 72.90625 \nL 64.5 27.390625 \nQ 64.5 13.140625 57.4375 5.859375 \nQ 50.390625 -1.421875 36.625 -1.421875 \nQ 22.796875 -1.421875 15.734375 5.859375 \nQ 8.6875 13.140625 8.6875 27.390625 \nz\n\" id=\"DejaVuSans-85\"/>\n    </defs>\n    <g transform=\"translate(68.732921 16.10625)scale(0.12 -0.12)\">\n     <use xlink:href=\"#DejaVuSans-65\"/>\n     <use x=\"68.408203\" xlink:href=\"#DejaVuSans-68\"/>\n     <use x=\"145.410156\" xlink:href=\"#DejaVuSans-82\"/>\n     <use x=\"214.892578\" xlink:href=\"#DejaVuSans-95\"/>\n     <use x=\"264.892578\" xlink:href=\"#DejaVuSans-83\"/>\n     <use x=\"328.369141\" xlink:href=\"#DejaVuSans-69\"/>\n     <use x=\"391.552734\" xlink:href=\"#DejaVuSans-67\"/>\n     <use x=\"461.376953\" xlink:href=\"#DejaVuSans-84\"/>\n     <use x=\"522.460938\" xlink:href=\"#DejaVuSans-69\"/>\n     <use x=\"585.644531\" xlink:href=\"#DejaVuSans-85\"/>\n     <use x=\"658.837891\" xlink:href=\"#DejaVuSans-82\"/>\n    </g>\n   </g>\n  </g>\n  <g id=\"axes_2\">\n   <g id=\"patch_17\">\n    <path d=\"M 228.884783 116.64538 \nL 374.45 116.64538 \nL 374.45 22.10625 \nL 228.884783 22.10625 \nz\n\" style=\"fill:#ffffff;\"/>\n   </g>\n   <g id=\"patch_18\">\n    <path clip-path=\"url(#p496878ccdb)\" d=\"M 235.501383 116.64538 \nL 248.734585 116.64538 \nL 248.734585 28.538373 \nL 235.501383 28.538373 \nz\n\" style=\"fill:#1f77b4;\"/>\n   </g>\n   <g id=\"patch_19\">\n    <path clip-path=\"url(#p496878ccdb)\" d=\"M 248.734585 116.64538 \nL 261.967787 116.64538 \nL 261.967787 28.974238 \nL 248.734585 28.974238 \nz\n\" style=\"fill:#1f77b4;\"/>\n   </g>\n   <g id=\"patch_20\">\n    <path clip-path=\"url(#p496878ccdb)\" d=\"M 261.967787 116.64538 \nL 275.200988 116.64538 \nL 275.200988 29.752568 \nL 261.967787 29.752568 \nz\n\" style=\"fill:#1f77b4;\"/>\n   </g>\n   <g id=\"patch_21\">\n    <path clip-path=\"url(#p496878ccdb)\" d=\"M 275.200988 116.64538 \nL 288.43419 116.64538 \nL 288.43419 26.608113 \nL 275.200988 26.608113 \nz\n\" style=\"fill:#1f77b4;\"/>\n   </g>\n   <g id=\"patch_22\">\n    <path clip-path=\"url(#p496878ccdb)\" d=\"M 288.43419 116.64538 \nL 301.667391 116.64538 \nL 301.667391 29.628036 \nL 288.43419 29.628036 \nz\n\" style=\"fill:#1f77b4;\"/>\n   </g>\n   <g id=\"patch_23\">\n    <path clip-path=\"url(#p496878ccdb)\" d=\"M 301.667391 116.64538 \nL 314.900593 116.64538 \nL 314.900593 31.184696 \nL 301.667391 31.184696 \nz\n\" style=\"fill:#1f77b4;\"/>\n   </g>\n   <g id=\"patch_24\">\n    <path clip-path=\"url(#p496878ccdb)\" d=\"M 314.900593 116.64538 \nL 328.133794 116.64538 \nL 328.133794 33.92442 \nL 314.900593 33.92442 \nz\n\" style=\"fill:#1f77b4;\"/>\n   </g>\n   <g id=\"patch_25\">\n    <path clip-path=\"url(#p496878ccdb)\" d=\"M 328.133794 116.64538 \nL 341.366996 116.64538 \nL 341.366996 53.258148 \nL 328.133794 53.258148 \nz\n\" style=\"fill:#1f77b4;\"/>\n   </g>\n   <g id=\"patch_26\">\n    <path clip-path=\"url(#p496878ccdb)\" d=\"M 341.366996 116.64538 \nL 354.600198 116.64538 \nL 354.600198 80.779913 \nL 341.366996 80.779913 \nz\n\" style=\"fill:#1f77b4;\"/>\n   </g>\n   <g id=\"patch_27\">\n    <path clip-path=\"url(#p496878ccdb)\" d=\"M 354.600198 116.64538 \nL 367.833399 116.64538 \nL 367.833399 90.61801 \nL 354.600198 90.61801 \nz\n\" style=\"fill:#1f77b4;\"/>\n   </g>\n   <g id=\"matplotlib.axis_3\">\n    <g id=\"xtick_4\">\n     <g id=\"line2d_13\">\n      <path clip-path=\"url(#p496878ccdb)\" d=\"M 235.498309 116.64538 \nL 235.498309 22.10625 \n\" style=\"fill:none;stroke:#b0b0b0;stroke-linecap:square;stroke-width:0.8;\"/>\n     </g>\n     <g id=\"line2d_14\">\n      <g>\n       <use style=\"stroke:#000000;stroke-width:0.8;\" x=\"235.498309\" xlink:href=\"#m121f2338ba\" y=\"116.64538\"/>\n      </g>\n     </g>\n     <g id=\"text_8\">\n      <!-- 0 -->\n      <g transform=\"translate(232.317059 131.243818)scale(0.1 -0.1)\">\n       <use xlink:href=\"#DejaVuSans-48\"/>\n      </g>\n     </g>\n    </g>\n    <g id=\"xtick_5\">\n     <g id=\"line2d_15\">\n      <path clip-path=\"url(#p496878ccdb)\" d=\"M 296.990881 116.64538 \nL 296.990881 22.10625 \n\" style=\"fill:none;stroke:#b0b0b0;stroke-linecap:square;stroke-width:0.8;\"/>\n     </g>\n     <g id=\"line2d_16\">\n      <g>\n       <use style=\"stroke:#000000;stroke-width:0.8;\" x=\"296.990881\" xlink:href=\"#m121f2338ba\" y=\"116.64538\"/>\n      </g>\n     </g>\n     <g id=\"text_9\">\n      <!-- 20000 -->\n      <g transform=\"translate(281.084631 131.243818)scale(0.1 -0.1)\">\n       <use xlink:href=\"#DejaVuSans-50\"/>\n       <use x=\"63.623047\" xlink:href=\"#DejaVuSans-48\"/>\n       <use x=\"127.246094\" xlink:href=\"#DejaVuSans-48\"/>\n       <use x=\"190.869141\" xlink:href=\"#DejaVuSans-48\"/>\n       <use x=\"254.492188\" xlink:href=\"#DejaVuSans-48\"/>\n      </g>\n     </g>\n    </g>\n    <g id=\"xtick_6\">\n     <g id=\"line2d_17\">\n      <path clip-path=\"url(#p496878ccdb)\" d=\"M 358.483454 116.64538 \nL 358.483454 22.10625 \n\" style=\"fill:none;stroke:#b0b0b0;stroke-linecap:square;stroke-width:0.8;\"/>\n     </g>\n     <g id=\"line2d_18\">\n      <g>\n       <use style=\"stroke:#000000;stroke-width:0.8;\" x=\"358.483454\" xlink:href=\"#m121f2338ba\" y=\"116.64538\"/>\n      </g>\n     </g>\n     <g id=\"text_10\">\n      <!-- 40000 -->\n      <g transform=\"translate(342.577204 131.243818)scale(0.1 -0.1)\">\n       <use xlink:href=\"#DejaVuSans-52\"/>\n       <use x=\"63.623047\" xlink:href=\"#DejaVuSans-48\"/>\n       <use x=\"127.246094\" xlink:href=\"#DejaVuSans-48\"/>\n       <use x=\"190.869141\" xlink:href=\"#DejaVuSans-48\"/>\n       <use x=\"254.492188\" xlink:href=\"#DejaVuSans-48\"/>\n      </g>\n     </g>\n    </g>\n   </g>\n   <g id=\"matplotlib.axis_4\">\n    <g id=\"ytick_4\">\n     <g id=\"line2d_19\">\n      <path clip-path=\"url(#p496878ccdb)\" d=\"M 228.884783 116.64538 \nL 374.45 116.64538 \n\" style=\"fill:none;stroke:#b0b0b0;stroke-linecap:square;stroke-width:0.8;\"/>\n     </g>\n     <g id=\"line2d_20\">\n      <g>\n       <use style=\"stroke:#000000;stroke-width:0.8;\" x=\"228.884783\" xlink:href=\"#ma261bdd0ab\" y=\"116.64538\"/>\n      </g>\n     </g>\n     <g id=\"text_11\">\n      <!-- 0 -->\n      <g transform=\"translate(215.522283 120.444599)scale(0.1 -0.1)\">\n       <use xlink:href=\"#DejaVuSans-48\"/>\n      </g>\n     </g>\n    </g>\n    <g id=\"ytick_5\">\n     <g id=\"line2d_21\">\n      <path clip-path=\"url(#p496878ccdb)\" d=\"M 228.884783 85.512162 \nL 374.45 85.512162 \n\" style=\"fill:none;stroke:#b0b0b0;stroke-linecap:square;stroke-width:0.8;\"/>\n     </g>\n     <g id=\"line2d_22\">\n      <g>\n       <use style=\"stroke:#000000;stroke-width:0.8;\" x=\"228.884783\" xlink:href=\"#ma261bdd0ab\" y=\"85.512162\"/>\n      </g>\n     </g>\n     <g id=\"text_12\">\n      <!-- 1000 -->\n      <defs>\n       <path d=\"M 12.40625 8.296875 \nL 28.515625 8.296875 \nL 28.515625 63.921875 \nL 10.984375 60.40625 \nL 10.984375 69.390625 \nL 28.421875 72.90625 \nL 38.28125 72.90625 \nL 38.28125 8.296875 \nL 54.390625 8.296875 \nL 54.390625 0 \nL 12.40625 0 \nz\n\" id=\"DejaVuSans-49\"/>\n      </defs>\n      <g transform=\"translate(196.434783 89.311381)scale(0.1 -0.1)\">\n       <use xlink:href=\"#DejaVuSans-49\"/>\n       <use x=\"63.623047\" xlink:href=\"#DejaVuSans-48\"/>\n       <use x=\"127.246094\" xlink:href=\"#DejaVuSans-48\"/>\n       <use x=\"190.869141\" xlink:href=\"#DejaVuSans-48\"/>\n      </g>\n     </g>\n    </g>\n    <g id=\"ytick_6\">\n     <g id=\"line2d_23\">\n      <path clip-path=\"url(#p496878ccdb)\" d=\"M 228.884783 54.378944 \nL 374.45 54.378944 \n\" style=\"fill:none;stroke:#b0b0b0;stroke-linecap:square;stroke-width:0.8;\"/>\n     </g>\n     <g id=\"line2d_24\">\n      <g>\n       <use style=\"stroke:#000000;stroke-width:0.8;\" x=\"228.884783\" xlink:href=\"#ma261bdd0ab\" y=\"54.378944\"/>\n      </g>\n     </g>\n     <g id=\"text_13\">\n      <!-- 2000 -->\n      <g transform=\"translate(196.434783 58.178163)scale(0.1 -0.1)\">\n       <use xlink:href=\"#DejaVuSans-50\"/>\n       <use x=\"63.623047\" xlink:href=\"#DejaVuSans-48\"/>\n       <use x=\"127.246094\" xlink:href=\"#DejaVuSans-48\"/>\n       <use x=\"190.869141\" xlink:href=\"#DejaVuSans-48\"/>\n      </g>\n     </g>\n    </g>\n    <g id=\"ytick_7\">\n     <g id=\"line2d_25\">\n      <path clip-path=\"url(#p496878ccdb)\" d=\"M 228.884783 23.245726 \nL 374.45 23.245726 \n\" style=\"fill:none;stroke:#b0b0b0;stroke-linecap:square;stroke-width:0.8;\"/>\n     </g>\n     <g id=\"line2d_26\">\n      <g>\n       <use style=\"stroke:#000000;stroke-width:0.8;\" x=\"228.884783\" xlink:href=\"#ma261bdd0ab\" y=\"23.245726\"/>\n      </g>\n     </g>\n     <g id=\"text_14\">\n      <!-- 3000 -->\n      <defs>\n       <path d=\"M 40.578125 39.3125 \nQ 47.65625 37.796875 51.625 33 \nQ 55.609375 28.21875 55.609375 21.1875 \nQ 55.609375 10.40625 48.1875 4.484375 \nQ 40.765625 -1.421875 27.09375 -1.421875 \nQ 22.515625 -1.421875 17.65625 -0.515625 \nQ 12.796875 0.390625 7.625 2.203125 \nL 7.625 11.71875 \nQ 11.71875 9.328125 16.59375 8.109375 \nQ 21.484375 6.890625 26.8125 6.890625 \nQ 36.078125 6.890625 40.9375 10.546875 \nQ 45.796875 14.203125 45.796875 21.1875 \nQ 45.796875 27.640625 41.28125 31.265625 \nQ 36.765625 34.90625 28.71875 34.90625 \nL 20.21875 34.90625 \nL 20.21875 43.015625 \nL 29.109375 43.015625 \nQ 36.375 43.015625 40.234375 45.921875 \nQ 44.09375 48.828125 44.09375 54.296875 \nQ 44.09375 59.90625 40.109375 62.90625 \nQ 36.140625 65.921875 28.71875 65.921875 \nQ 24.65625 65.921875 20.015625 65.03125 \nQ 15.375 64.15625 9.8125 62.3125 \nL 9.8125 71.09375 \nQ 15.4375 72.65625 20.34375 73.4375 \nQ 25.25 74.21875 29.59375 74.21875 \nQ 40.828125 74.21875 47.359375 69.109375 \nQ 53.90625 64.015625 53.90625 55.328125 \nQ 53.90625 49.265625 50.4375 45.09375 \nQ 46.96875 40.921875 40.578125 39.3125 \nz\n\" id=\"DejaVuSans-51\"/>\n      </defs>\n      <g transform=\"translate(196.434783 27.044945)scale(0.1 -0.1)\">\n       <use xlink:href=\"#DejaVuSans-51\"/>\n       <use x=\"63.623047\" xlink:href=\"#DejaVuSans-48\"/>\n       <use x=\"127.246094\" xlink:href=\"#DejaVuSans-48\"/>\n       <use x=\"190.869141\" xlink:href=\"#DejaVuSans-48\"/>\n      </g>\n     </g>\n    </g>\n   </g>\n   <g id=\"patch_28\">\n    <path d=\"M 228.884783 116.64538 \nL 228.884783 22.10625 \n\" style=\"fill:none;stroke:#000000;stroke-linecap:square;stroke-linejoin:miter;stroke-width:0.8;\"/>\n   </g>\n   <g id=\"patch_29\">\n    <path d=\"M 374.45 116.64538 \nL 374.45 22.10625 \n\" style=\"fill:none;stroke:#000000;stroke-linecap:square;stroke-linejoin:miter;stroke-width:0.8;\"/>\n   </g>\n   <g id=\"patch_30\">\n    <path d=\"M 228.884783 116.64538 \nL 374.45 116.64538 \n\" style=\"fill:none;stroke:#000000;stroke-linecap:square;stroke-linejoin:miter;stroke-width:0.8;\"/>\n   </g>\n   <g id=\"patch_31\">\n    <path d=\"M 228.884783 22.10625 \nL 374.45 22.10625 \n\" style=\"fill:none;stroke:#000000;stroke-linecap:square;stroke-linejoin:miter;stroke-width:0.8;\"/>\n   </g>\n   <g id=\"text_15\">\n    <!-- ELEM_POINT_ID -->\n    <defs>\n     <path d=\"M 9.8125 72.90625 \nL 19.671875 72.90625 \nL 19.671875 8.296875 \nL 55.171875 8.296875 \nL 55.171875 0 \nL 9.8125 0 \nz\n\" id=\"DejaVuSans-76\"/>\n     <path d=\"M 9.8125 72.90625 \nL 24.515625 72.90625 \nL 43.109375 23.296875 \nL 61.8125 72.90625 \nL 76.515625 72.90625 \nL 76.515625 0 \nL 66.890625 0 \nL 66.890625 64.015625 \nL 48.09375 14.015625 \nL 38.1875 14.015625 \nL 19.390625 64.015625 \nL 19.390625 0 \nL 9.8125 0 \nz\n\" id=\"DejaVuSans-77\"/>\n     <path d=\"M 19.671875 64.796875 \nL 19.671875 37.40625 \nL 32.078125 37.40625 \nQ 38.96875 37.40625 42.71875 40.96875 \nQ 46.484375 44.53125 46.484375 51.125 \nQ 46.484375 57.671875 42.71875 61.234375 \nQ 38.96875 64.796875 32.078125 64.796875 \nz\nM 9.8125 72.90625 \nL 32.078125 72.90625 \nQ 44.34375 72.90625 50.609375 67.359375 \nQ 56.890625 61.8125 56.890625 51.125 \nQ 56.890625 40.328125 50.609375 34.8125 \nQ 44.34375 29.296875 32.078125 29.296875 \nL 19.671875 29.296875 \nL 19.671875 0 \nL 9.8125 0 \nz\n\" id=\"DejaVuSans-80\"/>\n     <path d=\"M 39.40625 66.21875 \nQ 28.65625 66.21875 22.328125 58.203125 \nQ 16.015625 50.203125 16.015625 36.375 \nQ 16.015625 22.609375 22.328125 14.59375 \nQ 28.65625 6.59375 39.40625 6.59375 \nQ 50.140625 6.59375 56.421875 14.59375 \nQ 62.703125 22.609375 62.703125 36.375 \nQ 62.703125 50.203125 56.421875 58.203125 \nQ 50.140625 66.21875 39.40625 66.21875 \nz\nM 39.40625 74.21875 \nQ 54.734375 74.21875 63.90625 63.9375 \nQ 73.09375 53.65625 73.09375 36.375 \nQ 73.09375 19.140625 63.90625 8.859375 \nQ 54.734375 -1.421875 39.40625 -1.421875 \nQ 24.03125 -1.421875 14.8125 8.828125 \nQ 5.609375 19.09375 5.609375 36.375 \nQ 5.609375 53.65625 14.8125 63.9375 \nQ 24.03125 74.21875 39.40625 74.21875 \nz\n\" id=\"DejaVuSans-79\"/>\n     <path d=\"M 9.8125 72.90625 \nL 19.671875 72.90625 \nL 19.671875 0 \nL 9.8125 0 \nz\n\" id=\"DejaVuSans-73\"/>\n     <path d=\"M 9.8125 72.90625 \nL 23.09375 72.90625 \nL 55.421875 11.921875 \nL 55.421875 72.90625 \nL 64.984375 72.90625 \nL 64.984375 0 \nL 51.703125 0 \nL 19.390625 60.984375 \nL 19.390625 0 \nL 9.8125 0 \nz\n\" id=\"DejaVuSans-78\"/>\n    </defs>\n    <g transform=\"translate(254.910516 16.10625)scale(0.12 -0.12)\">\n     <use xlink:href=\"#DejaVuSans-69\"/>\n     <use x=\"63.183594\" xlink:href=\"#DejaVuSans-76\"/>\n     <use x=\"118.896484\" xlink:href=\"#DejaVuSans-69\"/>\n     <use x=\"182.080078\" xlink:href=\"#DejaVuSans-77\"/>\n     <use x=\"268.359375\" xlink:href=\"#DejaVuSans-95\"/>\n     <use x=\"318.359375\" xlink:href=\"#DejaVuSans-80\"/>\n     <use x=\"378.662109\" xlink:href=\"#DejaVuSans-79\"/>\n     <use x=\"457.373047\" xlink:href=\"#DejaVuSans-73\"/>\n     <use x=\"486.865234\" xlink:href=\"#DejaVuSans-78\"/>\n     <use x=\"561.669922\" xlink:href=\"#DejaVuSans-84\"/>\n     <use x=\"622.753906\" xlink:href=\"#DejaVuSans-95\"/>\n     <use x=\"672.753906\" xlink:href=\"#DejaVuSans-73\"/>\n     <use x=\"702.246094\" xlink:href=\"#DejaVuSans-68\"/>\n    </g>\n   </g>\n  </g>\n  <g id=\"axes_3\">\n   <g id=\"patch_32\">\n    <path d=\"M 39.65 239.54625 \nL 185.215217 239.54625 \nL 185.215217 145.00712 \nL 39.65 145.00712 \nz\n\" style=\"fill:#ffffff;\"/>\n   </g>\n   <g id=\"patch_33\">\n    <path clip-path=\"url(#pd7d8fed608)\" d=\"M 46.266601 239.54625 \nL 59.499802 239.54625 \nL 59.499802 235.315789 \nL 46.266601 235.315789 \nz\n\" style=\"fill:#1f77b4;\"/>\n   </g>\n   <g id=\"patch_34\">\n    <path clip-path=\"url(#pd7d8fed608)\" d=\"M 59.499802 239.54625 \nL 72.733004 239.54625 \nL 72.733004 149.508983 \nL 59.499802 149.508983 \nz\n\" style=\"fill:#1f77b4;\"/>\n   </g>\n   <g id=\"patch_35\">\n    <path clip-path=\"url(#pd7d8fed608)\" d=\"M 72.733004 239.54625 \nL 85.966206 239.54625 \nL 85.966206 169.261501 \nL 72.733004 169.261501 \nz\n\" style=\"fill:#1f77b4;\"/>\n   </g>\n   <g id=\"patch_36\">\n    <path clip-path=\"url(#pd7d8fed608)\" d=\"M 85.966206 239.54625 \nL 99.199407 239.54625 \nL 99.199407 180.133163 \nL 85.966206 180.133163 \nz\n\" style=\"fill:#1f77b4;\"/>\n   </g>\n   <g id=\"patch_37\">\n    <path clip-path=\"url(#pd7d8fed608)\" d=\"M 99.199407 239.54625 \nL 112.432609 239.54625 \nL 112.432609 179.277739 \nL 99.199407 179.277739 \nz\n\" style=\"fill:#1f77b4;\"/>\n   </g>\n   <g id=\"patch_38\">\n    <path clip-path=\"url(#pd7d8fed608)\" d=\"M 112.432609 239.54625 \nL 125.66581 239.54625 \nL 125.66581 178.189018 \nL 112.432609 178.189018 \nz\n\" style=\"fill:#1f77b4;\"/>\n   </g>\n   <g id=\"patch_39\">\n    <path clip-path=\"url(#pd7d8fed608)\" d=\"M 125.66581 239.54625 \nL 138.899012 239.54625 \nL 138.899012 221.831196 \nL 125.66581 221.831196 \nz\n\" style=\"fill:#1f77b4;\"/>\n   </g>\n   <g id=\"patch_40\">\n    <path clip-path=\"url(#pd7d8fed608)\" d=\"M 138.899012 239.54625 \nL 152.132213 239.54625 \nL 152.132213 236.933318 \nL 138.899012 236.933318 \nz\n\" style=\"fill:#1f77b4;\"/>\n   </g>\n   <g id=\"patch_41\">\n    <path clip-path=\"url(#pd7d8fed608)\" d=\"M 152.132213 239.54625 \nL 165.365415 239.54625 \nL 165.365415 239.54625 \nL 152.132213 239.54625 \nz\n\" style=\"fill:#1f77b4;\"/>\n   </g>\n   <g id=\"patch_42\">\n    <path clip-path=\"url(#pd7d8fed608)\" d=\"M 165.365415 239.54625 \nL 178.598617 239.54625 \nL 178.598617 239.188527 \nL 165.365415 239.188527 \nz\n\" style=\"fill:#1f77b4;\"/>\n   </g>\n   <g id=\"matplotlib.axis_5\">\n    <g id=\"xtick_7\">\n     <g id=\"line2d_27\">\n      <path clip-path=\"url(#pd7d8fed608)\" d=\"M 43.426312 239.54625 \nL 43.426312 145.00712 \n\" style=\"fill:none;stroke:#b0b0b0;stroke-linecap:square;stroke-width:0.8;\"/>\n     </g>\n     <g id=\"line2d_28\">\n      <g>\n       <use style=\"stroke:#000000;stroke-width:0.8;\" x=\"43.426312\" xlink:href=\"#m121f2338ba\" y=\"239.54625\"/>\n      </g>\n     </g>\n     <g id=\"text_16\">\n      <!-- 45.150 -->\n      <defs>\n       <path d=\"M 10.796875 72.90625 \nL 49.515625 72.90625 \nL 49.515625 64.59375 \nL 19.828125 64.59375 \nL 19.828125 46.734375 \nQ 21.96875 47.46875 24.109375 47.828125 \nQ 26.265625 48.1875 28.421875 48.1875 \nQ 40.625 48.1875 47.75 41.5 \nQ 54.890625 34.8125 54.890625 23.390625 \nQ 54.890625 11.625 47.5625 5.09375 \nQ 40.234375 -1.421875 26.90625 -1.421875 \nQ 22.3125 -1.421875 17.546875 -0.640625 \nQ 12.796875 0.140625 7.71875 1.703125 \nL 7.71875 11.625 \nQ 12.109375 9.234375 16.796875 8.0625 \nQ 21.484375 6.890625 26.703125 6.890625 \nQ 35.15625 6.890625 40.078125 11.328125 \nQ 45.015625 15.765625 45.015625 23.390625 \nQ 45.015625 31 40.078125 35.4375 \nQ 35.15625 39.890625 26.703125 39.890625 \nQ 22.75 39.890625 18.8125 39.015625 \nQ 14.890625 38.140625 10.796875 36.28125 \nz\n\" id=\"DejaVuSans-53\"/>\n       <path d=\"M 10.6875 12.40625 \nL 21 12.40625 \nL 21 0 \nL 10.6875 0 \nz\n\" id=\"DejaVuSans-46\"/>\n      </defs>\n      <g transform=\"translate(25.931 254.144688)scale(0.1 -0.1)\">\n       <use xlink:href=\"#DejaVuSans-52\"/>\n       <use x=\"63.623047\" xlink:href=\"#DejaVuSans-53\"/>\n       <use x=\"127.246094\" xlink:href=\"#DejaVuSans-46\"/>\n       <use x=\"159.033203\" xlink:href=\"#DejaVuSans-49\"/>\n       <use x=\"222.65625\" xlink:href=\"#DejaVuSans-53\"/>\n       <use x=\"286.279297\" xlink:href=\"#DejaVuSans-48\"/>\n      </g>\n     </g>\n    </g>\n    <g id=\"xtick_8\">\n     <g id=\"line2d_29\">\n      <path clip-path=\"url(#pd7d8fed608)\" d=\"M 88.588937 239.54625 \nL 88.588937 145.00712 \n\" style=\"fill:none;stroke:#b0b0b0;stroke-linecap:square;stroke-width:0.8;\"/>\n     </g>\n     <g id=\"line2d_30\">\n      <g>\n       <use style=\"stroke:#000000;stroke-width:0.8;\" x=\"88.588937\" xlink:href=\"#m121f2338ba\" y=\"239.54625\"/>\n      </g>\n     </g>\n     <g id=\"text_17\">\n      <!-- 45.175 -->\n      <defs>\n       <path d=\"M 8.203125 72.90625 \nL 55.078125 72.90625 \nL 55.078125 68.703125 \nL 28.609375 0 \nL 18.3125 0 \nL 43.21875 64.59375 \nL 8.203125 64.59375 \nz\n\" id=\"DejaVuSans-55\"/>\n      </defs>\n      <g transform=\"translate(71.093625 254.144688)scale(0.1 -0.1)\">\n       <use xlink:href=\"#DejaVuSans-52\"/>\n       <use x=\"63.623047\" xlink:href=\"#DejaVuSans-53\"/>\n       <use x=\"127.246094\" xlink:href=\"#DejaVuSans-46\"/>\n       <use x=\"159.033203\" xlink:href=\"#DejaVuSans-49\"/>\n       <use x=\"222.65625\" xlink:href=\"#DejaVuSans-55\"/>\n       <use x=\"286.279297\" xlink:href=\"#DejaVuSans-53\"/>\n      </g>\n     </g>\n    </g>\n    <g id=\"xtick_9\">\n     <g id=\"line2d_31\">\n      <path clip-path=\"url(#pd7d8fed608)\" d=\"M 133.751562 239.54625 \nL 133.751562 145.00712 \n\" style=\"fill:none;stroke:#b0b0b0;stroke-linecap:square;stroke-width:0.8;\"/>\n     </g>\n     <g id=\"line2d_32\">\n      <g>\n       <use style=\"stroke:#000000;stroke-width:0.8;\" x=\"133.751562\" xlink:href=\"#m121f2338ba\" y=\"239.54625\"/>\n      </g>\n     </g>\n     <g id=\"text_18\">\n      <!-- 45.200 -->\n      <g transform=\"translate(116.25625 254.144688)scale(0.1 -0.1)\">\n       <use xlink:href=\"#DejaVuSans-52\"/>\n       <use x=\"63.623047\" xlink:href=\"#DejaVuSans-53\"/>\n       <use x=\"127.246094\" xlink:href=\"#DejaVuSans-46\"/>\n       <use x=\"159.033203\" xlink:href=\"#DejaVuSans-50\"/>\n       <use x=\"222.65625\" xlink:href=\"#DejaVuSans-48\"/>\n       <use x=\"286.279297\" xlink:href=\"#DejaVuSans-48\"/>\n      </g>\n     </g>\n    </g>\n    <g id=\"xtick_10\">\n     <g id=\"line2d_33\">\n      <path clip-path=\"url(#pd7d8fed608)\" d=\"M 178.914187 239.54625 \nL 178.914187 145.00712 \n\" style=\"fill:none;stroke:#b0b0b0;stroke-linecap:square;stroke-width:0.8;\"/>\n     </g>\n     <g id=\"line2d_34\">\n      <g>\n       <use style=\"stroke:#000000;stroke-width:0.8;\" x=\"178.914187\" xlink:href=\"#m121f2338ba\" y=\"239.54625\"/>\n      </g>\n     </g>\n     <g id=\"text_19\">\n      <!-- 45.225 -->\n      <g transform=\"translate(161.418875 254.144688)scale(0.1 -0.1)\">\n       <use xlink:href=\"#DejaVuSans-52\"/>\n       <use x=\"63.623047\" xlink:href=\"#DejaVuSans-53\"/>\n       <use x=\"127.246094\" xlink:href=\"#DejaVuSans-46\"/>\n       <use x=\"159.033203\" xlink:href=\"#DejaVuSans-50\"/>\n       <use x=\"222.65625\" xlink:href=\"#DejaVuSans-50\"/>\n       <use x=\"286.279297\" xlink:href=\"#DejaVuSans-53\"/>\n      </g>\n     </g>\n    </g>\n   </g>\n   <g id=\"matplotlib.axis_6\">\n    <g id=\"ytick_8\">\n     <g id=\"line2d_35\">\n      <path clip-path=\"url(#pd7d8fed608)\" d=\"M 39.65 239.54625 \nL 185.215217 239.54625 \n\" style=\"fill:none;stroke:#b0b0b0;stroke-linecap:square;stroke-width:0.8;\"/>\n     </g>\n     <g id=\"line2d_36\">\n      <g>\n       <use style=\"stroke:#000000;stroke-width:0.8;\" x=\"39.65\" xlink:href=\"#ma261bdd0ab\" y=\"239.54625\"/>\n      </g>\n     </g>\n     <g id=\"text_20\">\n      <!-- 0 -->\n      <g transform=\"translate(26.2875 243.345469)scale(0.1 -0.1)\">\n       <use xlink:href=\"#DejaVuSans-48\"/>\n      </g>\n     </g>\n    </g>\n    <g id=\"ytick_9\">\n     <g id=\"line2d_37\">\n      <path clip-path=\"url(#pd7d8fed608)\" d=\"M 39.65 208.439922 \nL 185.215217 208.439922 \n\" style=\"fill:none;stroke:#b0b0b0;stroke-linecap:square;stroke-width:0.8;\"/>\n     </g>\n     <g id=\"line2d_38\">\n      <g>\n       <use style=\"stroke:#000000;stroke-width:0.8;\" x=\"39.65\" xlink:href=\"#ma261bdd0ab\" y=\"208.439922\"/>\n      </g>\n     </g>\n     <g id=\"text_21\">\n      <!-- 2000 -->\n      <g transform=\"translate(7.2 212.239141)scale(0.1 -0.1)\">\n       <use xlink:href=\"#DejaVuSans-50\"/>\n       <use x=\"63.623047\" xlink:href=\"#DejaVuSans-48\"/>\n       <use x=\"127.246094\" xlink:href=\"#DejaVuSans-48\"/>\n       <use x=\"190.869141\" xlink:href=\"#DejaVuSans-48\"/>\n      </g>\n     </g>\n    </g>\n    <g id=\"ytick_10\">\n     <g id=\"line2d_39\">\n      <path clip-path=\"url(#pd7d8fed608)\" d=\"M 39.65 177.333594 \nL 185.215217 177.333594 \n\" style=\"fill:none;stroke:#b0b0b0;stroke-linecap:square;stroke-width:0.8;\"/>\n     </g>\n     <g id=\"line2d_40\">\n      <g>\n       <use style=\"stroke:#000000;stroke-width:0.8;\" x=\"39.65\" xlink:href=\"#ma261bdd0ab\" y=\"177.333594\"/>\n      </g>\n     </g>\n     <g id=\"text_22\">\n      <!-- 4000 -->\n      <g transform=\"translate(7.2 181.132812)scale(0.1 -0.1)\">\n       <use xlink:href=\"#DejaVuSans-52\"/>\n       <use x=\"63.623047\" xlink:href=\"#DejaVuSans-48\"/>\n       <use x=\"127.246094\" xlink:href=\"#DejaVuSans-48\"/>\n       <use x=\"190.869141\" xlink:href=\"#DejaVuSans-48\"/>\n      </g>\n     </g>\n    </g>\n    <g id=\"ytick_11\">\n     <g id=\"line2d_41\">\n      <path clip-path=\"url(#pd7d8fed608)\" d=\"M 39.65 146.227265 \nL 185.215217 146.227265 \n\" style=\"fill:none;stroke:#b0b0b0;stroke-linecap:square;stroke-width:0.8;\"/>\n     </g>\n     <g id=\"line2d_42\">\n      <g>\n       <use style=\"stroke:#000000;stroke-width:0.8;\" x=\"39.65\" xlink:href=\"#ma261bdd0ab\" y=\"146.227265\"/>\n      </g>\n     </g>\n     <g id=\"text_23\">\n      <!-- 6000 -->\n      <g transform=\"translate(7.2 150.026484)scale(0.1 -0.1)\">\n       <use xlink:href=\"#DejaVuSans-54\"/>\n       <use x=\"63.623047\" xlink:href=\"#DejaVuSans-48\"/>\n       <use x=\"127.246094\" xlink:href=\"#DejaVuSans-48\"/>\n       <use x=\"190.869141\" xlink:href=\"#DejaVuSans-48\"/>\n      </g>\n     </g>\n    </g>\n   </g>\n   <g id=\"patch_43\">\n    <path d=\"M 39.65 239.54625 \nL 39.65 145.00712 \n\" style=\"fill:none;stroke:#000000;stroke-linecap:square;stroke-linejoin:miter;stroke-width:0.8;\"/>\n   </g>\n   <g id=\"patch_44\">\n    <path d=\"M 185.215217 239.54625 \nL 185.215217 145.00712 \n\" style=\"fill:none;stroke:#000000;stroke-linecap:square;stroke-linejoin:miter;stroke-width:0.8;\"/>\n   </g>\n   <g id=\"patch_45\">\n    <path d=\"M 39.65 239.54625 \nL 185.215217 239.54625 \n\" style=\"fill:none;stroke:#000000;stroke-linecap:square;stroke-linejoin:miter;stroke-width:0.8;\"/>\n   </g>\n   <g id=\"patch_46\">\n    <path d=\"M 39.65 145.00712 \nL 185.215217 145.00712 \n\" style=\"fill:none;stroke:#000000;stroke-linecap:square;stroke-linejoin:miter;stroke-width:0.8;\"/>\n   </g>\n   <g id=\"text_24\">\n    <!-- latitude -->\n    <defs>\n     <path d=\"M 9.421875 75.984375 \nL 18.40625 75.984375 \nL 18.40625 0 \nL 9.421875 0 \nz\n\" id=\"DejaVuSans-108\"/>\n     <path d=\"M 34.28125 27.484375 \nQ 23.390625 27.484375 19.1875 25 \nQ 14.984375 22.515625 14.984375 16.5 \nQ 14.984375 11.71875 18.140625 8.90625 \nQ 21.296875 6.109375 26.703125 6.109375 \nQ 34.1875 6.109375 38.703125 11.40625 \nQ 43.21875 16.703125 43.21875 25.484375 \nL 43.21875 27.484375 \nz\nM 52.203125 31.203125 \nL 52.203125 0 \nL 43.21875 0 \nL 43.21875 8.296875 \nQ 40.140625 3.328125 35.546875 0.953125 \nQ 30.953125 -1.421875 24.3125 -1.421875 \nQ 15.921875 -1.421875 10.953125 3.296875 \nQ 6 8.015625 6 15.921875 \nQ 6 25.140625 12.171875 29.828125 \nQ 18.359375 34.515625 30.609375 34.515625 \nL 43.21875 34.515625 \nL 43.21875 35.40625 \nQ 43.21875 41.609375 39.140625 45 \nQ 35.0625 48.390625 27.6875 48.390625 \nQ 23 48.390625 18.546875 47.265625 \nQ 14.109375 46.140625 10.015625 43.890625 \nL 10.015625 52.203125 \nQ 14.9375 54.109375 19.578125 55.046875 \nQ 24.21875 56 28.609375 56 \nQ 40.484375 56 46.34375 49.84375 \nQ 52.203125 43.703125 52.203125 31.203125 \nz\n\" id=\"DejaVuSans-97\"/>\n     <path d=\"M 18.3125 70.21875 \nL 18.3125 54.6875 \nL 36.8125 54.6875 \nL 36.8125 47.703125 \nL 18.3125 47.703125 \nL 18.3125 18.015625 \nQ 18.3125 11.328125 20.140625 9.421875 \nQ 21.96875 7.515625 27.59375 7.515625 \nL 36.8125 7.515625 \nL 36.8125 0 \nL 27.59375 0 \nQ 17.1875 0 13.234375 3.875 \nQ 9.28125 7.765625 9.28125 18.015625 \nL 9.28125 47.703125 \nL 2.6875 47.703125 \nL 2.6875 54.6875 \nL 9.28125 54.6875 \nL 9.28125 70.21875 \nz\n\" id=\"DejaVuSans-116\"/>\n     <path d=\"M 9.421875 54.6875 \nL 18.40625 54.6875 \nL 18.40625 0 \nL 9.421875 0 \nz\nM 9.421875 75.984375 \nL 18.40625 75.984375 \nL 18.40625 64.59375 \nL 9.421875 64.59375 \nz\n\" id=\"DejaVuSans-105\"/>\n     <path d=\"M 8.5 21.578125 \nL 8.5 54.6875 \nL 17.484375 54.6875 \nL 17.484375 21.921875 \nQ 17.484375 14.15625 20.5 10.265625 \nQ 23.53125 6.390625 29.59375 6.390625 \nQ 36.859375 6.390625 41.078125 11.03125 \nQ 45.3125 15.671875 45.3125 23.6875 \nL 45.3125 54.6875 \nL 54.296875 54.6875 \nL 54.296875 0 \nL 45.3125 0 \nL 45.3125 8.40625 \nQ 42.046875 3.421875 37.71875 1 \nQ 33.40625 -1.421875 27.6875 -1.421875 \nQ 18.265625 -1.421875 13.375 4.4375 \nQ 8.5 10.296875 8.5 21.578125 \nz\nM 31.109375 56 \nz\n\" id=\"DejaVuSans-117\"/>\n     <path d=\"M 45.40625 46.390625 \nL 45.40625 75.984375 \nL 54.390625 75.984375 \nL 54.390625 0 \nL 45.40625 0 \nL 45.40625 8.203125 \nQ 42.578125 3.328125 38.25 0.953125 \nQ 33.9375 -1.421875 27.875 -1.421875 \nQ 17.96875 -1.421875 11.734375 6.484375 \nQ 5.515625 14.40625 5.515625 27.296875 \nQ 5.515625 40.1875 11.734375 48.09375 \nQ 17.96875 56 27.875 56 \nQ 33.9375 56 38.25 53.625 \nQ 42.578125 51.265625 45.40625 46.390625 \nz\nM 14.796875 27.296875 \nQ 14.796875 17.390625 18.875 11.75 \nQ 22.953125 6.109375 30.078125 6.109375 \nQ 37.203125 6.109375 41.296875 11.75 \nQ 45.40625 17.390625 45.40625 27.296875 \nQ 45.40625 37.203125 41.296875 42.84375 \nQ 37.203125 48.484375 30.078125 48.484375 \nQ 22.953125 48.484375 18.875 42.84375 \nQ 14.796875 37.203125 14.796875 27.296875 \nz\n\" id=\"DejaVuSans-100\"/>\n     <path d=\"M 56.203125 29.59375 \nL 56.203125 25.203125 \nL 14.890625 25.203125 \nQ 15.484375 15.921875 20.484375 11.0625 \nQ 25.484375 6.203125 34.421875 6.203125 \nQ 39.59375 6.203125 44.453125 7.46875 \nQ 49.3125 8.734375 54.109375 11.28125 \nL 54.109375 2.78125 \nQ 49.265625 0.734375 44.1875 -0.34375 \nQ 39.109375 -1.421875 33.890625 -1.421875 \nQ 20.796875 -1.421875 13.15625 6.1875 \nQ 5.515625 13.8125 5.515625 26.8125 \nQ 5.515625 40.234375 12.765625 48.109375 \nQ 20.015625 56 32.328125 56 \nQ 43.359375 56 49.78125 48.890625 \nQ 56.203125 41.796875 56.203125 29.59375 \nz\nM 47.21875 32.234375 \nQ 47.125 39.59375 43.09375 43.984375 \nQ 39.0625 48.390625 32.421875 48.390625 \nQ 24.90625 48.390625 20.390625 44.140625 \nQ 15.875 39.890625 15.1875 32.171875 \nz\n\" id=\"DejaVuSans-101\"/>\n    </defs>\n    <g transform=\"translate(89.414171 139.00712)scale(0.12 -0.12)\">\n     <use xlink:href=\"#DejaVuSans-108\"/>\n     <use x=\"27.783203\" xlink:href=\"#DejaVuSans-97\"/>\n     <use x=\"89.0625\" xlink:href=\"#DejaVuSans-116\"/>\n     <use x=\"128.271484\" xlink:href=\"#DejaVuSans-105\"/>\n     <use x=\"156.054688\" xlink:href=\"#DejaVuSans-116\"/>\n     <use x=\"195.263672\" xlink:href=\"#DejaVuSans-117\"/>\n     <use x=\"258.642578\" xlink:href=\"#DejaVuSans-100\"/>\n     <use x=\"322.119141\" xlink:href=\"#DejaVuSans-101\"/>\n    </g>\n   </g>\n  </g>\n  <g id=\"axes_4\">\n   <g id=\"patch_47\">\n    <path d=\"M 228.884783 239.54625 \nL 374.45 239.54625 \nL 374.45 145.00712 \nL 228.884783 145.00712 \nz\n\" style=\"fill:#ffffff;\"/>\n   </g>\n   <g id=\"patch_48\">\n    <path clip-path=\"url(#pc14d777f88)\" d=\"M 235.501383 239.54625 \nL 248.734585 239.54625 \nL 248.734585 207.54125 \nL 235.501383 207.54125 \nz\n\" style=\"fill:#1f77b4;\"/>\n   </g>\n   <g id=\"patch_49\">\n    <path clip-path=\"url(#pc14d777f88)\" d=\"M 248.734585 239.54625 \nL 261.967787 239.54625 \nL 261.967787 195.895193 \nL 248.734585 195.895193 \nz\n\" style=\"fill:#1f77b4;\"/>\n   </g>\n   <g id=\"patch_50\">\n    <path clip-path=\"url(#pc14d777f88)\" d=\"M 261.967787 239.54625 \nL 275.200988 239.54625 \nL 275.200988 179.07586 \nL 261.967787 179.07586 \nz\n\" style=\"fill:#1f77b4;\"/>\n   </g>\n   <g id=\"patch_51\">\n    <path clip-path=\"url(#pc14d777f88)\" d=\"M 275.200988 239.54625 \nL 288.43419 239.54625 \nL 288.43419 149.508983 \nL 275.200988 149.508983 \nz\n\" style=\"fill:#1f77b4;\"/>\n   </g>\n   <g id=\"patch_52\">\n    <path clip-path=\"url(#pc14d777f88)\" d=\"M 288.43419 239.54625 \nL 301.667391 239.54625 \nL 301.667391 178.518928 \nL 288.43419 178.518928 \nz\n\" style=\"fill:#1f77b4;\"/>\n   </g>\n   <g id=\"patch_53\">\n    <path clip-path=\"url(#pc14d777f88)\" d=\"M 301.667391 239.54625 \nL 314.900593 239.54625 \nL 314.900593 236.155156 \nL 301.667391 236.155156 \nz\n\" style=\"fill:#1f77b4;\"/>\n   </g>\n   <g id=\"patch_54\">\n    <path clip-path=\"url(#pc14d777f88)\" d=\"M 314.900593 239.54625 \nL 328.133794 239.54625 \nL 328.133794 238.95219 \nL 314.900593 238.95219 \nz\n\" style=\"fill:#1f77b4;\"/>\n   </g>\n   <g id=\"patch_55\">\n    <path clip-path=\"url(#pc14d777f88)\" d=\"M 328.133794 239.54625 \nL 341.366996 239.54625 \nL 341.366996 239.54625 \nL 328.133794 239.54625 \nz\n\" style=\"fill:#1f77b4;\"/>\n   </g>\n   <g id=\"patch_56\">\n    <path clip-path=\"url(#pc14d777f88)\" d=\"M 341.366996 239.54625 \nL 354.600198 239.54625 \nL 354.600198 239.54625 \nL 341.366996 239.54625 \nz\n\" style=\"fill:#1f77b4;\"/>\n   </g>\n   <g id=\"patch_57\">\n    <path clip-path=\"url(#pc14d777f88)\" d=\"M 354.600198 239.54625 \nL 367.833399 239.54625 \nL 367.833399 239.261596 \nL 354.600198 239.261596 \nz\n\" style=\"fill:#1f77b4;\"/>\n   </g>\n   <g id=\"matplotlib.axis_7\">\n    <g id=\"xtick_11\">\n     <g id=\"line2d_43\">\n      <path clip-path=\"url(#pc14d777f88)\" d=\"M 238.238849 239.54625 \nL 238.238849 145.00712 \n\" style=\"fill:none;stroke:#b0b0b0;stroke-linecap:square;stroke-width:0.8;\"/>\n     </g>\n     <g id=\"line2d_44\">\n      <g>\n       <use style=\"stroke:#000000;stroke-width:0.8;\" x=\"238.238849\" xlink:href=\"#m121f2338ba\" y=\"239.54625\"/>\n      </g>\n     </g>\n     <g id=\"text_25\">\n      <!-- 5.70 -->\n      <g transform=\"translate(227.106036 254.144688)scale(0.1 -0.1)\">\n       <use xlink:href=\"#DejaVuSans-53\"/>\n       <use x=\"63.623047\" xlink:href=\"#DejaVuSans-46\"/>\n       <use x=\"95.410156\" xlink:href=\"#DejaVuSans-55\"/>\n       <use x=\"159.033203\" xlink:href=\"#DejaVuSans-48\"/>\n      </g>\n     </g>\n    </g>\n    <g id=\"xtick_12\">\n     <g id=\"line2d_45\">\n      <path clip-path=\"url(#pc14d777f88)\" d=\"M 303.887001 239.54625 \nL 303.887001 145.00712 \n\" style=\"fill:none;stroke:#b0b0b0;stroke-linecap:square;stroke-width:0.8;\"/>\n     </g>\n     <g id=\"line2d_46\">\n      <g>\n       <use style=\"stroke:#000000;stroke-width:0.8;\" x=\"303.887001\" xlink:href=\"#m121f2338ba\" y=\"239.54625\"/>\n      </g>\n     </g>\n     <g id=\"text_26\">\n      <!-- 5.75 -->\n      <g transform=\"translate(292.754189 254.144688)scale(0.1 -0.1)\">\n       <use xlink:href=\"#DejaVuSans-53\"/>\n       <use x=\"63.623047\" xlink:href=\"#DejaVuSans-46\"/>\n       <use x=\"95.410156\" xlink:href=\"#DejaVuSans-55\"/>\n       <use x=\"159.033203\" xlink:href=\"#DejaVuSans-53\"/>\n      </g>\n     </g>\n    </g>\n    <g id=\"xtick_13\">\n     <g id=\"line2d_47\">\n      <path clip-path=\"url(#pc14d777f88)\" d=\"M 369.535154 239.54625 \nL 369.535154 145.00712 \n\" style=\"fill:none;stroke:#b0b0b0;stroke-linecap:square;stroke-width:0.8;\"/>\n     </g>\n     <g id=\"line2d_48\">\n      <g>\n       <use style=\"stroke:#000000;stroke-width:0.8;\" x=\"369.535154\" xlink:href=\"#m121f2338ba\" y=\"239.54625\"/>\n      </g>\n     </g>\n     <g id=\"text_27\">\n      <!-- 5.80 -->\n      <defs>\n       <path d=\"M 31.78125 34.625 \nQ 24.75 34.625 20.71875 30.859375 \nQ 16.703125 27.09375 16.703125 20.515625 \nQ 16.703125 13.921875 20.71875 10.15625 \nQ 24.75 6.390625 31.78125 6.390625 \nQ 38.8125 6.390625 42.859375 10.171875 \nQ 46.921875 13.96875 46.921875 20.515625 \nQ 46.921875 27.09375 42.890625 30.859375 \nQ 38.875 34.625 31.78125 34.625 \nz\nM 21.921875 38.8125 \nQ 15.578125 40.375 12.03125 44.71875 \nQ 8.5 49.078125 8.5 55.328125 \nQ 8.5 64.0625 14.71875 69.140625 \nQ 20.953125 74.21875 31.78125 74.21875 \nQ 42.671875 74.21875 48.875 69.140625 \nQ 55.078125 64.0625 55.078125 55.328125 \nQ 55.078125 49.078125 51.53125 44.71875 \nQ 48 40.375 41.703125 38.8125 \nQ 48.828125 37.15625 52.796875 32.3125 \nQ 56.78125 27.484375 56.78125 20.515625 \nQ 56.78125 9.90625 50.3125 4.234375 \nQ 43.84375 -1.421875 31.78125 -1.421875 \nQ 19.734375 -1.421875 13.25 4.234375 \nQ 6.78125 9.90625 6.78125 20.515625 \nQ 6.78125 27.484375 10.78125 32.3125 \nQ 14.796875 37.15625 21.921875 38.8125 \nz\nM 18.3125 54.390625 \nQ 18.3125 48.734375 21.84375 45.5625 \nQ 25.390625 42.390625 31.78125 42.390625 \nQ 38.140625 42.390625 41.71875 45.5625 \nQ 45.3125 48.734375 45.3125 54.390625 \nQ 45.3125 60.0625 41.71875 63.234375 \nQ 38.140625 66.40625 31.78125 66.40625 \nQ 25.390625 66.40625 21.84375 63.234375 \nQ 18.3125 60.0625 18.3125 54.390625 \nz\n\" id=\"DejaVuSans-56\"/>\n      </defs>\n      <g transform=\"translate(358.402342 254.144688)scale(0.1 -0.1)\">\n       <use xlink:href=\"#DejaVuSans-53\"/>\n       <use x=\"63.623047\" xlink:href=\"#DejaVuSans-46\"/>\n       <use x=\"95.410156\" xlink:href=\"#DejaVuSans-56\"/>\n       <use x=\"159.033203\" xlink:href=\"#DejaVuSans-48\"/>\n      </g>\n     </g>\n    </g>\n   </g>\n   <g id=\"matplotlib.axis_8\">\n    <g id=\"ytick_12\">\n     <g id=\"line2d_49\">\n      <path clip-path=\"url(#pc14d777f88)\" d=\"M 228.884783 239.54625 \nL 374.45 239.54625 \n\" style=\"fill:none;stroke:#b0b0b0;stroke-linecap:square;stroke-width:0.8;\"/>\n     </g>\n     <g id=\"line2d_50\">\n      <g>\n       <use style=\"stroke:#000000;stroke-width:0.8;\" x=\"228.884783\" xlink:href=\"#ma261bdd0ab\" y=\"239.54625\"/>\n      </g>\n     </g>\n     <g id=\"text_28\">\n      <!-- 0 -->\n      <g transform=\"translate(215.522283 243.345469)scale(0.1 -0.1)\">\n       <use xlink:href=\"#DejaVuSans-48\"/>\n      </g>\n     </g>\n    </g>\n    <g id=\"ytick_13\">\n     <g id=\"line2d_51\">\n      <path clip-path=\"url(#pc14d777f88)\" d=\"M 228.884783 214.793737 \nL 374.45 214.793737 \n\" style=\"fill:none;stroke:#b0b0b0;stroke-linecap:square;stroke-width:0.8;\"/>\n     </g>\n     <g id=\"line2d_52\">\n      <g>\n       <use style=\"stroke:#000000;stroke-width:0.8;\" x=\"228.884783\" xlink:href=\"#ma261bdd0ab\" y=\"214.793737\"/>\n      </g>\n     </g>\n     <g id=\"text_29\">\n      <!-- 2000 -->\n      <g transform=\"translate(196.434783 218.592955)scale(0.1 -0.1)\">\n       <use xlink:href=\"#DejaVuSans-50\"/>\n       <use x=\"63.623047\" xlink:href=\"#DejaVuSans-48\"/>\n       <use x=\"127.246094\" xlink:href=\"#DejaVuSans-48\"/>\n       <use x=\"190.869141\" xlink:href=\"#DejaVuSans-48\"/>\n      </g>\n     </g>\n    </g>\n    <g id=\"ytick_14\">\n     <g id=\"line2d_53\">\n      <path clip-path=\"url(#pc14d777f88)\" d=\"M 228.884783 190.041223 \nL 374.45 190.041223 \n\" style=\"fill:none;stroke:#b0b0b0;stroke-linecap:square;stroke-width:0.8;\"/>\n     </g>\n     <g id=\"line2d_54\">\n      <g>\n       <use style=\"stroke:#000000;stroke-width:0.8;\" x=\"228.884783\" xlink:href=\"#ma261bdd0ab\" y=\"190.041223\"/>\n      </g>\n     </g>\n     <g id=\"text_30\">\n      <!-- 4000 -->\n      <g transform=\"translate(196.434783 193.840442)scale(0.1 -0.1)\">\n       <use xlink:href=\"#DejaVuSans-52\"/>\n       <use x=\"63.623047\" xlink:href=\"#DejaVuSans-48\"/>\n       <use x=\"127.246094\" xlink:href=\"#DejaVuSans-48\"/>\n       <use x=\"190.869141\" xlink:href=\"#DejaVuSans-48\"/>\n      </g>\n     </g>\n    </g>\n    <g id=\"ytick_15\">\n     <g id=\"line2d_55\">\n      <path clip-path=\"url(#pc14d777f88)\" d=\"M 228.884783 165.28871 \nL 374.45 165.28871 \n\" style=\"fill:none;stroke:#b0b0b0;stroke-linecap:square;stroke-width:0.8;\"/>\n     </g>\n     <g id=\"line2d_56\">\n      <g>\n       <use style=\"stroke:#000000;stroke-width:0.8;\" x=\"228.884783\" xlink:href=\"#ma261bdd0ab\" y=\"165.28871\"/>\n      </g>\n     </g>\n     <g id=\"text_31\">\n      <!-- 6000 -->\n      <g transform=\"translate(196.434783 169.087929)scale(0.1 -0.1)\">\n       <use xlink:href=\"#DejaVuSans-54\"/>\n       <use x=\"63.623047\" xlink:href=\"#DejaVuSans-48\"/>\n       <use x=\"127.246094\" xlink:href=\"#DejaVuSans-48\"/>\n       <use x=\"190.869141\" xlink:href=\"#DejaVuSans-48\"/>\n      </g>\n     </g>\n    </g>\n   </g>\n   <g id=\"patch_58\">\n    <path d=\"M 228.884783 239.54625 \nL 228.884783 145.00712 \n\" style=\"fill:none;stroke:#000000;stroke-linecap:square;stroke-linejoin:miter;stroke-width:0.8;\"/>\n   </g>\n   <g id=\"patch_59\">\n    <path d=\"M 374.45 239.54625 \nL 374.45 145.00712 \n\" style=\"fill:none;stroke:#000000;stroke-linecap:square;stroke-linejoin:miter;stroke-width:0.8;\"/>\n   </g>\n   <g id=\"patch_60\">\n    <path d=\"M 228.884783 239.54625 \nL 374.45 239.54625 \n\" style=\"fill:none;stroke:#000000;stroke-linecap:square;stroke-linejoin:miter;stroke-width:0.8;\"/>\n   </g>\n   <g id=\"patch_61\">\n    <path d=\"M 228.884783 145.00712 \nL 374.45 145.00712 \n\" style=\"fill:none;stroke:#000000;stroke-linecap:square;stroke-linejoin:miter;stroke-width:0.8;\"/>\n   </g>\n   <g id=\"text_32\">\n    <!-- longitude -->\n    <defs>\n     <path d=\"M 30.609375 48.390625 \nQ 23.390625 48.390625 19.1875 42.75 \nQ 14.984375 37.109375 14.984375 27.296875 \nQ 14.984375 17.484375 19.15625 11.84375 \nQ 23.34375 6.203125 30.609375 6.203125 \nQ 37.796875 6.203125 41.984375 11.859375 \nQ 46.1875 17.53125 46.1875 27.296875 \nQ 46.1875 37.015625 41.984375 42.703125 \nQ 37.796875 48.390625 30.609375 48.390625 \nz\nM 30.609375 56 \nQ 42.328125 56 49.015625 48.375 \nQ 55.71875 40.765625 55.71875 27.296875 \nQ 55.71875 13.875 49.015625 6.21875 \nQ 42.328125 -1.421875 30.609375 -1.421875 \nQ 18.84375 -1.421875 12.171875 6.21875 \nQ 5.515625 13.875 5.515625 27.296875 \nQ 5.515625 40.765625 12.171875 48.375 \nQ 18.84375 56 30.609375 56 \nz\n\" id=\"DejaVuSans-111\"/>\n     <path d=\"M 54.890625 33.015625 \nL 54.890625 0 \nL 45.90625 0 \nL 45.90625 32.71875 \nQ 45.90625 40.484375 42.875 44.328125 \nQ 39.84375 48.1875 33.796875 48.1875 \nQ 26.515625 48.1875 22.3125 43.546875 \nQ 18.109375 38.921875 18.109375 30.90625 \nL 18.109375 0 \nL 9.078125 0 \nL 9.078125 54.6875 \nL 18.109375 54.6875 \nL 18.109375 46.1875 \nQ 21.34375 51.125 25.703125 53.5625 \nQ 30.078125 56 35.796875 56 \nQ 45.21875 56 50.046875 50.171875 \nQ 54.890625 44.34375 54.890625 33.015625 \nz\n\" id=\"DejaVuSans-110\"/>\n     <path d=\"M 45.40625 27.984375 \nQ 45.40625 37.75 41.375 43.109375 \nQ 37.359375 48.484375 30.078125 48.484375 \nQ 22.859375 48.484375 18.828125 43.109375 \nQ 14.796875 37.75 14.796875 27.984375 \nQ 14.796875 18.265625 18.828125 12.890625 \nQ 22.859375 7.515625 30.078125 7.515625 \nQ 37.359375 7.515625 41.375 12.890625 \nQ 45.40625 18.265625 45.40625 27.984375 \nz\nM 54.390625 6.78125 \nQ 54.390625 -7.171875 48.1875 -13.984375 \nQ 42 -20.796875 29.203125 -20.796875 \nQ 24.46875 -20.796875 20.265625 -20.09375 \nQ 16.0625 -19.390625 12.109375 -17.921875 \nL 12.109375 -9.1875 \nQ 16.0625 -11.328125 19.921875 -12.34375 \nQ 23.78125 -13.375 27.78125 -13.375 \nQ 36.625 -13.375 41.015625 -8.765625 \nQ 45.40625 -4.15625 45.40625 5.171875 \nL 45.40625 9.625 \nQ 42.625 4.78125 38.28125 2.390625 \nQ 33.9375 0 27.875 0 \nQ 17.828125 0 11.671875 7.65625 \nQ 5.515625 15.328125 5.515625 27.984375 \nQ 5.515625 40.671875 11.671875 48.328125 \nQ 17.828125 56 27.875 56 \nQ 33.9375 56 38.28125 53.609375 \nQ 42.625 51.21875 45.40625 46.390625 \nL 45.40625 54.6875 \nL 54.390625 54.6875 \nz\n\" id=\"DejaVuSans-103\"/>\n    </defs>\n    <g transform=\"translate(273.395204 139.00712)scale(0.12 -0.12)\">\n     <use xlink:href=\"#DejaVuSans-108\"/>\n     <use x=\"27.783203\" xlink:href=\"#DejaVuSans-111\"/>\n     <use x=\"88.964844\" xlink:href=\"#DejaVuSans-110\"/>\n     <use x=\"152.34375\" xlink:href=\"#DejaVuSans-103\"/>\n     <use x=\"215.820312\" xlink:href=\"#DejaVuSans-105\"/>\n     <use x=\"243.603516\" xlink:href=\"#DejaVuSans-116\"/>\n     <use x=\"282.8125\" xlink:href=\"#DejaVuSans-117\"/>\n     <use x=\"346.191406\" xlink:href=\"#DejaVuSans-100\"/>\n     <use x=\"409.667969\" xlink:href=\"#DejaVuSans-101\"/>\n    </g>\n   </g>\n  </g>\n </g>\n <defs>\n  <clipPath id=\"p7fdf7a1eb2\">\n   <rect height=\"94.53913\" width=\"145.565217\" x=\"39.65\" y=\"22.10625\"/>\n  </clipPath>\n  <clipPath id=\"p496878ccdb\">\n   <rect height=\"94.53913\" width=\"145.565217\" x=\"228.884783\" y=\"22.10625\"/>\n  </clipPath>\n  <clipPath id=\"pd7d8fed608\">\n   <rect height=\"94.53913\" width=\"145.565217\" x=\"39.65\" y=\"145.00712\"/>\n  </clipPath>\n  <clipPath id=\"pc14d777f88\">\n   <rect height=\"94.53913\" width=\"145.565217\" x=\"228.884783\" y=\"145.00712\"/>\n  </clipPath>\n </defs>\n</svg>\n",
      "image/png": "[encoded data removed]"
     },
     "metadata": {
      "needs_background": "light"
     }
    }
   ],
   "source": [
    "x_train.hist()"
   ]
  },
  {
   "cell_type": "markdown",
   "metadata": {},
   "source": [
    "Display the number of missing values for each column in the dataframe."
   ]
  },
  {
   "cell_type": "code",
   "execution_count": 19,
   "metadata": {},
   "outputs": [
    {
     "output_type": "execute_result",
     "data": {
      "text/plain": "ELEM_POINT_ID               0\nCODE                        0\nSOUS_CATEGORIE              0\nSOUS_CATEGORIE_DESC         0\nCODE_PARENT                 0\nCODE_PARENT_DESC            0\nADR_SECTEUR                 0\nGENRE_BOTA                 29\nESPECE                   1294\nVARIETE                 20408\nSTADEDEDEVELOPPEMENT     1304\nCOLLECTIVITE                0\ntype                        0\nlongitude                   0\nlatitude                    0\ndtype: int64"
     },
     "metadata": {},
     "execution_count": 19
    }
   ],
   "source": [
    "x_train.isna().sum()"
   ]
  },
  {
   "cell_type": "code",
   "execution_count": 20,
   "metadata": {},
   "outputs": [
    {
     "output_type": "execute_result",
     "data": {
      "text/plain": "ELEM_POINT_ID               0\nCODE                        0\nSOUS_CATEGORIE              0\nSOUS_CATEGORIE_DESC         0\nCODE_PARENT                 0\nCODE_PARENT_DESC            0\nADR_SECTEUR                 0\nGENRE_BOTA                 41\nESPECE                   1713\nVARIETE                 27186\nSTADEDEDEVELOPPEMENT     1710\nCOLLECTIVITE                0\ntype                        0\nlongitude                   0\nlatitude                    0\ndtype: int64"
     },
     "metadata": {},
     "execution_count": 20
    }
   ],
   "source": [
    "df.isna().sum()"
   ]
  },
  {
   "cell_type": "markdown",
   "metadata": {},
   "source": [
    "# Building a first naive model\n",
    "\n",
    "We will consider we can determine the plantation year of trees in the test set based solely on the median value of the plantation year for the trees in the train set."
   ]
  },
  {
   "cell_type": "markdown",
   "metadata": {},
   "source": [
    "Display the median value of plantation year for trees in the train set."
   ]
  },
  {
   "cell_type": "code",
   "execution_count": 21,
   "metadata": {},
   "outputs": [],
   "source": [
    "med = y_test.median()"
   ]
  },
  {
   "cell_type": "markdown",
   "metadata": {},
   "source": [
    "Display the shape of the test set."
   ]
  },
  {
   "cell_type": "code",
   "execution_count": 22,
   "metadata": {},
   "outputs": [
    {
     "output_type": "execute_result",
     "data": {
      "text/plain": "(7850,)"
     },
     "metadata": {},
     "execution_count": 22
    }
   ],
   "source": [
    "y_test.shape"
   ]
  },
  {
   "cell_type": "markdown",
   "metadata": {},
   "source": [
    "Create a variable `y_test_pred`. This will serve to store the predictions of your machine learning model on the test set.\n",
    "\n",
    "It has to be an array of the same length as the number of test examples (in X_test).\n",
    "\n",
    "Initialize this variable to have the median value from the train set."
   ]
  },
  {
   "cell_type": "code",
   "execution_count": 23,
   "metadata": {},
   "outputs": [],
   "source": [
    "y_test_pred = np.full((len(x_test),1),med)"
   ]
  },
  {
   "cell_type": "markdown",
   "metadata": {},
   "source": [
    "Display the contents of `y_test_pred`"
   ]
  },
  {
   "cell_type": "code",
   "execution_count": 24,
   "metadata": {},
   "outputs": [
    {
     "output_type": "execute_result",
     "data": {
      "text/plain": "array([[1985.],\n       [1985.],\n       [1985.],\n       ...,\n       [1985.],\n       [1985.],\n       [1985.]])"
     },
     "metadata": {},
     "execution_count": 24
    }
   ],
   "source": [
    "y_test_pred"
   ]
  },
  {
   "cell_type": "markdown",
   "metadata": {},
   "source": [
    "Import from the scikit-learn library the necessary function to compute the mean squared error."
   ]
  },
  {
   "cell_type": "code",
   "execution_count": 25,
   "metadata": {},
   "outputs": [],
   "source": [
    "from sklearn.metrics import mean_squared_error"
   ]
  },
  {
   "cell_type": "markdown",
   "metadata": {},
   "source": [
    "Apply the function to compute the error on the test set. Print the result."
   ]
  },
  {
   "cell_type": "code",
   "execution_count": 26,
   "metadata": {},
   "outputs": [
    {
     "output_type": "execute_result",
     "data": {
      "text/plain": "310.200127388535"
     },
     "metadata": {},
     "execution_count": 26
    }
   ],
   "source": [
    "mean_squared_error(y_test,y_test_pred)"
   ]
  },
  {
   "cell_type": "markdown",
   "metadata": {},
   "source": [
    "# Prepare data and build new models"
   ]
  },
  {
   "cell_type": "markdown",
   "metadata": {},
   "source": [
    "### 1. Make a processing pipeline using only numerical data"
   ]
  },
  {
   "cell_type": "code",
   "execution_count": 27,
   "metadata": {},
   "outputs": [],
   "source": [
    "from sklearn.base import BaseEstimator, TransformerMixin\n",
    "from sklearn.impute import SimpleImputer\n",
    "from sklearn.pipeline import Pipeline\n",
    "from sklearn.preprocessing import StandardScaler\n",
    "from sklearn.preprocessing import OneHotEncoder"
   ]
  },
  {
   "cell_type": "markdown",
   "metadata": {},
   "source": [
    "Inspect the following code and write what it does the cell below."
   ]
  },
  {
   "cell_type": "code",
   "execution_count": 28,
   "metadata": {},
   "outputs": [],
   "source": [
    "class DataFrameSelector(BaseEstimator, TransformerMixin):\n",
    "    def __init__(self, attribute_names):\n",
    "        self.attribute_names = attribute_names\n",
    "        \n",
    "    def fit(self, X, y=None):\n",
    "        return self\n",
    "    def transform(self, X):\n",
    "        return X[self.attribute_names].values"
   ]
  },
  {
   "cell_type": "markdown",
   "metadata": {},
   "source": [
    "it select the values of the dataframe you pass in arguments"
   ]
  },
  {
   "cell_type": "markdown",
   "metadata": {},
   "source": [
    "Define a `Pipeline` consisting of 3 steps: \n",
    "- selecting only the numerical attributes from the dataframe that could make sense for the prediction (longitude and latitude), \n",
    "- replacing missing values with the median of each column, \n",
    "- normalizing the data (removing the mean and scaling to unit variance).\n",
    "\n",
    "For this, get help from the scikit learn documentation related to the corresponding functions.\n",
    "Your code has to be one line!"
   ]
  },
  {
   "cell_type": "code",
   "execution_count": 29,
   "metadata": {},
   "outputs": [],
   "source": [
    "num_attribs = ['longitude', 'latitude']\n",
    "\n",
    "# code here\n",
    "num_pipeline = Pipeline(steps=[('DS',DataFrameSelector(num_attribs)),('SI',SimpleImputer(strategy=\"median\")),(\"SS\",StandardScaler())])"
   ]
  },
  {
   "cell_type": "markdown",
   "metadata": {},
   "source": [
    "Inspect the longitude and latitude of the first elements in the train set."
   ]
  },
  {
   "cell_type": "code",
   "execution_count": 30,
   "metadata": {},
   "outputs": [
    {
     "output_type": "execute_result",
     "data": {
      "text/plain": "   longitude   latitude\n0   5.719919  45.190237\n1   5.719994  45.190280\n2   5.720006  45.190322\n3   5.719959  45.190359\n4   5.720047  45.190442",
      "text/html": "<div>\n<style scoped>\n    .dataframe tbody tr th:only-of-type {\n        vertical-align: middle;\n    }\n\n    .dataframe tbody tr th {\n        vertical-align: top;\n    }\n\n    .dataframe thead th {\n        text-align: right;\n    }\n</style>\n<table border=\"1\" class=\"dataframe\">\n  <thead>\n    <tr style=\"text-align: right;\">\n      <th></th>\n      <th>longitude</th>\n      <th>latitude</th>\n    </tr>\n  </thead>\n  <tbody>\n    <tr>\n      <th>0</th>\n      <td>5.719919</td>\n      <td>45.190237</td>\n    </tr>\n    <tr>\n      <th>1</th>\n      <td>5.719994</td>\n      <td>45.190280</td>\n    </tr>\n    <tr>\n      <th>2</th>\n      <td>5.720006</td>\n      <td>45.190322</td>\n    </tr>\n    <tr>\n      <th>3</th>\n      <td>5.719959</td>\n      <td>45.190359</td>\n    </tr>\n    <tr>\n      <th>4</th>\n      <td>5.720047</td>\n      <td>45.190442</td>\n    </tr>\n  </tbody>\n</table>\n</div>"
     },
     "metadata": {},
     "execution_count": 30
    }
   ],
   "source": [
    "df.loc[:,num_attribs].head(5)"
   ]
  },
  {
   "cell_type": "markdown",
   "metadata": {},
   "source": [
    "Read the documentation for `fit_transform()` if you are unfamiliar with the method.\n",
    "\n",
    "Apply the `fit_transform()` to the train data and save the result in `X_trainT`. Inspect its shape."
   ]
  },
  {
   "cell_type": "code",
   "execution_count": 31,
   "metadata": {},
   "outputs": [
    {
     "output_type": "execute_result",
     "data": {
      "text/plain": "sklearn.pipeline.Pipeline"
     },
     "metadata": {},
     "execution_count": 31
    }
   ],
   "source": [
    "type(num_pipeline)"
   ]
  },
  {
   "cell_type": "code",
   "execution_count": 32,
   "metadata": {},
   "outputs": [],
   "source": [
    "X_trainT = num_pipeline.fit_transform(x_train,y_train)"
   ]
  },
  {
   "cell_type": "markdown",
   "metadata": {},
   "source": [
    "Apply the `transform` to the test data. Save the result in a variable `X_testT` and print it."
   ]
  },
  {
   "cell_type": "code",
   "execution_count": 33,
   "metadata": {},
   "outputs": [],
   "source": [
    "X_testT = num_pipeline.transform(x_test)"
   ]
  },
  {
   "cell_type": "code",
   "execution_count": 34,
   "metadata": {},
   "outputs": [
    {
     "output_type": "execute_result",
     "data": {
      "text/plain": "array([[ 1.12904697,  0.01052574],\n       [-0.12805059, -0.9080982 ],\n       [-1.68527105,  0.00893492],\n       ...,\n       [-1.32366152, -1.18461785],\n       [ 0.68994503,  1.56324796],\n       [-1.28927307, -0.87258273]])"
     },
     "metadata": {},
     "execution_count": 34
    }
   ],
   "source": [
    "X_testT"
   ]
  },
  {
   "cell_type": "markdown",
   "metadata": {},
   "source": [
    "What does the above output represent?"
   ]
  },
  {
   "cell_type": "markdown",
   "metadata": {},
   "source": [
    "it represent the test set after transformations by the pipeline"
   ]
  },
  {
   "cell_type": "markdown",
   "metadata": {},
   "source": [
    "Repeat the above process by selectively commenting parts of the processing in the `Pipeline` and changing the missing values handling strategy. Observe the results and write down your observations below."
   ]
  },
  {
   "cell_type": "code",
   "execution_count": 35,
   "metadata": {},
   "outputs": [
    {
     "output_type": "execute_result",
     "data": {
      "text/plain": "array([[ 5.74184539, 45.17698446],\n       [ 5.72568028, 45.16604914],\n       [ 5.70565588, 45.17696553],\n       ...,\n       [ 5.71030584, 45.16275745],\n       [ 5.73619894, 45.19546811],\n       [ 5.71074804, 45.16647192]])"
     },
     "metadata": {},
     "execution_count": 35
    }
   ],
   "source": [
    "num_pipeline = Pipeline(steps=[('DS',DataFrameSelector(num_attribs)),('SI',SimpleImputer(strategy=\"mean\"))])\n",
    "\n",
    "num_pipeline.fit_transform(x_train,y_train)\n",
    "\n",
    "num_pipeline.transform(x_test)"
   ]
  },
  {
   "cell_type": "markdown",
   "metadata": {},
   "source": [
    "the transformation change it doesn't apply the missing transformers and apply the mean strategy on the missing values. "
   ]
  },
  {
   "cell_type": "markdown",
   "metadata": {},
   "source": [
    "What are `Pipeline`s useful for? Answer below."
   ]
  },
  {
   "cell_type": "markdown",
   "metadata": {},
   "source": [
    "pipelines are useful for apply multiple transformations at once"
   ]
  },
  {
   "cell_type": "markdown",
   "metadata": {},
   "source": [
    "### 2. Start modelling!"
   ]
  },
  {
   "cell_type": "markdown",
   "metadata": {},
   "source": [
    "Now we can start modelling. We will start with a Linear Regression model.\n",
    "\n",
    "#### Linear Regression\n",
    "\n",
    "Import from scikit learn what is necessary to 1)perform linear regression and to 2)compute the cross validation score (`cross_val_score`).\n"
   ]
  },
  {
   "cell_type": "code",
   "execution_count": 36,
   "metadata": {},
   "outputs": [],
   "source": [
    "from sklearn.linear_model import LinearRegression\n",
    "from sklearn.model_selection import cross_val_score"
   ]
  },
  {
   "cell_type": "markdown",
   "metadata": {},
   "source": [
    "Inspect the documentation pages of the above two functions to understand their usage.\n",
    "\n",
    "To better understand how cross validation works, read the documentation page from scikit learn `3.1. Cross-validation: evaluating estimator performance` up until Section `3.1.1`."
   ]
  },
  {
   "cell_type": "markdown",
   "metadata": {},
   "source": [
    "Create a linear regression instance and save it in the `lin_reg` variable below. Build a model on the training set, calling the `fit()` method."
   ]
  },
  {
   "cell_type": "code",
   "execution_count": 37,
   "metadata": {},
   "outputs": [],
   "source": [
    "lin_reg = LinearRegression().fit(X_trainT,y_train)"
   ]
  },
  {
   "cell_type": "markdown",
   "metadata": {},
   "source": [
    "Run 10-fold cross validation with the metric to apply to the estimator (i.e. the scoring function) set to mean squared error.\n",
    "\n",
    "Print the resulting scores of the cross validation and the descriptive statistics (mean, std, etc.)"
   ]
  },
  {
   "cell_type": "code",
   "execution_count": 38,
   "metadata": {},
   "outputs": [
    {
     "output_type": "stream",
     "name": "stdout",
     "text": "[-280.72074649 -279.307987   -280.35557988 -290.62084636 -278.22450599\n -275.9426281  -285.04108392 -289.78328884 -280.86265765 -290.42591661]\nmean -283.1285240835443 std 5.159790415352624\n"
    }
   ],
   "source": [
    "result = cross_val_score(lin_reg,X_trainT,y_train,scoring=\"neg_mean_squared_error\",cv=10)\n",
    "\n",
    "print(result)\n",
    "print(\"mean\",result.mean(),'std',result.std())"
   ]
  },
  {
   "cell_type": "markdown",
   "metadata": {},
   "source": [
    "#### Decision Trees\n",
    "\n",
    "Import from scikit learn what is necessary to build a Decision Trees model for a regression problem."
   ]
  },
  {
   "cell_type": "code",
   "execution_count": 39,
   "metadata": {},
   "outputs": [],
   "source": [
    "from sklearn.tree import DecisionTreeRegressor"
   ]
  },
  {
   "cell_type": "markdown",
   "metadata": {},
   "source": [
    "Create an instance of a `DecisionTreeRegressor` with `random_state=43` and save it in the `tree_reg` variable below. Leave all the other parameters to their default values. Build a model on the training set, calling the `fit()` method."
   ]
  },
  {
   "cell_type": "code",
   "execution_count": 40,
   "metadata": {},
   "outputs": [],
   "source": [
    "tree_reg = DecisionTreeRegressor(random_state=43).fit(X_trainT,y_train)"
   ]
  },
  {
   "cell_type": "markdown",
   "metadata": {},
   "source": [
    "Run 10-fold cross validation with the metric to apply to the estimator (i.e. the scoring function) set to mean squared error.\n",
    "\n",
    "Print the resulting scores of the cross validation and the descriptive statistics (mean, std, etc.)"
   ]
  },
  {
   "cell_type": "code",
   "execution_count": 41,
   "metadata": {},
   "outputs": [
    {
     "output_type": "stream",
     "name": "stdout",
     "text": "[-153.22972399 -169.94140127 -156.78216561 -147.72951168 -146.4985138\n -175.46666667 -155.85392781 -159.26624204 -172.35201699 -175.75286624]\nmean -161.28730360934182 std 10.625334223943456\n"
    }
   ],
   "source": [
    "result = cross_val_score(tree_reg,X_trainT,y_train,scoring=\"neg_mean_squared_error\",cv=10)\n",
    "\n",
    "print(result)\n",
    "print(\"mean\",result.mean(),'std',result.std())"
   ]
  },
  {
   "cell_type": "markdown",
   "metadata": {},
   "source": [
    "How are the results obtained using the `DecisionTreeRegressor` in comparison to the results obtained using `LinearRegression` and in comparison to the Naive Model from the beginning of this notebook? \n",
    "\n",
    "Write down below the mean squared error value for each of them and your conclusions."
   ]
  },
  {
   "cell_type": "markdown",
   "metadata": {},
   "source": [
    "the decision trees model have lesser mean squared error than the linear model and the naive model so it let me think that this model is better estimator than the others"
   ]
  },
  {
   "cell_type": "markdown",
   "metadata": {},
   "source": [
    "### 3. Alter the hyper-parameters of the model\n",
    "\n",
    "Previously you called the `DecisionTreeRegressor`function with default parameters.\n",
    "\n",
    "In the following we will explore running different Decision Tree models with different parameters.\n",
    "\n",
    "To begin with, inspect the scikit learn page of `DecisionTreeRegressor` to understand which are the possible different hyper-parameters that you can adjust. Call a function to get the parameters of the `DecisionTreeRegressor`, save the result in a variable and display its contents below.\n"
   ]
  },
  {
   "cell_type": "code",
   "execution_count": 42,
   "metadata": {},
   "outputs": [
    {
     "output_type": "execute_result",
     "data": {
      "text/plain": "{'ccp_alpha': 0.0,\n 'criterion': 'mse',\n 'max_depth': None,\n 'max_features': None,\n 'max_leaf_nodes': None,\n 'min_impurity_decrease': 0.0,\n 'min_impurity_split': None,\n 'min_samples_leaf': 1,\n 'min_samples_split': 2,\n 'min_weight_fraction_leaf': 0.0,\n 'presort': 'deprecated',\n 'random_state': 43,\n 'splitter': 'best'}"
     },
     "metadata": {},
     "execution_count": 42
    }
   ],
   "source": [
    "params = tree_reg.get_params()\n",
    "\n",
    "params"
   ]
  },
  {
   "cell_type": "markdown",
   "metadata": {},
   "source": [
    "Create 10 new instances of a `DecisionTreeRegressor` and save them in 10 different variables, while keeping `random_state=43`. \n",
    "\n",
    "For each of them alter the default parameters by inputing different values for each of the following: `min_impurity_decrease`,  `max_depth`, `max_features`. Then, for each of them build a model on the training set, calling the `fit()` method.\n"
   ]
  },
  {
   "cell_type": "code",
   "execution_count": 43,
   "metadata": {},
   "outputs": [],
   "source": [
    "import random"
   ]
  },
  {
   "cell_type": "code",
   "execution_count": 44,
   "metadata": {},
   "outputs": [],
   "source": [
    "tree_regr=[i for i in range(0,10)]\n",
    "\n",
    "for i in range(0,10):\n",
    "    tree_regr[i]= DecisionTreeRegressor(random_state=43,min_impurity_decrease=random.randint(0,5),                                               max_depth=random.randint(10,100),max_features=random.randint(1,2))"
   ]
  },
  {
   "cell_type": "code",
   "execution_count": 45,
   "metadata": {},
   "outputs": [
    {
     "output_type": "execute_result",
     "data": {
      "text/plain": "DecisionTreeRegressor(ccp_alpha=0.0, criterion='mse', max_depth=None,\n                      max_features=None, max_leaf_nodes=None,\n                      min_impurity_decrease=0.0, min_impurity_split=None,\n                      min_samples_leaf=1, min_samples_split=2,\n                      min_weight_fraction_leaf=0.0, presort='deprecated',\n                      random_state=43, splitter='best')"
     },
     "metadata": {},
     "execution_count": 45
    }
   ],
   "source": [
    "\n",
    "tree_reg"
   ]
  },
  {
   "cell_type": "markdown",
   "metadata": {},
   "source": [
    "Run 10-fold cross validation with the metric to apply to the estimator (i.e. the scoring function) set to mean squared error.\n",
    "\n",
    "Print the resulting scores of the cross validation and the descriptive statistics (mean, std, etc.) for all 10 models.\n"
   ]
  },
  {
   "cell_type": "code",
   "execution_count": 46,
   "metadata": {},
   "outputs": [],
   "source": [
    "result=[i for i in range(0,10)]\n",
    "\n",
    "\n",
    "for i in range(0,10):\n",
    "    result[i] = cross_val_score(tree_regr[i],X_trainT,y_train,scoring=\"neg_mean_squared_error\",cv=10)\n",
    ""
   ]
  },
  {
   "cell_type": "code",
   "execution_count": 47,
   "metadata": {},
   "outputs": [
    {
     "output_type": "stream",
     "name": "stdout",
     "text": "0-  mean :  -262.6736817204781 std : 7.36597495509051\n[-256.07178046 -269.28369742 -255.33200322 -262.1632068  -253.43755196\n -264.70885453 -254.68533687 -276.75002356 -269.34519801 -264.95916437] \n\n1-  mean :  -262.6736817204781 std : 7.36597495509051\n[-256.07178046 -269.28369742 -255.33200322 -262.1632068  -253.43755196\n -264.70885453 -254.68533687 -276.75002356 -269.34519801 -264.95916437] \n\n2-  mean :  -270.3038171483539 std : 4.542262654954264\n[-267.91902214 -269.28369742 -267.82179663 -277.6282436  -263.56347631\n -264.70885453 -271.28521795 -276.75002356 -269.34519801 -274.73264133] \n\n3-  mean :  -262.6736817204781 std : 7.36597495509051\n[-256.07178046 -269.28369742 -255.33200322 -262.1632068  -253.43755196\n -264.70885453 -254.68533687 -276.75002356 -269.34519801 -264.95916437] \n\n4-  mean :  -270.3038171483539 std : 4.542262654954264\n[-267.91902214 -269.28369742 -267.82179663 -277.6282436  -263.56347631\n -264.70885453 -271.28521795 -276.75002356 -269.34519801 -274.73264133] \n\n5-  mean :  -263.12276181236757 std : 6.035353639694404\n[-258.39006548 -267.46441054 -261.21760684 -271.13058784 -252.32779445\n -257.57782992 -262.34484222 -271.78943586 -260.7172584  -268.26778656] \n\n6-  mean :  -270.3038171483539 std : 4.542262654954264\n[-267.91902214 -269.28369742 -267.82179663 -277.6282436  -263.56347631\n -264.70885453 -271.28521795 -276.75002356 -269.34519801 -274.73264133] \n\n7-  mean :  -161.28730360934182 std : 10.625334223943456\n[-153.22972399 -169.94140127 -156.78216561 -147.72951168 -146.4985138\n -175.46666667 -155.85392781 -159.26624204 -172.35201699 -175.75286624] \n\n8-  mean :  -237.67698205044312 std : 5.915712629035695\n[-235.93684518 -241.10030752 -235.90679534 -240.59141611 -235.46836585\n -224.39980434 -238.07015751 -243.88165124 -234.17260071 -247.24187672] \n\n9-  mean :  -270.3038171483539 std : 4.542262654954264\n[-267.91902214 -269.28369742 -267.82179663 -277.6282436  -263.56347631\n -264.70885453 -271.28521795 -276.75002356 -269.34519801 -274.73264133] \n\n"
    }
   ],
   "source": [
    "for i in range(0,10):\n",
    "    print(str(i)+\"- \",\"mean : \",result[i].mean(),\"std :\",result[i].std())\n",
    "    print(result[i],\"\\n\")\n",
    ""
   ]
  },
  {
   "cell_type": "markdown",
   "metadata": {},
   "source": [
    "How is the performance different for different models? Answer below."
   ]
  },
  {
   "cell_type": "markdown",
   "metadata": {},
   "source": [
    "some models have a higher mean squared values but a lesser standard deviation, it depend of the value of the max depth and max features if there is 1 max feature and an average max depth the better the model is "
   ]
  },
  {
   "cell_type": "markdown",
   "metadata": {},
   "source": [
    "### 4. Evaluate the models on the test set"
   ]
  },
  {
   "cell_type": "markdown",
   "metadata": {},
   "source": [
    "Until now you have only investigated the performance (in terms of mean squared error) of the models on the train set. However, in practice we are interested to know how well a model generalizes on unseen data.\n",
    "\n",
    "Evaluate each of the above models on the test set. Record below the following: \n",
    "* model name & parameters\n",
    "* model score on the train set\n",
    "* model score on the test set\n",
    "\n",
    "Rememeber: you had to apply the exact same pre-processing steps for the train and test set: you did this in Section `Make a processing pipeline using only numerical data` and saved the results in `X_trainT` and `X_testT`."
   ]
  },
  {
   "cell_type": "code",
   "execution_count": 48,
   "metadata": {},
   "outputs": [
    {
     "output_type": "stream",
     "name": "stdout",
     "text": "Linear regression : \n {'copy_X': True, 'fit_intercept': True, 'n_jobs': None, 'normalize': False} \n\ntrain set : mean -283.1285240835443 std :  5.159790415352624 \n [-280.72074649 -279.307987   -280.35557988 -290.62084636 -278.22450599\n -275.9426281  -285.04108392 -289.78328884 -280.86265765 -290.42591661] \n\ntest set : mean -286.03688487239594 std :  5.052121870960434 \n [-282.3813166  -279.49150511 -290.10165597 -293.04972092 -291.14744971\n -289.9698222  -277.36611431 -288.88919232 -284.07601426 -283.89605733] \n\n###############################################################################\n\nDecision tree : \n {'ccp_alpha': 0.0, 'criterion': 'mse', 'max_depth': None, 'max_features': None, 'max_leaf_nodes': None, 'min_impurity_decrease': 0.0, 'min_impurity_split': None, 'min_samples_leaf': 1, 'min_samples_split': 2, 'min_weight_fraction_leaf': 0.0, 'presort': 'deprecated', 'random_state': 43, 'splitter': 'best'} \n\ntrain set : mean -161.28730360934182 std :  10.625334223943456 \n [-153.22972399 -169.94140127 -156.78216561 -147.72951168 -146.4985138\n -175.46666667 -155.85392781 -159.26624204 -172.35201699 -175.75286624] \n\ntest set : mean -233.6829299363057 std :  23.958664902360614 \n [-254.13375796 -231.88789809 -199.05095541 -280.11847134 -231.41019108\n -256.37452229 -227.78216561 -217.80382166 -199.99363057 -238.27388535] \n\n"
    }
   ],
   "source": [
    "print(\"Linear regression : \\n\",lin_reg.get_params(),'\\n')\n",
    "\n",
    "res = cross_val_score(lin_reg,X_trainT,y_train,scoring=\"neg_mean_squared_error\",cv=10)\n",
    "print(\"train set : mean\",res.mean(),'std : ',res.std(),\"\\n\",res,'\\n')\n",
    "\n",
    "res = cross_val_score(lin_reg,X_testT,y_test,scoring=\"neg_mean_squared_error\",cv=10)\n",
    "print(\"test set : mean\",res.mean(),'std : ',res.std(),\"\\n\",res,'\\n')\n",
    "\n",
    "print(\"###############################################################################\\n\")\n",
    "\n",
    "print(\"Decision tree : \\n\",tree_reg.get_params(),'\\n')\n",
    "\n",
    "res = cross_val_score(tree_reg,X_trainT,y_train,scoring=\"neg_mean_squared_error\",cv=10)\n",
    "print(\"train set : mean\",res.mean(),'std : ',res.std(),\"\\n\",res,'\\n')\n",
    "\n",
    "res = cross_val_score(tree_reg,X_testT,y_test,scoring=\"neg_mean_squared_error\",cv=10)\n",
    "print(\"test set : mean\",res.mean(),'std : ',res.std(),\"\\n\",res,'\\n')\n",
    "\n",
    ""
   ]
  },
  {
   "cell_type": "markdown",
   "metadata": {},
   "source": [
    "on unseen data the models are as expected less efficient, the mean and the standard deviation are higher than the test set "
   ]
  },
  {
   "cell_type": "markdown",
   "metadata": {},
   "source": [
    "How do the models compare to each other? Can you observe any overfitting? For which model? Answer below."
   ]
  },
  {
   "cell_type": "markdown",
   "metadata": {},
   "source": [
    "on the decision tree model on the train set, the model is too efficient compare to unseen datas so i bet this model is overfitting with the train set "
   ]
  },
  {
   "cell_type": "markdown",
   "metadata": {},
   "source": [
    "### 5. Grid search for the best parameters\n",
    "\n",
    "Previously, you tried several models with different values for different hyper-parameters, by choosing these values manually and evaluating each model individually. However, doing so exhaustically is impossible in practice in a given limited amount of time. \n",
    "\n",
    "In the following you will see how you can speed up the process and use a grid search over a set of parameters to find the best ones that fit the train data.\n",
    "\n",
    "For this, read the documentation for the `GridSearchCV` function in scikit learn. Make the necessary import below."
   ]
  },
  {
   "cell_type": "code",
   "execution_count": 49,
   "metadata": {},
   "outputs": [],
   "source": [
    "from sklearn.model_selection import GridSearchCV"
   ]
  },
  {
   "cell_type": "markdown",
   "metadata": {},
   "source": [
    "Read from scikit learn the documentation page `3.2. Tuning the hyper-parameters of an estimator` to understand the usage of `GridSearchCV`.\n",
    "\n",
    "Apply a grid search strategy with 10-fold cross validation to select the best parameters for fitting the train set using a `DecisionTreeRegressor`. Use the `r2` scoring function. Make sure your grid search is done over at least 200 models (it will take a bit of time, it's normal). HINT: you can use ranges of values for setting certain hyper-parameters, instead of defining them manually.\n"
   ]
  },
  {
   "cell_type": "code",
   "execution_count": 50,
   "metadata": {},
   "outputs": [
    {
     "output_type": "execute_result",
     "data": {
      "text/plain": "GridSearchCV(cv=None, error_score=nan,\n             estimator=DecisionTreeRegressor(ccp_alpha=0.0, criterion='mse',\n                                             max_depth=None, max_features=None,\n                                             max_leaf_nodes=None,\n                                             min_impurity_decrease=0.0,\n                                             min_impurity_split=None,\n                                             min_samples_leaf=1,\n                                             min_samples_split=2,\n                                             min_weight_fraction_leaf=0.0,\n                                             presort='deprecated',\n                                             random_state=43, splitter='best'),\n             iid='deprecated', n_jobs=None,\n             param_grid={'max_depth': [5, 6, 7, 8, 9, 10, 11, 12, 13, 14, 15,\n                                       16, 17, 18, 19, 20, 21, 22, 23, 24, 25,\n                                       26, 27, 28, 29, 30, 31, 32, 33, 34, ...],\n                         'max_features': [1, 2],\n                         'min_impurity_decrease': [0, 1, 2, 3, 4, 5]},\n             pre_dispatch='2*n_jobs', refit=True, return_train_score=False,\n             scoring='r2', verbose=0)"
     },
     "metadata": {},
     "execution_count": 50
    }
   ],
   "source": [
    "params = {\"max_depth\":list(range(5,51)),\"max_features\":list(range(1,3)),\"min_impurity_decrease\":list(range(0,6))}\n",
    "grid_train = GridSearchCV(tree_reg,params,scoring=\"r2\")\n",
    "grid_train.fit(X_trainT,y_train)"
   ]
  },
  {
   "cell_type": "markdown",
   "metadata": {},
   "source": [
    "Evaluate the obtained model on both the train set and the test set. NOTE: do not forget to use the transformed version of these sets obtained after having applied the processing pipeline."
   ]
  },
  {
   "cell_type": "code",
   "execution_count": 51,
   "metadata": {},
   "outputs": [
    {
     "output_type": "execute_result",
     "data": {
      "text/plain": "GridSearchCV(cv=None, error_score=nan,\n             estimator=DecisionTreeRegressor(ccp_alpha=0.0, criterion='mse',\n                                             max_depth=None, max_features=None,\n                                             max_leaf_nodes=None,\n                                             min_impurity_decrease=0.0,\n                                             min_impurity_split=None,\n                                             min_samples_leaf=1,\n                                             min_samples_split=2,\n                                             min_weight_fraction_leaf=0.0,\n                                             presort='deprecated',\n                                             random_state=43, splitter='best'),\n             iid='deprecated', n_jobs=None,\n             param_grid={'max_depth': [5, 6, 7, 8, 9, 10, 11, 12, 13, 14, 15,\n                                       16, 17, 18, 19, 20, 21, 22, 23, 24, 25,\n                                       26, 27, 28, 29, 30, 31, 32, 33, 34, ...],\n                         'max_features': [1, 2],\n                         'min_impurity_decrease': [0, 1, 2, 3, 4, 5]},\n             pre_dispatch='2*n_jobs', refit=True, return_train_score=False,\n             scoring='r2', verbose=0)"
     },
     "metadata": {},
     "execution_count": 51
    }
   ],
   "source": [
    "grid_test=GridSearchCV(tree_reg,params,scoring=\"r2\")\n",
    "grid_test.fit(X_testT,y_test)"
   ]
  },
  {
   "cell_type": "markdown",
   "metadata": {},
   "source": [
    "How is the performance of the new model compared to all previous performances? Answer below."
   ]
  },
  {
   "cell_type": "code",
   "execution_count": 52,
   "metadata": {},
   "outputs": [
    {
     "output_type": "stream",
     "name": "stdout",
     "text": "train set : {'max_depth': 15, 'max_features': 2, 'min_impurity_decrease': 0}\ntest set : {'max_depth': 10, 'max_features': 2, 'min_impurity_decrease': 0}\n"
    }
   ],
   "source": [
    "print(\"train set :\",grid_train.best_params_)\n",
    "print(\"test set :\",grid_test.best_params_)"
   ]
  },
  {
   "cell_type": "code",
   "execution_count": 53,
   "metadata": {},
   "outputs": [
    {
     "output_type": "stream",
     "name": "stdout",
     "text": "train_set :  52.37516103251178\ntest set 128.05449551017014\n"
    }
   ],
   "source": [
    "tree_reg_train = DecisionTreeRegressor(random_state=43, max_depth = 15, max_features= 2, min_impurity_decrease=  0)\n",
    "tree_reg_train.fit(X_trainT,y_train)\n",
    "y_pred_train = tree_reg_train.predict(X_trainT)\n",
    "print(\"train_set : \",mean_squared_error(y_train,y_pred_train))\n",
    "\n",
    "tree_reg_test = DecisionTreeRegressor(random_state=43,max_depth= 10, max_features = 2, min_impurity_decrease = 0)\n",
    "tree_reg_test.fit(X_testT,y_test)\n",
    "y_pred_test = tree_reg_test.predict(X_testT)\n",
    "print(\"test set\",mean_squared_error(y_test,y_pred_test))"
   ]
  },
  {
   "cell_type": "markdown",
   "metadata": {},
   "source": [
    "the GridSearchCV allows us to find the best estimator for our set of datas "
   ]
  },
  {
   "cell_type": "markdown",
   "metadata": {},
   "source": [
    "Write code to print the best values for each the parameters on which you did the grid search."
   ]
  },
  {
   "cell_type": "code",
   "execution_count": 54,
   "metadata": {},
   "outputs": [
    {
     "output_type": "stream",
     "name": "stdout",
     "text": "train set : {'max_depth': 15, 'max_features': 2, 'min_impurity_decrease': 0}\ntest set : {'max_depth': 10, 'max_features': 2, 'min_impurity_decrease': 0}\n"
    }
   ],
   "source": [
    "print(\"train set :\",grid_train.best_params_)\n",
    "print(\"test set :\",grid_test.best_params_)"
   ]
  },
  {
   "cell_type": "markdown",
   "metadata": {},
   "source": [
    "### Congratulations! You are now able to run a full machine learning pipeline from data preprocessing to model building and evaluation. Now it is time to repeat the process with different / more features."
   ]
  },
  {
   "cell_type": "markdown",
   "metadata": {},
   "source": [
    "## Next steps\n",
    "\n",
    "1. Repeat the above process to create a pipeline only for categorical variables.\n",
    "2. Build models with the resulting transformed data.\n",
    "3. Compare the performance of the new models to the previous ones built on top of only numerical variables.\n",
    "\n",
    "4. Is it worth combining both catagorical and numerical variables? If so, try to combine both pipelines, build new models and compare the performance to the previous models.\n",
    "\n",
    "For each of the above points:\n",
    "* write the code needed to solve the task;\n",
    "* run the code and print the results;\n",
    "* write an explanation of what you did in a markdown cell below the code.\n",
    "\n",
    "Add as many cells below as necessary to solve all the required points."
   ]
  },
  {
   "cell_type": "markdown",
   "metadata": {},
   "source": [
    "i begin by check where are the missing values and what are interresting columns "
   ]
  },
  {
   "cell_type": "code",
   "execution_count": 55,
   "metadata": {},
   "outputs": [
    {
     "output_type": "execute_result",
     "data": {
      "text/plain": "ELEM_POINT_ID               0\nCODE                        0\nSOUS_CATEGORIE              0\nSOUS_CATEGORIE_DESC         0\nCODE_PARENT                 0\nCODE_PARENT_DESC            0\nADR_SECTEUR                 0\nGENRE_BOTA                 29\nESPECE                   1294\nVARIETE                 20408\nSTADEDEDEVELOPPEMENT     1304\nCOLLECTIVITE                0\ntype                        0\nlongitude                   0\nlatitude                    0\ndtype: int64"
     },
     "metadata": {},
     "execution_count": 55
    }
   ],
   "source": [
    "x_train.isna().sum()"
   ]
  },
  {
   "cell_type": "markdown",
   "metadata": {},
   "source": [
    "now i choose : \"**GENRE_BOTA**\",\"**STADEDEDEVELOPPEMENT**\" and \"**ESPECE**\" attributes because they're more explicit in my opinion.\n",
    "\n",
    "i create a pipeline with a transformer \"**OneHotENcoder**\" set to *ignore unknown* for lisibility and i create two variables *X_trainC* and *X_testC* with this pipeline for the next steps"
   ]
  },
  {
   "cell_type": "code",
   "execution_count": 56,
   "metadata": {},
   "outputs": [],
   "source": [
    "cat_attributes = [\"GENRE_BOTA\",\"STADEDEDEVELOPPEMENT\",\"ESPECE\"]\n",
    "cat_pipeline = Pipeline([('DFS',DataFrameSelector(cat_attributes)),(\"SS\",SimpleImputer(strategy='constant')),(\"OHE\",OneHotEncoder(handle_unknown='ignore'))])\n",
    "X_trainC = cat_pipeline.fit_transform(x_train,y_train)\n",
    "X_testC = cat_pipeline.transform(x_test)"
   ]
  },
  {
   "cell_type": "markdown",
   "metadata": {},
   "source": [
    "i declare two encoder: **LinearRegression** and **DecisionTreeRegression**"
   ]
  },
  {
   "cell_type": "code",
   "execution_count": 57,
   "metadata": {},
   "outputs": [],
   "source": [
    "lin_reg_mod = LinearRegression().fit(X_trainC,y_train)\n",
    "dec_tree_mod = DecisionTreeRegressor(min_impurity_decrease=2).fit(X_trainC,y_train)"
   ]
  },
  {
   "cell_type": "markdown",
   "metadata": {},
   "source": [
    "the following evaluate the performances of the linear model "
   ]
  },
  {
   "cell_type": "code",
   "execution_count": 58,
   "metadata": {},
   "outputs": [
    {
     "output_type": "stream",
     "name": "stdout",
     "text": "train set : mean -134.71660741865358 std : 3.3604736803765354\ntest set : mean -138.15478404085007 std : 6.785299568571147\n"
    }
   ],
   "source": [
    "res = cross_val_score(lin_reg,X_trainC,y_train,scoring=\"neg_mean_squared_error\",cv=10)\n",
    "\n",
    "print(\"train set : mean\",res.mean(),\"std :\",res.std())\n",
    "\n",
    "res = cross_val_score(lin_reg,X_testC,y_test,scoring=\"neg_mean_squared_error\",cv=10)\n",
    "\n",
    "print(\"test set : mean\",res.mean(),\"std :\",res.std())"
   ]
  },
  {
   "cell_type": "markdown",
   "metadata": {},
   "source": [
    "now i use the grid search tool to find the bests params of the Decision tree model"
   ]
  },
  {
   "cell_type": "code",
   "execution_count": 59,
   "metadata": {},
   "outputs": [],
   "source": [
    "params = {\"random_state\":list(range(10,500)),\"max_depth\":list(range(5,101))}\n",
    "grid_trainC = GridSearchCV(dec_tree_mod,params,scoring=\"neg_mean_squared_error\").fit(X_trainC,y_train)\n",
    "grid_testC = GridSearchCV(dec_tree_mod,params,scoring=\"neg_mean_squared_error\").fit(X_testC,y_test)"
   ]
  },
  {
   "cell_type": "code",
   "execution_count": 60,
   "metadata": {},
   "outputs": [
    {
     "output_type": "stream",
     "name": "stdout",
     "text": "-171.9045036664717\n-169.79091391181998\n"
    }
   ],
   "source": [
    "print(grid_trainC.best_score_)\n",
    "print(grid_testC.best_score_)"
   ]
  },
  {
   "cell_type": "markdown",
   "metadata": {},
   "source": [
    "it seams here with this attributes that the linear model is a better estimator than the decision tree model but anyway estimate better than the previous attributes"
   ]
  },
  {
   "cell_type": "markdown",
   "metadata": {},
   "source": [
    "Now i do the exact same things with a pipeline of both attributes numerical and categorical"
   ]
  },
  {
   "cell_type": "code",
   "execution_count": 61,
   "metadata": {},
   "outputs": [],
   "source": [
    "from sklearn.compose import ColumnTransformer"
   ]
  },
  {
   "cell_type": "markdown",
   "metadata": {},
   "source": [
    "i use a column transformer for compose with the two pipelines "
   ]
  },
  {
   "cell_type": "code",
   "execution_count": 62,
   "metadata": {},
   "outputs": [],
   "source": [
    "preprocessor = ColumnTransformer([(\"num\",num_pipeline,num_attribs),\n",
    "                                   (\"cat\",cat_pipeline,cat_attributes)])\n",
    "\n",
    "X_trainB = preprocessor.fit_transform(x_train,y_train)\n",
    "X_testB = preprocessor.transform(x_test)"
   ]
  },
  {
   "cell_type": "markdown",
   "metadata": {},
   "source": [
    "i create the same model fitted with the new variables"
   ]
  },
  {
   "cell_type": "code",
   "execution_count": 63,
   "metadata": {},
   "outputs": [],
   "source": [
    "lin_reg_modB = LinearRegression().fit(X_trainB,y_train)\n",
    "dec_tree_modB = DecisionTreeRegressor()"
   ]
  },
  {
   "cell_type": "code",
   "execution_count": null,
   "metadata": {},
   "outputs": [],
   "source": [
    "grid_trainB = GridSearchCV(dec_tree_modB,params,scoring=\"neg_mean_squared_error\").fit(X_trainB,y_train)\n",
    "grid_testB = GridSearchCV(dec_tree_modB,params,scoring=\"neg_mean_squared_error\").fit(X_testB,y_test)"
   ]
  },
  {
   "cell_type": "code",
   "execution_count": null,
   "metadata": {},
   "outputs": [],
   "source": [
    "print(grid_trainB.best_score_)\n",
    "print(grid_testB.best_score_)"
   ]
  }
 ],
 "metadata": {
  "kernelspec": {
   "display_name": "Python 3",
   "language": "python",
   "name": "python3"
  },
  "language_info": {
   "codemirror_mode": {
    "name": "ipython",
    "version": 3
   },
   "file_extension": ".py",
   "mimetype": "text/x-python",
   "name": "python",
   "nbconvert_exporter": "python",
   "pygments_lexer": "ipython3",
   "version": "3.7.6-final"
  }
 },
 "nbformat": 4,
 "nbformat_minor": 4
}