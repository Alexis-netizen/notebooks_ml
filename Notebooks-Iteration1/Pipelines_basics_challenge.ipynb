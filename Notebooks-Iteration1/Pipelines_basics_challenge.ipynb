{
 "cells": [
  {
   "cell_type": "markdown",
   "metadata": {},
   "source": [
    "# Learn and practice Pipelines notebook!\n",
    "\n",
    "\n",
    "Objective \n",
    "* break down Transformers and Pipelines so that they can be understood better.\n",
    "\n",
    "Definitions:\n",
    "\n",
    "\n",
    "A sklearn Transformer is usually used to pass data from one stage to another (but they can actually be used to pass anything). Examples include:\n",
    "* OneHotEncoder\n",
    "* StandardScaler\n",
    "* ....etc\n",
    "\n",
    "A sklearn `Pipeline` is used to chain multiple transformers together.\n",
    "\n",
    "Pipeline is also a generic term used to describe the process of moving data from one form/state to another."
   ]
  },
  {
   "cell_type": "markdown",
   "metadata": {},
   "source": [
    "##### To begin\n",
    "Inspect the scikit learn documentation corresponding to the following: `SimpleImputer`,  `Pipeline`, `StandardScaler`, `OneHotEncoder`. For each of these read its purpose and an example of use. \n",
    "\n",
    "Add the necessary import statements to use them."
   ]
  },
  {
   "cell_type": "code",
   "execution_count": 48,
   "metadata": {},
   "outputs": [],
   "source": [
    "# code here\n",
    "from sklearn.impute import SimpleImputer\n",
    "from sklearn.pipeline import Pipeline\n",
    "from sklearn.preprocessing import StandardScaler\n",
    "from sklearn.preprocessing import OneHotEncoder\n",
    ""
   ]
  },
  {
   "cell_type": "code",
   "execution_count": 49,
   "metadata": {},
   "outputs": [],
   "source": [
    "import pandas as pd\n",
    "import numpy as np"
   ]
  },
  {
   "cell_type": "markdown",
   "metadata": {},
   "source": [
    "# Transformers"
   ]
  },
  {
   "cell_type": "markdown",
   "metadata": {},
   "source": [
    "## Numeric transformers"
   ]
  },
  {
   "cell_type": "markdown",
   "metadata": {},
   "source": [
    "### Inputer"
   ]
  },
  {
   "cell_type": "code",
   "execution_count": 50,
   "metadata": {},
   "outputs": [
    {
     "output_type": "execute_result",
     "data": {
      "text/plain": "   scores\n0     5.0\n1     5.0\n2     7.0\n3     1.0\n4     8.0\n5     NaN",
      "text/html": "<div>\n<style scoped>\n    .dataframe tbody tr th:only-of-type {\n        vertical-align: middle;\n    }\n\n    .dataframe tbody tr th {\n        vertical-align: top;\n    }\n\n    .dataframe thead th {\n        text-align: right;\n    }\n</style>\n<table border=\"1\" class=\"dataframe\">\n  <thead>\n    <tr style=\"text-align: right;\">\n      <th></th>\n      <th>scores</th>\n    </tr>\n  </thead>\n  <tbody>\n    <tr>\n      <th>0</th>\n      <td>5.0</td>\n    </tr>\n    <tr>\n      <th>1</th>\n      <td>5.0</td>\n    </tr>\n    <tr>\n      <th>2</th>\n      <td>7.0</td>\n    </tr>\n    <tr>\n      <th>3</th>\n      <td>1.0</td>\n    </tr>\n    <tr>\n      <th>4</th>\n      <td>8.0</td>\n    </tr>\n    <tr>\n      <th>5</th>\n      <td>NaN</td>\n    </tr>\n  </tbody>\n</table>\n</div>"
     },
     "metadata": {},
     "execution_count": 50
    }
   ],
   "source": [
    "num_data1 = {'scores':[5,5,7,1,8,np.nan]}\n",
    "df_num1 = pd.DataFrame(num_data1)\n",
    "df_num1"
   ]
  },
  {
   "cell_type": "markdown",
   "metadata": {},
   "source": [
    "Instatiate a variable `imputer` to a `SimpleImputer` with `median` value as strategy. Run `.fit_transform()` on the numeric dataframe above and save the result in the `imputed_data` variable."
   ]
  },
  {
   "cell_type": "code",
   "execution_count": 51,
   "metadata": {},
   "outputs": [
    {
     "output_type": "execute_result",
     "data": {
      "text/plain": "array([[5.],\n       [5.],\n       [7.],\n       [1.],\n       [8.],\n       [5.]])"
     },
     "metadata": {},
     "execution_count": 51
    }
   ],
   "source": [
    "# code here\n",
    "imputer = SimpleImputer(strategy=\"median\")\n",
    "\n",
    "imputed_data = imputer.fit_transform(df_num1)\n",
    "\n",
    "imputed_data"
   ]
  },
  {
   "cell_type": "markdown",
   "metadata": {},
   "source": [
    "Check the changes for the object passed as input to the imputer (`df_num1`).\n",
    "\n",
    "\n",
    "It is not longer a dataframe. What type is it? What values are changed? Answer below."
   ]
  },
  {
   "cell_type": "markdown",
   "metadata": {},
   "source": [
    "this is now an array with missing values passed to the median of the series"
   ]
  },
  {
   "cell_type": "markdown",
   "metadata": {},
   "source": [
    "Try changing the `stratergy` input.\n",
    "\n",
    "Observe the difference in results and write them down in the cell below."
   ]
  },
  {
   "cell_type": "code",
   "execution_count": 52,
   "metadata": {},
   "outputs": [
    {
     "output_type": "execute_result",
     "data": {
      "text/plain": "array([[5. ],\n       [5. ],\n       [7. ],\n       [1. ],\n       [8. ],\n       [5.2]])"
     },
     "metadata": {},
     "execution_count": 52
    }
   ],
   "source": [
    "# code here\n",
    "imputer2 = SimpleImputer(strategy=\"mean\")\n",
    "imputed_data2 = imputer2.fit_transform(df_num1)\n",
    "\n",
    "imputed_data2"
   ]
  },
  {
   "cell_type": "markdown",
   "metadata": {},
   "source": [
    "the missing value is now passes at the mean value of the array"
   ]
  },
  {
   "cell_type": "markdown",
   "metadata": {},
   "source": [
    "### Scaler"
   ]
  },
  {
   "cell_type": "code",
   "execution_count": 53,
   "metadata": {},
   "outputs": [
    {
     "output_type": "execute_result",
     "data": {
      "text/plain": "   scores\n0       1\n1       2\n2       3\n3       1\n4       2\n5       3",
      "text/html": "<div>\n<style scoped>\n    .dataframe tbody tr th:only-of-type {\n        vertical-align: middle;\n    }\n\n    .dataframe tbody tr th {\n        vertical-align: top;\n    }\n\n    .dataframe thead th {\n        text-align: right;\n    }\n</style>\n<table border=\"1\" class=\"dataframe\">\n  <thead>\n    <tr style=\"text-align: right;\">\n      <th></th>\n      <th>scores</th>\n    </tr>\n  </thead>\n  <tbody>\n    <tr>\n      <th>0</th>\n      <td>1</td>\n    </tr>\n    <tr>\n      <th>1</th>\n      <td>2</td>\n    </tr>\n    <tr>\n      <th>2</th>\n      <td>3</td>\n    </tr>\n    <tr>\n      <th>3</th>\n      <td>1</td>\n    </tr>\n    <tr>\n      <th>4</th>\n      <td>2</td>\n    </tr>\n    <tr>\n      <th>5</th>\n      <td>3</td>\n    </tr>\n  </tbody>\n</table>\n</div>"
     },
     "metadata": {},
     "execution_count": 53
    }
   ],
   "source": [
    "num_data2 = {'scores':[1,2,3,1,2,3]}\n",
    "df_num2 = pd.DataFrame(num_data2)\n",
    "df_num2"
   ]
  },
  {
   "cell_type": "markdown",
   "metadata": {},
   "source": [
    "Instatiate a variable `scaler`to a `StandardScaler`. Run `fit_transform()` and save the result in a new variable `scaled_data`. Inspect the output and write down your observations below."
   ]
  },
  {
   "cell_type": "code",
   "execution_count": 54,
   "metadata": {},
   "outputs": [
    {
     "output_type": "execute_result",
     "data": {
      "text/plain": "array([[-1.22474487],\n       [ 0.        ],\n       [ 1.22474487],\n       [-1.22474487],\n       [ 0.        ],\n       [ 1.22474487]])"
     },
     "metadata": {},
     "execution_count": 54
    }
   ],
   "source": [
    "# code here\n",
    "scaler = StandardScaler()\n",
    "\n",
    "scaled_data = scaler.fit_transform(df_num2)\n",
    "\n",
    "scaled_data"
   ]
  },
  {
   "cell_type": "markdown",
   "metadata": {},
   "source": [
    "the values of the array are scaled to a z-score transformer "
   ]
  },
  {
   "cell_type": "markdown",
   "metadata": {},
   "source": [
    "Calulate the mean and standard deviation of your data and save them in two variables. Print the content of these variables."
   ]
  },
  {
   "cell_type": "code",
   "execution_count": 55,
   "metadata": {},
   "outputs": [
    {
     "output_type": "stream",
     "name": "stdout",
     "text": "std =  0.8944271909999159 mean =  2.0\n"
    }
   ],
   "source": [
    "# code here\n",
    "std = df_num2.scores.std()\n",
    "mean = df_num2.scores.mean()\n",
    "\n",
    "print(\"std = \",std,\"mean = \",mean)"
   ]
  },
  {
   "cell_type": "markdown",
   "metadata": {},
   "source": [
    "Compute the values obtained if you substract from each element in `df_num2` the mean and then divide by the standard deviation.\n",
    "`(value - mean)/std`. Save the results in an array."
   ]
  },
  {
   "cell_type": "code",
   "execution_count": 56,
   "metadata": {},
   "outputs": [
    {
     "output_type": "execute_result",
     "data": {
      "text/plain": "0   -1.118034\n1    0.000000\n2    1.118034\n3   -1.118034\n4    0.000000\n5    1.118034\nName: scores, dtype: float64"
     },
     "metadata": {},
     "execution_count": 56
    }
   ],
   "source": [
    "def std_transform(x):\n",
    "    return (x-mean)/std\n",
    "\n",
    "result = df_num2.scores.apply(std_transform)\n",
    "\n",
    "result"
   ]
  },
  {
   "cell_type": "markdown",
   "metadata": {},
   "source": [
    "How do the results compare to the values in `scaled_data`? Why are they different?"
   ]
  },
  {
   "cell_type": "markdown",
   "metadata": {},
   "source": [
    "the standard scaler take a biased estimator equal to np.std(x,ddof=0) "
   ]
  },
  {
   "cell_type": "markdown",
   "metadata": {},
   "source": [
    "Make the necessary modifications to obtain the same results as in `scaled_data`. Hint: Inspect the default parameter values for the functions called."
   ]
  },
  {
   "cell_type": "code",
   "execution_count": 57,
   "metadata": {},
   "outputs": [
    {
     "output_type": "execute_result",
     "data": {
      "text/plain": "0   -1.224745\n1    0.000000\n2    1.224745\n3   -1.224745\n4    0.000000\n5    1.224745\nName: scores, dtype: float64"
     },
     "metadata": {},
     "execution_count": 57
    }
   ],
   "source": [
    "# code here\n",
    "std = np.std(df_num2.scores)\n",
    "result2 = df_num2.scores.apply(std_transform)\n",
    "result2"
   ]
  },
  {
   "cell_type": "markdown",
   "metadata": {},
   "source": [
    "## Non-numeric transformers"
   ]
  },
  {
   "cell_type": "code",
   "execution_count": 58,
   "metadata": {},
   "outputs": [
    {
     "output_type": "execute_result",
     "data": {
      "text/plain": "     names\n0   Sophie\n1  Michael\n2     Eric\n3     Eric\n4    Sopie\n5   Xavier",
      "text/html": "<div>\n<style scoped>\n    .dataframe tbody tr th:only-of-type {\n        vertical-align: middle;\n    }\n\n    .dataframe tbody tr th {\n        vertical-align: top;\n    }\n\n    .dataframe thead th {\n        text-align: right;\n    }\n</style>\n<table border=\"1\" class=\"dataframe\">\n  <thead>\n    <tr style=\"text-align: right;\">\n      <th></th>\n      <th>names</th>\n    </tr>\n  </thead>\n  <tbody>\n    <tr>\n      <th>0</th>\n      <td>Sophie</td>\n    </tr>\n    <tr>\n      <th>1</th>\n      <td>Michael</td>\n    </tr>\n    <tr>\n      <th>2</th>\n      <td>Eric</td>\n    </tr>\n    <tr>\n      <th>3</th>\n      <td>Eric</td>\n    </tr>\n    <tr>\n      <th>4</th>\n      <td>Sopie</td>\n    </tr>\n    <tr>\n      <th>5</th>\n      <td>Xavier</td>\n    </tr>\n  </tbody>\n</table>\n</div>"
     },
     "metadata": {},
     "execution_count": 58
    }
   ],
   "source": [
    "cat_data1 = {'names':['Sophie','Michael','Eric','Eric','Sopie', 'Xavier']} \n",
    "df_cat = pd.DataFrame(cat_data1)\n",
    "df_cat"
   ]
  },
  {
   "cell_type": "markdown",
   "metadata": {},
   "source": [
    "Look up the documentation for `OrdinalEncoder`, add the necessary import statement, and initialize a variable `ord_encoder` to a `OrdinalEncoder`. Use `fit_transform()` and save the result in a variable `ord_encoded_data`. Print the content of the variable."
   ]
  },
  {
   "cell_type": "code",
   "execution_count": 59,
   "metadata": {},
   "outputs": [],
   "source": [
    "from sklearn.preprocessing import OrdinalEncoder"
   ]
  },
  {
   "cell_type": "code",
   "execution_count": 60,
   "metadata": {},
   "outputs": [
    {
     "output_type": "execute_result",
     "data": {
      "text/plain": "array([[2.],\n       [1.],\n       [0.],\n       [0.],\n       [3.],\n       [4.]])"
     },
     "metadata": {},
     "execution_count": 60
    }
   ],
   "source": [
    "# code here\n",
    "ord_encoder = OrdinalEncoder()\n",
    "\n",
    "ord_encoded_data = ord_encoder.fit_transform(df_cat)\n",
    "\n",
    "ord_encoded_data"
   ]
  },
  {
   "cell_type": "markdown",
   "metadata": {},
   "source": [
    "Import `OneHotEncoder` and use `fit_transform()` on the same data,  (set `sparse = False` for readability). Save the result in a variable and print its content."
   ]
  },
  {
   "cell_type": "code",
   "execution_count": 61,
   "metadata": {},
   "outputs": [
    {
     "output_type": "execute_result",
     "data": {
      "text/plain": "array([[0., 0., 1., 0., 0.],\n       [0., 1., 0., 0., 0.],\n       [1., 0., 0., 0., 0.],\n       [1., 0., 0., 0., 0.],\n       [0., 0., 0., 1., 0.],\n       [0., 0., 0., 0., 1.]])"
     },
     "metadata": {},
     "execution_count": 61
    }
   ],
   "source": [
    "# code here\n",
    "enc = OneHotEncoder(sparse=False)\n",
    "\n",
    "encoded = enc.fit_transform(df_cat)\n",
    "\n",
    "encoded"
   ]
  },
  {
   "cell_type": "code",
   "execution_count": 62,
   "metadata": {},
   "outputs": [
    {
     "output_type": "execute_result",
     "data": {
      "text/plain": "[array(['Eric', 'Michael', 'Sophie', 'Sopie', 'Xavier'], dtype=object)]"
     },
     "metadata": {},
     "execution_count": 62
    }
   ],
   "source": [
    "enc.categories_"
   ]
  },
  {
   "cell_type": "markdown",
   "metadata": {},
   "source": [
    "What is this returning? How does it relate to the data saved in `ord_encoded_data`?\n",
    "\n",
    "HINT: look at the `.catagories_` attribute after you have used `fit_transform()`. Write your observations below."
   ]
  },
  {
   "cell_type": "markdown",
   "metadata": {},
   "source": [
    "* the ordinal encoder gives the ordinal position on the categories array and the one-hot encoder gives the position in the array by a one-hot array "
   ]
  },
  {
   "cell_type": "markdown",
   "metadata": {},
   "source": [
    "# Using on test set\n",
    "\n",
    "\n",
    "In general, the idea is to use the `fit_transform()` method on the train data, followed by the `transform()` method on the test data. This allows one to make sure exactly the same processing steps are applied on both data sets. \n",
    "\n",
    "\n",
    "#### Non-numerical data\n"
   ]
  },
  {
   "cell_type": "code",
   "execution_count": 63,
   "metadata": {},
   "outputs": [
    {
     "output_type": "execute_result",
     "data": {
      "text/plain": "OrdinalEncoder(categories='auto', dtype=<class 'numpy.float64'>)"
     },
     "metadata": {},
     "execution_count": 63
    }
   ],
   "source": [
    "#The encoder saved in `ord_encoder` has already been fit to the train data and so is ready to be used to transform the test data\n",
    "ord_encoder"
   ]
  },
  {
   "cell_type": "markdown",
   "metadata": {},
   "source": [
    "For example using our `ord_encoder` above, we can pass new data to the `transform()` function. Let there be a new dataframe `df_cat3` below."
   ]
  },
  {
   "cell_type": "code",
   "execution_count": 64,
   "metadata": {},
   "outputs": [
    {
     "output_type": "execute_result",
     "data": {
      "text/plain": "    names\n0  Xavier\n1  Xavier\n2    Eric",
      "text/html": "<div>\n<style scoped>\n    .dataframe tbody tr th:only-of-type {\n        vertical-align: middle;\n    }\n\n    .dataframe tbody tr th {\n        vertical-align: top;\n    }\n\n    .dataframe thead th {\n        text-align: right;\n    }\n</style>\n<table border=\"1\" class=\"dataframe\">\n  <thead>\n    <tr style=\"text-align: right;\">\n      <th></th>\n      <th>names</th>\n    </tr>\n  </thead>\n  <tbody>\n    <tr>\n      <th>0</th>\n      <td>Xavier</td>\n    </tr>\n    <tr>\n      <th>1</th>\n      <td>Xavier</td>\n    </tr>\n    <tr>\n      <th>2</th>\n      <td>Eric</td>\n    </tr>\n  </tbody>\n</table>\n</div>"
     },
     "metadata": {},
     "execution_count": 64
    }
   ],
   "source": [
    "cat_data3 = {'names':['Xavier','Xavier','Eric']} #'Antoine','Xavier',\n",
    "df_cat3 = pd.DataFrame(cat_data3)\n",
    "df_cat3"
   ]
  },
  {
   "cell_type": "markdown",
   "metadata": {},
   "source": [
    "Call `transform()` on using this new data set. What do you see has happened? Answer in the space below."
   ]
  },
  {
   "cell_type": "code",
   "execution_count": 65,
   "metadata": {},
   "outputs": [
    {
     "output_type": "execute_result",
     "data": {
      "text/plain": "array([[4.],\n       [4.],\n       [0.]])"
     },
     "metadata": {},
     "execution_count": 65
    }
   ],
   "source": [
    "ord_encoder.transform(df_cat3)"
   ]
  },
  {
   "cell_type": "markdown",
   "metadata": {},
   "source": [
    "the encoder transorm the new dataset to same methode with the train dataset"
   ]
  },
  {
   "cell_type": "markdown",
   "metadata": {},
   "source": [
    "Note that the above will throw an error if the new data has categories not present in the training data. What are possible solutions to avoid that? Answer below."
   ]
  },
  {
   "cell_type": "markdown",
   "metadata": {},
   "source": [
    "a possible solution is to define a new encoder with the new dataset"
   ]
  },
  {
   "cell_type": "markdown",
   "metadata": {},
   "source": [
    "#### Numerical data\n",
    "\n",
    "Let's take a look now at how to employ a similar process on new numerical data."
   ]
  },
  {
   "cell_type": "code",
   "execution_count": 66,
   "metadata": {},
   "outputs": [
    {
     "output_type": "execute_result",
     "data": {
      "text/plain": "   scores\n0       4\n1       8\n2      12",
      "text/html": "<div>\n<style scoped>\n    .dataframe tbody tr th:only-of-type {\n        vertical-align: middle;\n    }\n\n    .dataframe tbody tr th {\n        vertical-align: top;\n    }\n\n    .dataframe thead th {\n        text-align: right;\n    }\n</style>\n<table border=\"1\" class=\"dataframe\">\n  <thead>\n    <tr style=\"text-align: right;\">\n      <th></th>\n      <th>scores</th>\n    </tr>\n  </thead>\n  <tbody>\n    <tr>\n      <th>0</th>\n      <td>4</td>\n    </tr>\n    <tr>\n      <th>1</th>\n      <td>8</td>\n    </tr>\n    <tr>\n      <th>2</th>\n      <td>12</td>\n    </tr>\n  </tbody>\n</table>\n</div>"
     },
     "metadata": {},
     "execution_count": 66
    }
   ],
   "source": [
    "num_data3 = {'scores':[4,8,12]}\n",
    "df_num3 = pd.DataFrame(num_data3)\n",
    "df_num3"
   ]
  },
  {
   "cell_type": "markdown",
   "metadata": {},
   "source": [
    "Now use the previously fitted `StandardScaler` to `transform()` the new data in `df_num3`. Which are the observed effects? Answer in the space below."
   ]
  },
  {
   "cell_type": "code",
   "execution_count": 67,
   "metadata": {},
   "outputs": [
    {
     "output_type": "execute_result",
     "data": {
      "text/plain": "array([[ 2.44948974],\n       [ 7.34846923],\n       [12.24744871]])"
     },
     "metadata": {},
     "execution_count": 67
    }
   ],
   "source": [
    "# code here\n",
    "scaler.transform(df_num3)"
   ]
  },
  {
   "cell_type": "markdown",
   "metadata": {},
   "source": [
    "because the scaler is fit to a mean of 2 and a std~=1 values higher than 3 will be outliers of the model "
   ]
  },
  {
   "cell_type": "markdown",
   "metadata": {},
   "source": [
    "# Pipeline\n",
    "\n",
    "We can chain multiple commands together in a pipeline. The pipeline will run by preserving the order in which the commands are placed."
   ]
  },
  {
   "cell_type": "markdown",
   "metadata": {},
   "source": [
    "Make the necessary import from scikit learn to use `Pipeline`."
   ]
  },
  {
   "cell_type": "code",
   "execution_count": 68,
   "metadata": {},
   "outputs": [],
   "source": [
    "# code here"
   ]
  },
  {
   "cell_type": "markdown",
   "metadata": {},
   "source": [
    "#### Numerical data\n",
    "\n",
    "Define a `Pipeline` consisting of two operations: the application of a `SimpleImputer` and the application of a `StandardScaler`. Save the result in a variable `num_pipeline`. "
   ]
  },
  {
   "cell_type": "code",
   "execution_count": 69,
   "metadata": {},
   "outputs": [],
   "source": [
    "SI = SimpleImputer(strategy=\"mean\")\n",
    "SS = StandardScaler()\n",
    "num_pipeline = Pipeline([(\"SI\",SI),(\"SS\",SS)])"
   ]
  },
  {
   "cell_type": "markdown",
   "metadata": {},
   "source": [
    "Call `fit_transform()` on the `df_num1` data using the `num_pipeline` and look at the output. What do you observe? Answer below."
   ]
  },
  {
   "cell_type": "code",
   "execution_count": 70,
   "metadata": {},
   "outputs": [
    {
     "output_type": "execute_result",
     "data": {
      "text/plain": "array([[-0.09128709],\n       [-0.09128709],\n       [ 0.82158384],\n       [-1.91702895],\n       [ 1.2780193 ],\n       [ 0.        ]])"
     },
     "metadata": {},
     "execution_count": 70
    }
   ],
   "source": [
    "transformed = num_pipeline.fit_transform(df_num1)\n",
    "\n",
    "transformed"
   ]
  },
  {
   "cell_type": "markdown",
   "metadata": {},
   "source": [
    "the pipeline as applied the transformation of df_num1 with a simple imputer and a standard scaler"
   ]
  },
  {
   "cell_type": "markdown",
   "metadata": {},
   "source": [
    "Comment the whole part of the code containing the `StandardScaler`. What happens now? Answer below."
   ]
  },
  {
   "cell_type": "code",
   "execution_count": 71,
   "metadata": {},
   "outputs": [
    {
     "output_type": "execute_result",
     "data": {
      "text/plain": "array([[5. ],\n       [5. ],\n       [7. ],\n       [1. ],\n       [8. ],\n       [5.2]])"
     },
     "metadata": {},
     "execution_count": 71
    }
   ],
   "source": [
    "SI = SimpleImputer(strategy=\"mean\")\n",
    "num_pipeline = Pipeline([(\"SI\",SI)])\n",
    "transformed = num_pipeline.fit_transform(df_num1)\n",
    "\n",
    "transformed"
   ]
  },
  {
   "cell_type": "markdown",
   "metadata": {},
   "source": [
    "it just apply the simple imputer transformer"
   ]
  },
  {
   "cell_type": "markdown",
   "metadata": {},
   "source": [
    "What order is the code executing the transformers in? What happens if you try putting the transformers the other way around? Answer below."
   ]
  },
  {
   "cell_type": "code",
   "execution_count": 72,
   "metadata": {},
   "outputs": [
    {
     "output_type": "execute_result",
     "data": {
      "text/plain": "array([[-8.33333333e-02],\n       [-8.33333333e-02],\n       [ 7.50000000e-01],\n       [-1.75000000e+00],\n       [ 1.16666667e+00],\n       [-4.44089210e-17]])"
     },
     "metadata": {},
     "execution_count": 72
    }
   ],
   "source": [
    "SI = SimpleImputer(strategy=\"mean\")\n",
    "SS = StandardScaler()\n",
    "num_pipeline = Pipeline([(\"SS\",SS),(\"SI\",SI)])\n",
    "transformed = num_pipeline.fit_transform(df_num1)\n",
    "\n",
    "transformed"
   ]
  },
  {
   "cell_type": "markdown",
   "metadata": {},
   "source": [
    "the transformation will be done in the other way "
   ]
  },
  {
   "cell_type": "markdown",
   "metadata": {},
   "source": [
    "#### Non-numerical data\n",
    "\n",
    "Create a catagorical pipeline to process the `df_cat` dataframe. Use a `OrdinalEncoder` within this (yes you can make a pipeline with only one Transformer). "
   ]
  },
  {
   "cell_type": "code",
   "execution_count": 73,
   "metadata": {},
   "outputs": [
    {
     "output_type": "execute_result",
     "data": {
      "text/plain": "array([[2.],\n       [1.],\n       [0.],\n       [0.],\n       [3.],\n       [4.]])"
     },
     "metadata": {},
     "execution_count": 73
    }
   ],
   "source": [
    "ord_encoder = OrdinalEncoder()\n",
    "\n",
    "cat_pipeline = Pipeline([(\"simpleiputer\",SimpleImputer(strategy=\"constant\")),(\"OE\",ord_encoder)])\n",
    "\n",
    "res = cat_pipeline.fit_transform(df_cat)\n",
    "\n",
    "res"
   ]
  },
  {
   "cell_type": "markdown",
   "metadata": {},
   "source": [
    "# Combining Pipelines"
   ]
  },
  {
   "cell_type": "markdown",
   "metadata": {},
   "source": [
    "In the following we will see how we can combine multiple pipelines together. Let's take a new dataframe `df_data` containing both numerical and non-numerical data. "
   ]
  },
  {
   "cell_type": "code",
   "execution_count": 74,
   "metadata": {},
   "outputs": [
    {
     "output_type": "execute_result",
     "data": {
      "text/plain": "     names  scores\n0   Sophie     5.0\n1  Michael     5.0\n2     Eric     7.0\n3     Eric     1.0\n4    Sopie     8.0\n5   Xavier     NaN",
      "text/html": "<div>\n<style scoped>\n    .dataframe tbody tr th:only-of-type {\n        vertical-align: middle;\n    }\n\n    .dataframe tbody tr th {\n        vertical-align: top;\n    }\n\n    .dataframe thead th {\n        text-align: right;\n    }\n</style>\n<table border=\"1\" class=\"dataframe\">\n  <thead>\n    <tr style=\"text-align: right;\">\n      <th></th>\n      <th>names</th>\n      <th>scores</th>\n    </tr>\n  </thead>\n  <tbody>\n    <tr>\n      <th>0</th>\n      <td>Sophie</td>\n      <td>5.0</td>\n    </tr>\n    <tr>\n      <th>1</th>\n      <td>Michael</td>\n      <td>5.0</td>\n    </tr>\n    <tr>\n      <th>2</th>\n      <td>Eric</td>\n      <td>7.0</td>\n    </tr>\n    <tr>\n      <th>3</th>\n      <td>Eric</td>\n      <td>1.0</td>\n    </tr>\n    <tr>\n      <th>4</th>\n      <td>Sopie</td>\n      <td>8.0</td>\n    </tr>\n    <tr>\n      <th>5</th>\n      <td>Xavier</td>\n      <td>NaN</td>\n    </tr>\n  </tbody>\n</table>\n</div>"
     },
     "metadata": {},
     "execution_count": 74
    }
   ],
   "source": [
    "df_data = {\n",
    "    'names':['Sophie','Michael','Eric','Eric','Sopie', 'Xavier'],\n",
    "    'scores':[5,5,7,1,8,np.nan],\n",
    "            }\n",
    "\n",
    "df = pd.DataFrame(df_data)\n",
    "df"
   ]
  },
  {
   "cell_type": "markdown",
   "metadata": {},
   "source": [
    "As the dataframe above has both types of data: numerical and categorical, we must create seperate pipelines for processing the different types of data. We can then use a `ColumnTransfomer` to put them together. \n",
    "\n",
    "Make the necessary imports from scikit learn to be able to use `ColumnTransformer`. Read the corresponding documentation page to understand its purpose and the way to use it."
   ]
  },
  {
   "cell_type": "code",
   "execution_count": 75,
   "metadata": {},
   "outputs": [],
   "source": [
    "from sklearn.compose import ColumnTransformer\n",
    ""
   ]
  },
  {
   "cell_type": "code",
   "execution_count": 76,
   "metadata": {},
   "outputs": [
    {
     "output_type": "execute_result",
     "data": {
      "text/plain": "list"
     },
     "metadata": {},
     "execution_count": 76
    }
   ],
   "source": [
    "type(num_attribs)"
   ]
  },
  {
   "cell_type": "code",
   "execution_count": 77,
   "metadata": {},
   "outputs": [],
   "source": [
    "# num_attribs and cat_attribs should be each a list of strings, the strings being column names\n",
    "\n",
    "num_attribs = [\"scores\"] # put here the column names (from the dataframe above) corresponding to the numerical attributes you wish to include\n",
    "cat_attribs = [\"names\"] # put here the column names (from the dataframe above) corresponding to the categorical attributes you wish to include\n",
    "preprocessor = ColumnTransformer([(\"num\",num_pipeline,num_attribs),\n",
    "                                   (\"cat\",cat_pipeline,cat_attribs)])\n",
    "# make the full pipeline\n",
    "full_pipeline = Pipeline([(\"preprocessor\",preprocessor)])\n",
    ""
   ]
  },
  {
   "cell_type": "markdown",
   "metadata": {},
   "source": [
    "You can call `fit_transform()` on the dataframe `df` using the `full_pipeline` you have created. The `ColumnTransformer` runs the `num_pipeline` on each of the columns contained in `num_attribs`. Then it runs the `cat_pipeline` on the columns contained in `cat_attributes`. It then merges the output together to return one array containing everything."
   ]
  },
  {
   "cell_type": "code",
   "execution_count": 78,
   "metadata": {},
   "outputs": [
    {
     "output_type": "execute_result",
     "data": {
      "text/plain": "array([[-8.33333333e-02,  2.00000000e+00],\n       [-8.33333333e-02,  1.00000000e+00],\n       [ 7.50000000e-01,  0.00000000e+00],\n       [-1.75000000e+00,  0.00000000e+00],\n       [ 1.16666667e+00,  3.00000000e+00],\n       [-4.44089210e-17,  4.00000000e+00]])"
     },
     "metadata": {},
     "execution_count": 78
    }
   ],
   "source": [
    "# code here\n",
    "\n",
    "full_pipeline.fit_transform(df)"
   ]
  },
  {
   "cell_type": "markdown",
   "metadata": {},
   "source": [
    "Try `transforming` (only) the below new test set using the `full_pipeline` above. Are the results what you expected? Answer below."
   ]
  },
  {
   "cell_type": "code",
   "execution_count": 79,
   "metadata": {},
   "outputs": [
    {
     "output_type": "execute_result",
     "data": {
      "text/plain": "     names  scores\n0   Xavier   100.0\n1  Michael     9.0\n2  Michael     NaN",
      "text/html": "<div>\n<style scoped>\n    .dataframe tbody tr th:only-of-type {\n        vertical-align: middle;\n    }\n\n    .dataframe tbody tr th {\n        vertical-align: top;\n    }\n\n    .dataframe thead th {\n        text-align: right;\n    }\n</style>\n<table border=\"1\" class=\"dataframe\">\n  <thead>\n    <tr style=\"text-align: right;\">\n      <th></th>\n      <th>names</th>\n      <th>scores</th>\n    </tr>\n  </thead>\n  <tbody>\n    <tr>\n      <th>0</th>\n      <td>Xavier</td>\n      <td>100.0</td>\n    </tr>\n    <tr>\n      <th>1</th>\n      <td>Michael</td>\n      <td>9.0</td>\n    </tr>\n    <tr>\n      <th>2</th>\n      <td>Michael</td>\n      <td>NaN</td>\n    </tr>\n  </tbody>\n</table>\n</div>"
     },
     "metadata": {},
     "execution_count": 79
    }
   ],
   "source": [
    "df_data_test = {\n",
    "    'names':['Xavier','Michael','Michael'],\n",
    "    'scores':[100,9,np.nan],\n",
    "            }\n",
    "\n",
    "df_test = pd.DataFrame(df_data_test)\n",
    "df_test"
   ]
  },
  {
   "cell_type": "code",
   "execution_count": 80,
   "metadata": {},
   "outputs": [
    {
     "output_type": "execute_result",
     "data": {
      "text/plain": "array([[ 3.95000000e+01,  4.00000000e+00],\n       [ 1.58333333e+00,  1.00000000e+00],\n       [-4.44089210e-17,  1.00000000e+00]])"
     },
     "metadata": {},
     "execution_count": 80
    }
   ],
   "source": [
    "# code here\n",
    "full_pipeline.transform(df_test)"
   ]
  },
  {
   "cell_type": "markdown",
   "metadata": {},
   "source": [
    "at the nan value the transformer has put a value where it shouldn't be"
   ]
  },
  {
   "cell_type": "markdown",
   "metadata": {},
   "source": [
    "Try now on this new  data below. Not working? Can you fix it?"
   ]
  },
  {
   "cell_type": "code",
   "execution_count": 81,
   "metadata": {},
   "outputs": [
    {
     "output_type": "execute_result",
     "data": {
      "text/plain": "     names  scores\n0   Xavier   100.0\n1  Michael     9.0\n2      NaN     NaN",
      "text/html": "<div>\n<style scoped>\n    .dataframe tbody tr th:only-of-type {\n        vertical-align: middle;\n    }\n\n    .dataframe tbody tr th {\n        vertical-align: top;\n    }\n\n    .dataframe thead th {\n        text-align: right;\n    }\n</style>\n<table border=\"1\" class=\"dataframe\">\n  <thead>\n    <tr style=\"text-align: right;\">\n      <th></th>\n      <th>names</th>\n      <th>scores</th>\n    </tr>\n  </thead>\n  <tbody>\n    <tr>\n      <th>0</th>\n      <td>Xavier</td>\n      <td>100.0</td>\n    </tr>\n    <tr>\n      <th>1</th>\n      <td>Michael</td>\n      <td>9.0</td>\n    </tr>\n    <tr>\n      <th>2</th>\n      <td>NaN</td>\n      <td>NaN</td>\n    </tr>\n  </tbody>\n</table>\n</div>"
     },
     "metadata": {},
     "execution_count": 81
    }
   ],
   "source": [
    "df_data_test2 = {\n",
    "    'names':['Xavier','Michael',np.nan],\n",
    "    'scores':[100,9,np.nan],\n",
    "            }\n",
    "\n",
    "df_test2 = pd.DataFrame(df_data_test2)\n",
    "df_test2"
   ]
  },
  {
   "cell_type": "code",
   "execution_count": 82,
   "metadata": {},
   "outputs": [
    {
     "output_type": "execute_result",
     "data": {
      "text/plain": "array([[ 1.,  1.],\n       [-1.,  0.],\n       [ 0.,  2.]])"
     },
     "metadata": {},
     "execution_count": 82
    }
   ],
   "source": [
    "full_pipeline.fit_transform(df_test2)"
   ]
  },
  {
   "cell_type": "markdown",
   "metadata": {},
   "source": [
    "we can put a simple imputer transformer in the pipeline for implement missing values"
   ]
  },
  {
   "cell_type": "markdown",
   "metadata": {},
   "source": [
    "# Customised Transformers"
   ]
  },
  {
   "cell_type": "markdown",
   "metadata": {},
   "source": [
    "In order to create custom transformers we must write our own class. It takes the form below. Try running `fit_transform()` on the dataframe `df_num2` below. What happens?"
   ]
  },
  {
   "cell_type": "code",
   "execution_count": 83,
   "metadata": {},
   "outputs": [],
   "source": [
    "# we must import these\n",
    "from sklearn.base import BaseEstimator, TransformerMixin\n",
    "\n",
    "class DontChangeAnything(BaseEstimator, TransformerMixin):\n",
    "    def __init__(self):\n",
    "        pass\n",
    "    def fit(self, X, y=None):\n",
    "        return self\n",
    "    def transform(self, X):\n",
    "        return X\n",
    "\n",
    "    "
   ]
  },
  {
   "cell_type": "code",
   "execution_count": 84,
   "metadata": {},
   "outputs": [
    {
     "output_type": "execute_result",
     "data": {
      "text/plain": "   scores\n0       1\n1       2\n2       3\n3       1\n4       2\n5       3",
      "text/html": "<div>\n<style scoped>\n    .dataframe tbody tr th:only-of-type {\n        vertical-align: middle;\n    }\n\n    .dataframe tbody tr th {\n        vertical-align: top;\n    }\n\n    .dataframe thead th {\n        text-align: right;\n    }\n</style>\n<table border=\"1\" class=\"dataframe\">\n  <thead>\n    <tr style=\"text-align: right;\">\n      <th></th>\n      <th>scores</th>\n    </tr>\n  </thead>\n  <tbody>\n    <tr>\n      <th>0</th>\n      <td>1</td>\n    </tr>\n    <tr>\n      <th>1</th>\n      <td>2</td>\n    </tr>\n    <tr>\n      <th>2</th>\n      <td>3</td>\n    </tr>\n    <tr>\n      <th>3</th>\n      <td>1</td>\n    </tr>\n    <tr>\n      <th>4</th>\n      <td>2</td>\n    </tr>\n    <tr>\n      <th>5</th>\n      <td>3</td>\n    </tr>\n  </tbody>\n</table>\n</div>"
     },
     "metadata": {},
     "execution_count": 84
    }
   ],
   "source": [
    "df_num2"
   ]
  },
  {
   "cell_type": "code",
   "execution_count": 90,
   "metadata": {},
   "outputs": [
    {
     "output_type": "execute_result",
     "data": {
      "text/plain": "   scores\n0       1\n1       2\n2       3\n3       1\n4       2\n5       3",
      "text/html": "<div>\n<style scoped>\n    .dataframe tbody tr th:only-of-type {\n        vertical-align: middle;\n    }\n\n    .dataframe tbody tr th {\n        vertical-align: top;\n    }\n\n    .dataframe thead th {\n        text-align: right;\n    }\n</style>\n<table border=\"1\" class=\"dataframe\">\n  <thead>\n    <tr style=\"text-align: right;\">\n      <th></th>\n      <th>scores</th>\n    </tr>\n  </thead>\n  <tbody>\n    <tr>\n      <th>0</th>\n      <td>1</td>\n    </tr>\n    <tr>\n      <th>1</th>\n      <td>2</td>\n    </tr>\n    <tr>\n      <th>2</th>\n      <td>3</td>\n    </tr>\n    <tr>\n      <th>3</th>\n      <td>1</td>\n    </tr>\n    <tr>\n      <th>4</th>\n      <td>2</td>\n    </tr>\n    <tr>\n      <th>5</th>\n      <td>3</td>\n    </tr>\n  </tbody>\n</table>\n</div>"
     },
     "metadata": {},
     "execution_count": 90
    }
   ],
   "source": [
    "custom = DontChangeAnything()\n",
    "\n",
    "custom.fit_transform(df_num2)"
   ]
  },
  {
   "cell_type": "markdown",
   "metadata": {},
   "source": [
    "it don't change anything"
   ]
  },
  {
   "cell_type": "markdown",
   "metadata": {},
   "source": [
    "Now try using only `fit()`. What happens? Why?"
   ]
  },
  {
   "cell_type": "code",
   "execution_count": 91,
   "metadata": {},
   "outputs": [
    {
     "output_type": "execute_result",
     "data": {
      "text/plain": "DontChangeAnything()"
     },
     "metadata": {},
     "execution_count": 91
    }
   ],
   "source": [
    "custom.fit(df_num2)"
   ]
  },
  {
   "cell_type": "markdown",
   "metadata": {},
   "source": [
    "it shows the name of the transformer"
   ]
  },
  {
   "cell_type": "markdown",
   "metadata": {},
   "source": [
    "Make a copy of the transformer class above. Edit it to return the `.describe()` of the dataframe only."
   ]
  },
  {
   "cell_type": "code",
   "execution_count": 93,
   "metadata": {},
   "outputs": [
    {
     "output_type": "execute_result",
     "data": {
      "text/plain": "         scores\ncount  6.000000\nmean   2.000000\nstd    0.894427\nmin    1.000000\n25%    1.250000\n50%    2.000000\n75%    2.750000\nmax    3.000000",
      "text/html": "<div>\n<style scoped>\n    .dataframe tbody tr th:only-of-type {\n        vertical-align: middle;\n    }\n\n    .dataframe tbody tr th {\n        vertical-align: top;\n    }\n\n    .dataframe thead th {\n        text-align: right;\n    }\n</style>\n<table border=\"1\" class=\"dataframe\">\n  <thead>\n    <tr style=\"text-align: right;\">\n      <th></th>\n      <th>scores</th>\n    </tr>\n  </thead>\n  <tbody>\n    <tr>\n      <th>count</th>\n      <td>6.000000</td>\n    </tr>\n    <tr>\n      <th>mean</th>\n      <td>2.000000</td>\n    </tr>\n    <tr>\n      <th>std</th>\n      <td>0.894427</td>\n    </tr>\n    <tr>\n      <th>min</th>\n      <td>1.000000</td>\n    </tr>\n    <tr>\n      <th>25%</th>\n      <td>1.250000</td>\n    </tr>\n    <tr>\n      <th>50%</th>\n      <td>2.000000</td>\n    </tr>\n    <tr>\n      <th>75%</th>\n      <td>2.750000</td>\n    </tr>\n    <tr>\n      <th>max</th>\n      <td>3.000000</td>\n    </tr>\n  </tbody>\n</table>\n</div>"
     },
     "metadata": {},
     "execution_count": 93
    }
   ],
   "source": [
    "class DontChangeAnything_copy(BaseEstimator, TransformerMixin):\n",
    "    def __init__(self):\n",
    "        pass\n",
    "    def fit(self, X, y=None):\n",
    "        return X.describe()\n",
    "    def transform(self, X):\n",
    "        return X\n",
    "\n",
    "custom_copy = DontChangeAnything_copy()\n",
    "\n",
    "custom_copy.fit(df_num2)"
   ]
  },
  {
   "cell_type": "markdown",
   "metadata": {},
   "source": [
    "# Edit your own custom transformer\n",
    "\n",
    "Copy the `DontChangeAnything` transformer. Assuming that its input will be a numpy array - edit it so that the numpy array is put into a dataframe which is returned. Test it on the array data below. "
   ]
  },
  {
   "cell_type": "code",
   "execution_count": 88,
   "metadata": {},
   "outputs": [
    {
     "output_type": "execute_result",
     "data": {
      "text/plain": "array([['Xavier', 100.0],\n       ['Michael', 9.0],\n       [nan, nan]], dtype=object)"
     },
     "metadata": {},
     "execution_count": 88
    }
   ],
   "source": [
    "array = np.array(df_test2)\n",
    "array"
   ]
  },
  {
   "cell_type": "code",
   "execution_count": 94,
   "metadata": {},
   "outputs": [
    {
     "output_type": "execute_result",
     "data": {
      "text/plain": "         0    1\n0   Xavier  100\n1  Michael    9\n2      NaN  NaN",
      "text/html": "<div>\n<style scoped>\n    .dataframe tbody tr th:only-of-type {\n        vertical-align: middle;\n    }\n\n    .dataframe tbody tr th {\n        vertical-align: top;\n    }\n\n    .dataframe thead th {\n        text-align: right;\n    }\n</style>\n<table border=\"1\" class=\"dataframe\">\n  <thead>\n    <tr style=\"text-align: right;\">\n      <th></th>\n      <th>0</th>\n      <th>1</th>\n    </tr>\n  </thead>\n  <tbody>\n    <tr>\n      <th>0</th>\n      <td>Xavier</td>\n      <td>100</td>\n    </tr>\n    <tr>\n      <th>1</th>\n      <td>Michael</td>\n      <td>9</td>\n    </tr>\n    <tr>\n      <th>2</th>\n      <td>NaN</td>\n      <td>NaN</td>\n    </tr>\n  </tbody>\n</table>\n</div>"
     },
     "metadata": {},
     "execution_count": 94
    }
   ],
   "source": [
    "class DontChangeAnything_copy2(BaseEstimator, TransformerMixin):\n",
    "    def __init__(self):\n",
    "        pass\n",
    "    def fit(self, X, y=None):\n",
    "        return self\n",
    "    def transform(self, X):\n",
    "        X = pd.DataFrame(X)\n",
    "        return X\n",
    "\n",
    "custom2 = DontChangeAnything_copy2()\n",
    "\n",
    "custom2.fit_transform(array)"
   ]
  },
  {
   "cell_type": "markdown",
   "metadata": {},
   "source": [
    "##### Congratulations! You have reached the end of this notebook! At this point you should be able to use Transformers and Pipelines to tackle new exercises!"
   ]
  },
  {
   "cell_type": "code",
   "execution_count": null,
   "metadata": {},
   "outputs": [],
   "source": []
  }
 ],
 "metadata": {
  "kernelspec": {
   "display_name": "Python 3",
   "language": "python",
   "name": "python3"
  },
  "language_info": {
   "codemirror_mode": {
    "name": "ipython",
    "version": 3
   },
   "file_extension": ".py",
   "mimetype": "text/x-python",
   "name": "python",
   "nbconvert_exporter": "python",
   "pygments_lexer": "ipython3",
   "version": "3.7.6-final"
  }
 },
 "nbformat": 4,
 "nbformat_minor": 4
}